{
  "nbformat": 4,
  "nbformat_minor": 0,
  "metadata": {
    "colab": {
      "name": "Analytics Vidhya Big Mart Problem.ipynb",
      "provenance": [],
      "authorship_tag": "ABX9TyMhavLAjnGMyBw78JGGP1Nt",
      "include_colab_link": true
    },
    "kernelspec": {
      "name": "python3",
      "display_name": "Python 3"
    }
  },
  "cells": [
    {
      "cell_type": "markdown",
      "metadata": {
        "id": "view-in-github",
        "colab_type": "text"
      },
      "source": [
        "<a href=\"https://colab.research.google.com/github/123nishant/Google-Colab/blob/master/Analytics_Vidhya_Big_Mart_Problem.ipynb\" target=\"_parent\"><img src=\"https://colab.research.google.com/assets/colab-badge.svg\" alt=\"Open In Colab\"/></a>"
      ]
    },
    {
      "cell_type": "markdown",
      "metadata": {
        "id": "ndewxXXyVymJ"
      },
      "source": [
        "# PROBLEM STATEMENT : https://datahack.analyticsvidhya.com/contest/practice-problem-big-mart-sales-iii/"
      ]
    },
    {
      "cell_type": "code",
      "metadata": {
        "id": "re1VrPktURCR"
      },
      "source": [
        "import matplotlib.pyplot as plt\n",
        "import pandas as pd\n",
        "import numpy as np\n",
        "import seaborn as sns\n",
        "\n",
        "import warnings\n",
        "warnings.filterwarnings('always')\n",
        "warnings.filterwarnings('ignore')"
      ],
      "execution_count": 1,
      "outputs": []
    },
    {
      "cell_type": "code",
      "metadata": {
        "id": "CXYyAXPTNXs-"
      },
      "source": [
        "from sklearn.model_selection import train_test_split\n",
        "from sklearn.preprocessing import LabelEncoder\n",
        "from sklearn import metrics\n",
        "from sklearn.linear_model import LinearRegression"
      ],
      "execution_count": 2,
      "outputs": []
    },
    {
      "cell_type": "code",
      "metadata": {
        "id": "K8HTwWM5VWDV"
      },
      "source": [
        "train =  pd.read_csv('train_v9rqX0R.csv')\n",
        "test = pd.read_csv('test_AbJTz2l.csv')"
      ],
      "execution_count": 3,
      "outputs": []
    },
    {
      "cell_type": "code",
      "metadata": {
        "colab": {
          "base_uri": "https://localhost:8080/"
        },
        "id": "PETQue0TWxGE",
        "outputId": "9d688faf-3380-4f11-de7a-9b19db06885c"
      },
      "source": [
        "train.shape, test.shape"
      ],
      "execution_count": 4,
      "outputs": [
        {
          "output_type": "execute_result",
          "data": {
            "text/plain": [
              "((8523, 12), (5681, 11))"
            ]
          },
          "metadata": {
            "tags": []
          },
          "execution_count": 4
        }
      ]
    },
    {
      "cell_type": "code",
      "metadata": {
        "colab": {
          "base_uri": "https://localhost:8080/"
        },
        "id": "09zT2dKDW7QI",
        "outputId": "7d215e4b-f569-4f0a-85db-3e18be5443dd"
      },
      "source": [
        "# Checking the percentage of empty values in train\n",
        "train.isnull().sum() / train.shape[0] * 100 "
      ],
      "execution_count": 5,
      "outputs": [
        {
          "output_type": "execute_result",
          "data": {
            "text/plain": [
              "Item_Identifier               0.000000\n",
              "Item_Weight                  17.165317\n",
              "Item_Fat_Content              0.000000\n",
              "Item_Visibility               0.000000\n",
              "Item_Type                     0.000000\n",
              "Item_MRP                      0.000000\n",
              "Outlet_Identifier             0.000000\n",
              "Outlet_Establishment_Year     0.000000\n",
              "Outlet_Size                  28.276428\n",
              "Outlet_Location_Type          0.000000\n",
              "Outlet_Type                   0.000000\n",
              "Item_Outlet_Sales             0.000000\n",
              "dtype: float64"
            ]
          },
          "metadata": {
            "tags": []
          },
          "execution_count": 5
        }
      ]
    },
    {
      "cell_type": "code",
      "metadata": {
        "colab": {
          "base_uri": "https://localhost:8080/"
        },
        "id": "v5gMeUz-XEjB",
        "outputId": "920b545d-ed8e-4b06-a2be-51bd2bf8d313"
      },
      "source": [
        "# Checking percentage of empty values in test\n",
        "test.isnull().sum() / test.shape[0] * 100"
      ],
      "execution_count": 6,
      "outputs": [
        {
          "output_type": "execute_result",
          "data": {
            "text/plain": [
              "Item_Identifier               0.000000\n",
              "Item_Weight                  17.180074\n",
              "Item_Fat_Content              0.000000\n",
              "Item_Visibility               0.000000\n",
              "Item_Type                     0.000000\n",
              "Item_MRP                      0.000000\n",
              "Outlet_Identifier             0.000000\n",
              "Outlet_Establishment_Year     0.000000\n",
              "Outlet_Size                  28.269671\n",
              "Outlet_Location_Type          0.000000\n",
              "Outlet_Type                   0.000000\n",
              "dtype: float64"
            ]
          },
          "metadata": {
            "tags": []
          },
          "execution_count": 6
        }
      ]
    },
    {
      "cell_type": "markdown",
      "metadata": {
        "id": "hSKF9JlBc9En"
      },
      "source": [
        "**Missing values present in Item_Weight and Outlet_Size**"
      ]
    },
    {
      "cell_type": "code",
      "metadata": {
        "colab": {
          "base_uri": "https://localhost:8080/"
        },
        "id": "ewi-owLkc7KV",
        "outputId": "dc9cf4e4-de31-4bb1-eb71-c8adb60222b2"
      },
      "source": [
        "# Categorical Features \n",
        "\n",
        "categorical = train.select_dtypes(include = [np.object])\n",
        "print(\"Categorical Features in Train Set : \", categorical.shape[1])\n",
        "\n",
        "# Numerical Features\n",
        "numerical = train.select_dtypes(include = [np.float64, np.int64])\n",
        "print(\"Numerical Features in Train Set : \", numerical.shape[1])"
      ],
      "execution_count": 7,
      "outputs": [
        {
          "output_type": "stream",
          "text": [
            "Categorical Features in Train Set :  7\n",
            "Numerical Features in Train Set :  5\n"
          ],
          "name": "stdout"
        }
      ]
    },
    {
      "cell_type": "code",
      "metadata": {
        "colab": {
          "base_uri": "https://localhost:8080/"
        },
        "id": "3QuuE-CEduih",
        "outputId": "377769af-892b-41c6-b851-47c6f46be174"
      },
      "source": [
        "# Categorical Features \n",
        "categorical = test.select_dtypes(include = [np.object])\n",
        "print ( \"Categorical Features in Test set : \", categorical.shape[0])\n",
        "\n",
        "# Numerical Features \n",
        "numerical = test.select_dtypes(include = [np.float64, np.int64])\n",
        "print(\"Numerical Features in Test Set :\", numerical.shape[1])"
      ],
      "execution_count": 8,
      "outputs": [
        {
          "output_type": "stream",
          "text": [
            "Categorical Features in Test set :  5681\n",
            "Numerical Features in Test Set : 4\n"
          ],
          "name": "stdout"
        }
      ]
    },
    {
      "cell_type": "markdown",
      "metadata": {
        "id": "DsGOghNkiLOX"
      },
      "source": [
        "# Cleaning Data\n"
      ]
    },
    {
      "cell_type": "markdown",
      "metadata": {
        "id": "WKywE2LqiQOL"
      },
      "source": [
        "### Item Weight"
      ]
    },
    {
      "cell_type": "code",
      "metadata": {
        "colab": {
          "base_uri": "https://localhost:8080/",
          "height": 352
        },
        "id": "DJ7_z8QeiDWh",
        "outputId": "5ba66425-89c6-4f36-c8cc-e6dd8deb0007"
      },
      "source": [
        "plt.figure(figsize = (8, 5))\n",
        "sns.boxplot('Item_Weight', data = train)"
      ],
      "execution_count": 9,
      "outputs": [
        {
          "output_type": "execute_result",
          "data": {
            "text/plain": [
              "<matplotlib.axes._subplots.AxesSubplot at 0x7f570ab75410>"
            ]
          },
          "metadata": {
            "tags": []
          },
          "execution_count": 9
        },
        {
          "output_type": "display_data",
          "data": {
            "image/png": "[encoded data removed]",
            "text/plain": [
              "<Figure size 576x360 with 1 Axes>"
            ]
          },
          "metadata": {
            "tags": [],
            "needs_background": "light"
          }
        }
      ]
    },
    {
      "cell_type": "code",
      "metadata": {
        "colab": {
          "base_uri": "https://localhost:8080/",
          "height": 352
        },
        "id": "NYtmCIHaiX4p",
        "outputId": "fa18cdb1-1459-4266-98e4-9a8295ccc95a"
      },
      "source": [
        "plt.figure(figsize = (8, 5))\n",
        "sns.boxplot('Item_Weight', data = test)"
      ],
      "execution_count": 10,
      "outputs": [
        {
          "output_type": "execute_result",
          "data": {
            "text/plain": [
              "<matplotlib.axes._subplots.AxesSubplot at 0x7f5709923590>"
            ]
          },
          "metadata": {
            "tags": []
          },
          "execution_count": 10
        },
        {
          "output_type": "display_data",
          "data": {
            "image/png": "[encoded data removed]",
            "text/plain": [
              "<Figure size 576x360 with 1 Axes>"
            ]
          },
          "metadata": {
            "tags": [],
            "needs_background": "light"
          }
        }
      ]
    },
    {
      "cell_type": "markdown",
      "metadata": {
        "id": "Hr2fvTXnidvV"
      },
      "source": [
        "Box Plot has no outliers. Hence we can replace the missing values with the mean value"
      ]
    },
    {
      "cell_type": "code",
      "metadata": {
        "id": "9WTcHqdBib4U"
      },
      "source": [
        "train['Item_Weight'] = train['Item_Weight'].fillna(train['Item_Weight'].mean())\n",
        "test['Item_Weight'] = test['Item_Weight'].fillna(test['Item_Weight'].mean())"
      ],
      "execution_count": 11,
      "outputs": []
    },
    {
      "cell_type": "code",
      "metadata": {
        "colab": {
          "base_uri": "https://localhost:8080/"
        },
        "id": "oIelhXnTizK6",
        "outputId": "acc673bf-f06c-4e74-8cd3-2efc30e0fda8"
      },
      "source": [
        "train['Item_Weight'].isnull().sum(), test['Item_Weight'].isnull().sum()"
      ],
      "execution_count": 12,
      "outputs": [
        {
          "output_type": "execute_result",
          "data": {
            "text/plain": [
              "(0, 0)"
            ]
          },
          "metadata": {
            "tags": []
          },
          "execution_count": 12
        }
      ]
    },
    {
      "cell_type": "markdown",
      "metadata": {
        "id": "GvmXByMCj9by"
      },
      "source": [
        "### Outlet Size\n"
      ]
    },
    {
      "cell_type": "code",
      "metadata": {
        "colab": {
          "base_uri": "https://localhost:8080/"
        },
        "id": "mZ9pVdzSjsU8",
        "outputId": "2b630ac8-ba82-4993-cea9-6f28c338f841"
      },
      "source": [
        "train['Outlet_Size'].isnull().sum(), test['Outlet_Size'].isnull().sum()"
      ],
      "execution_count": 13,
      "outputs": [
        {
          "output_type": "execute_result",
          "data": {
            "text/plain": [
              "(2410, 1606)"
            ]
          },
          "metadata": {
            "tags": []
          },
          "execution_count": 13
        }
      ]
    },
    {
      "cell_type": "code",
      "metadata": {
        "colab": {
          "base_uri": "https://localhost:8080/"
        },
        "id": "P9jco2rYkMSg",
        "outputId": "93ff91c9-e6c5-46ee-8374-10d6df6efa7e"
      },
      "source": [
        "print(train['Outlet_Size'].value_counts())\n",
        "print('************************************************')\n",
        "print(test['Outlet_Size'].value_counts())"
      ],
      "execution_count": 14,
      "outputs": [
        {
          "output_type": "stream",
          "text": [
            "Medium    2793\n",
            "Small     2388\n",
            "High       932\n",
            "Name: Outlet_Size, dtype: int64\n",
            "************************************************\n",
            "Medium    1862\n",
            "Small     1592\n",
            "High       621\n",
            "Name: Outlet_Size, dtype: int64\n"
          ],
          "name": "stdout"
        }
      ]
    },
    {
      "cell_type": "markdown",
      "metadata": {
        "id": "NyHljO2Tkb2-"
      },
      "source": [
        "**Since the outlet size is a Categorical Column, we can impute the missing values by 'MODE' (Most Repeated Value) from the column**"
      ]
    },
    {
      "cell_type": "code",
      "metadata": {
        "id": "IwWEITbWkZr3"
      },
      "source": [
        "train['Outlet_Size'] = train['Outlet_Size'].fillna(train['Outlet_Size'].mode()[0])\n",
        "test['Outlet_Size'] = test['Outlet_Size'].fillna(test['Outlet_Size'].mode()[0])"
      ],
      "execution_count": 15,
      "outputs": []
    },
    {
      "cell_type": "markdown",
      "metadata": {
        "id": "zj_eZ7wzps8K"
      },
      "source": [
        "Successfully Imputed the missing values in teh categorical column Outlet_Size"
      ]
    },
    {
      "cell_type": "markdown",
      "metadata": {
        "id": "DKCUTqD4p72f"
      },
      "source": [
        "## EDA"
      ]
    },
    {
      "cell_type": "code",
      "metadata": {
        "colab": {
          "base_uri": "https://localhost:8080/"
        },
        "id": "ldrSoXVPpqsK",
        "outputId": "b8c67e32-84c9-45ae-8127-8b72ee4c2139"
      },
      "source": [
        "train.columns"
      ],
      "execution_count": 16,
      "outputs": [
        {
          "output_type": "execute_result",
          "data": {
            "text/plain": [
              "Index(['Item_Identifier', 'Item_Weight', 'Item_Fat_Content', 'Item_Visibility',\n",
              "       'Item_Type', 'Item_MRP', 'Outlet_Identifier',\n",
              "       'Outlet_Establishment_Year', 'Outlet_Size', 'Outlet_Location_Type',\n",
              "       'Outlet_Type', 'Item_Outlet_Sales'],\n",
              "      dtype='object')"
            ]
          },
          "metadata": {
            "tags": []
          },
          "execution_count": 16
        }
      ]
    },
    {
      "cell_type": "code",
      "metadata": {
        "colab": {
          "base_uri": "https://localhost:8080/",
          "height": 313
        },
        "id": "G5ohDaVip-eI",
        "outputId": "2c6c4602-db79-4de8-87a2-594b6903d808"
      },
      "source": [
        "train.head()"
      ],
      "execution_count": 17,
      "outputs": [
        {
          "output_type": "execute_result",
          "data": {
            "text/html": [
              "<div>\n",
              "<style scoped>\n",
              "    .dataframe tbody tr th:only-of-type {\n",
              "        vertical-align: middle;\n",
              "    }\n",
              "\n",
              "    .dataframe tbody tr th {\n",
              "        vertical-align: top;\n",
              "    }\n",
              "\n",
              "    .dataframe thead th {\n",
              "        text-align: right;\n",
              "    }\n",
              "</style>\n",
              "<table border=\"1\" class=\"dataframe\">\n",
              "  <thead>\n",
              "    <tr style=\"text-align: right;\">\n",
              "      <th></th>\n",
              "      <th>Item_Identifier</th>\n",
              "      <th>Item_Weight</th>\n",
              "      <th>Item_Fat_Content</th>\n",
              "      <th>Item_Visibility</th>\n",
              "      <th>Item_Type</th>\n",
              "      <th>Item_MRP</th>\n",
              "      <th>Outlet_Identifier</th>\n",
              "      <th>Outlet_Establishment_Year</th>\n",
              "      <th>Outlet_Size</th>\n",
              "      <th>Outlet_Location_Type</th>\n",
              "      <th>Outlet_Type</th>\n",
              "      <th>Item_Outlet_Sales</th>\n",
              "    </tr>\n",
              "  </thead>\n",
              "  <tbody>\n",
              "    <tr>\n",
              "      <th>0</th>\n",
              "      <td>FDA15</td>\n",
              "      <td>9.30</td>\n",
              "      <td>Low Fat</td>\n",
              "      <td>0.016047</td>\n",
              "      <td>Dairy</td>\n",
              "      <td>249.8092</td>\n",
              "      <td>OUT049</td>\n",
              "      <td>1999</td>\n",
              "      <td>Medium</td>\n",
              "      <td>Tier 1</td>\n",
              "      <td>Supermarket Type1</td>\n",
              "      <td>3735.1380</td>\n",
              "    </tr>\n",
              "    <tr>\n",
              "      <th>1</th>\n",
              "      <td>DRC01</td>\n",
              "      <td>5.92</td>\n",
              "      <td>Regular</td>\n",
              "      <td>0.019278</td>\n",
              "      <td>Soft Drinks</td>\n",
              "      <td>48.2692</td>\n",
              "      <td>OUT018</td>\n",
              "      <td>2009</td>\n",
              "      <td>Medium</td>\n",
              "      <td>Tier 3</td>\n",
              "      <td>Supermarket Type2</td>\n",
              "      <td>443.4228</td>\n",
              "    </tr>\n",
              "    <tr>\n",
              "      <th>2</th>\n",
              "      <td>FDN15</td>\n",
              "      <td>17.50</td>\n",
              "      <td>Low Fat</td>\n",
              "      <td>0.016760</td>\n",
              "      <td>Meat</td>\n",
              "      <td>141.6180</td>\n",
              "      <td>OUT049</td>\n",
              "      <td>1999</td>\n",
              "      <td>Medium</td>\n",
              "      <td>Tier 1</td>\n",
              "      <td>Supermarket Type1</td>\n",
              "      <td>2097.2700</td>\n",
              "    </tr>\n",
              "    <tr>\n",
              "      <th>3</th>\n",
              "      <td>FDX07</td>\n",
              "      <td>19.20</td>\n",
              "      <td>Regular</td>\n",
              "      <td>0.000000</td>\n",
              "      <td>Fruits and Vegetables</td>\n",
              "      <td>182.0950</td>\n",
              "      <td>OUT010</td>\n",
              "      <td>1998</td>\n",
              "      <td>Medium</td>\n",
              "      <td>Tier 3</td>\n",
              "      <td>Grocery Store</td>\n",
              "      <td>732.3800</td>\n",
              "    </tr>\n",
              "    <tr>\n",
              "      <th>4</th>\n",
              "      <td>NCD19</td>\n",
              "      <td>8.93</td>\n",
              "      <td>Low Fat</td>\n",
              "      <td>0.000000</td>\n",
              "      <td>Household</td>\n",
              "      <td>53.8614</td>\n",
              "      <td>OUT013</td>\n",
              "      <td>1987</td>\n",
              "      <td>High</td>\n",
              "      <td>Tier 3</td>\n",
              "      <td>Supermarket Type1</td>\n",
              "      <td>994.7052</td>\n",
              "    </tr>\n",
              "  </tbody>\n",
              "</table>\n",
              "</div>"
            ],
            "text/plain": [
              "  Item_Identifier  Item_Weight  ...        Outlet_Type  Item_Outlet_Sales\n",
              "0           FDA15         9.30  ...  Supermarket Type1          3735.1380\n",
              "1           DRC01         5.92  ...  Supermarket Type2           443.4228\n",
              "2           FDN15        17.50  ...  Supermarket Type1          2097.2700\n",
              "3           FDX07        19.20  ...      Grocery Store           732.3800\n",
              "4           NCD19         8.93  ...  Supermarket Type1           994.7052\n",
              "\n",
              "[5 rows x 12 columns]"
            ]
          },
          "metadata": {
            "tags": []
          },
          "execution_count": 17
        }
      ]
    },
    {
      "cell_type": "code",
      "metadata": {
        "colab": {
          "base_uri": "https://localhost:8080/"
        },
        "id": "_TXo36tkp_yE",
        "outputId": "ba11e8f2-92e8-4f2e-c5e0-4e1536c7c446"
      },
      "source": [
        "train['Item_Fat_Content'].value_counts()"
      ],
      "execution_count": 18,
      "outputs": [
        {
          "output_type": "execute_result",
          "data": {
            "text/plain": [
              "Low Fat    5089\n",
              "Regular    2889\n",
              "LF          316\n",
              "reg         117\n",
              "low fat     112\n",
              "Name: Item_Fat_Content, dtype: int64"
            ]
          },
          "metadata": {
            "tags": []
          },
          "execution_count": 18
        }
      ]
    },
    {
      "cell_type": "code",
      "metadata": {
        "id": "eslrq4jEqHBq"
      },
      "source": [
        "train['Item_Fat_Content'].replace(['low fat', 'LF', 'reg'],['Low Fat', 'Low Fat', 'Regular'],inplace = True)\n",
        "test['Item_Fat_Content'].replace(['low fat', 'LF', 'reg'],['Low Fat', 'Low Fat', 'Regular'],inplace = True)"
      ],
      "execution_count": 19,
      "outputs": []
    },
    {
      "cell_type": "code",
      "metadata": {
        "id": "ISp8nRv3qZ9W"
      },
      "source": [
        "train['Item_Fat_Content'] = train['Item_Fat_Content'].astype(str)"
      ],
      "execution_count": 20,
      "outputs": []
    },
    {
      "cell_type": "code",
      "metadata": {
        "colab": {
          "base_uri": "https://localhost:8080/",
          "height": 352
        },
        "id": "5dtghZnoq5Uo",
        "outputId": "fad5164c-bafd-483c-b2df-3956357333e4"
      },
      "source": [
        "plt.figure(figsize = (8, 5))\n",
        "sns.countplot('Item_Fat_Content', data = train, palette = 'ocean')"
      ],
      "execution_count": 21,
      "outputs": [
        {
          "output_type": "execute_result",
          "data": {
            "text/plain": [
              "<matplotlib.axes._subplots.AxesSubplot at 0x7f570942c350>"
            ]
          },
          "metadata": {
            "tags": []
          },
          "execution_count": 21
        },
        {
          "output_type": "display_data",
          "data": {
            "image/png": "[encoded data removed]",
            "text/plain": [
              "<Figure size 576x360 with 1 Axes>"
            ]
          },
          "metadata": {
            "tags": [],
            "needs_background": "light"
          }
        }
      ]
    },
    {
      "cell_type": "markdown",
      "metadata": {
        "id": "Ze6pPBeqrUmi"
      },
      "source": [
        "**Items bought are more of Low Fat**"
      ]
    },
    {
      "cell_type": "code",
      "metadata": {
        "colab": {
          "base_uri": "https://localhost:8080/",
          "height": 280
        },
        "id": "nQNB_RAtrQC4",
        "outputId": "a45315ba-3c0f-4541-f124-33a7f2bae758"
      },
      "source": [
        "plt.figure(figsize = (25, 7))\n",
        "sns.countplot('Item_Type', data = train, palette = 'spring')"
      ],
      "execution_count": 22,
      "outputs": [
        {
          "output_type": "execute_result",
          "data": {
            "text/plain": [
              "<matplotlib.axes._subplots.AxesSubplot at 0x7f5709357f10>"
            ]
          },
          "metadata": {
            "tags": []
          },
          "execution_count": 22
        },
        {
          "output_type": "display_data",
          "data": {
            "image/png": "[encoded data removed]",
            "text/plain": [
              "<Figure size 1800x504 with 1 Axes>"
            ]
          },
          "metadata": {
            "tags": [],
            "needs_background": "light"
          }
        }
      ]
    },
    {
      "cell_type": "markdown",
      "metadata": {
        "id": "aE51zYfbrm2B"
      },
      "source": [
        "### 'Fruits and Vegetables' are largely sold\n",
        "### Snack Foods have good sales. "
      ]
    },
    {
      "cell_type": "code",
      "metadata": {
        "colab": {
          "base_uri": "https://localhost:8080/",
          "height": 352
        },
        "id": "QnFtrKpwrf46",
        "outputId": "d5eb22ca-2229-491c-cca8-a06c129c0362"
      },
      "source": [
        "plt.figure(figsize = (8, 5))\n",
        "sns.countplot('Outlet_Size', data = train, palette = 'summer')"
      ],
      "execution_count": 23,
      "outputs": [
        {
          "output_type": "execute_result",
          "data": {
            "text/plain": [
              "<matplotlib.axes._subplots.AxesSubplot at 0x7f57092a2590>"
            ]
          },
          "metadata": {
            "tags": []
          },
          "execution_count": 23
        },
        {
          "output_type": "display_data",
          "data": {
            "image/png": "[encoded data removed]",
            "text/plain": [
              "<Figure size 576x360 with 1 Axes>"
            ]
          },
          "metadata": {
            "tags": [],
            "needs_background": "light"
          }
        }
      ]
    },
    {
      "cell_type": "markdown",
      "metadata": {
        "id": "5zW8oCAXtmPd"
      },
      "source": [
        "## The outlets are of Medium Size"
      ]
    },
    {
      "cell_type": "code",
      "metadata": {
        "colab": {
          "base_uri": "https://localhost:8080/",
          "height": 354
        },
        "id": "GCHDC8HHsHSG",
        "outputId": "13a4ef68-b83c-463e-c3d1-a0cda4c66ced"
      },
      "source": [
        "plt.figure(figsize = (8, 5))\n",
        "sns.countplot('Outlet_Location_Type', data = train, palette = 'autumn')"
      ],
      "execution_count": 24,
      "outputs": [
        {
          "output_type": "execute_result",
          "data": {
            "text/plain": [
              "<matplotlib.axes._subplots.AxesSubplot at 0x7f5709304c10>"
            ]
          },
          "metadata": {
            "tags": []
          },
          "execution_count": 24
        },
        {
          "output_type": "display_data",
          "data": {
            "image/png": "[encoded data removed]",
            "text/plain": [
              "<Figure size 576x360 with 1 Axes>"
            ]
          },
          "metadata": {
            "tags": [],
            "needs_background": "light"
          }
        }
      ]
    },
    {
      "cell_type": "markdown",
      "metadata": {
        "id": "UxNVi-mmwU-C"
      },
      "source": [
        "**Outlets are maximum in Number 3 Cities**"
      ]
    },
    {
      "cell_type": "code",
      "metadata": {
        "colab": {
          "base_uri": "https://localhost:8080/",
          "height": 352
        },
        "id": "3q3mfMYHwJXt",
        "outputId": "a4d6751f-a790-4792-87dc-cb7bcfc64086"
      },
      "source": [
        "plt.figure(figsize = (8, 5))\n",
        "sns.countplot('Outlet_Type', data = train, palette = 'twilight')"
      ],
      "execution_count": 25,
      "outputs": [
        {
          "output_type": "execute_result",
          "data": {
            "text/plain": [
              "<matplotlib.axes._subplots.AxesSubplot at 0x7f57092ffd90>"
            ]
          },
          "metadata": {
            "tags": []
          },
          "execution_count": 25
        },
        {
          "output_type": "display_data",
          "data": {
            "image/png": "[encoded data removed]",
            "text/plain": [
              "<Figure size 576x360 with 1 Axes>"
            ]
          },
          "metadata": {
            "tags": [],
            "needs_background": "light"
          }
        }
      ]
    },
    {
      "cell_type": "markdown",
      "metadata": {
        "id": "gmXbhIOjwswD"
      },
      "source": [
        "**Outlets are more of Supermarket Type1**"
      ]
    },
    {
      "cell_type": "code",
      "metadata": {
        "colab": {
          "base_uri": "https://localhost:8080/"
        },
        "id": "OU8r9eXww0AY",
        "outputId": "4c2c52bf-9786-470f-e0f4-0efe8a58bbdd"
      },
      "source": [
        "train.columns"
      ],
      "execution_count": 26,
      "outputs": [
        {
          "output_type": "execute_result",
          "data": {
            "text/plain": [
              "Index(['Item_Identifier', 'Item_Weight', 'Item_Fat_Content', 'Item_Visibility',\n",
              "       'Item_Type', 'Item_MRP', 'Outlet_Identifier',\n",
              "       'Outlet_Establishment_Year', 'Outlet_Size', 'Outlet_Location_Type',\n",
              "       'Outlet_Type', 'Item_Outlet_Sales'],\n",
              "      dtype='object')"
            ]
          },
          "metadata": {
            "tags": []
          },
          "execution_count": 26
        }
      ]
    },
    {
      "cell_type": "code",
      "metadata": {
        "colab": {
          "base_uri": "https://localhost:8080/",
          "height": 515
        },
        "id": "UHstyV2uwnqs",
        "outputId": "b0e495ef-c0ae-460b-f3d9-865b724b11e5"
      },
      "source": [
        "plt.figure(figsize = (10, 8))\n",
        "sns.barplot(y = 'Item_Type', x = 'Item_Outlet_Sales', data = train, palette = 'flag')"
      ],
      "execution_count": 27,
      "outputs": [
        {
          "output_type": "execute_result",
          "data": {
            "text/plain": [
              "<matplotlib.axes._subplots.AxesSubplot at 0x7f57092fff10>"
            ]
          },
          "metadata": {
            "tags": []
          },
          "execution_count": 27
        },
        {
          "output_type": "display_data",
          "data": {
            "image/png": "[encoded data removed]",
            "text/plain": [
              "<Figure size 720x576 with 1 Axes>"
            ]
          },
          "metadata": {
            "tags": [],
            "needs_background": "light"
          }
        }
      ]
    },
    {
      "cell_type": "markdown",
      "metadata": {
        "id": "0QHFPc32yk5L"
      },
      "source": [
        "**Products were Fruit Veggies and Snack Foods but the sales of Seafood and Starchy by Foods seems higher and hence hte sales can be improved with having stock of products that are most bought by customers**"
      ]
    },
    {
      "cell_type": "markdown",
      "metadata": {
        "id": "gWJWgwHny789"
      },
      "source": [
        "## Feature Engineering"
      ]
    },
    {
      "cell_type": "markdown",
      "metadata": {
        "id": "Deia5AQXy9_J"
      },
      "source": [
        "**Determine years of operation of a store**"
      ]
    },
    {
      "cell_type": "code",
      "metadata": {
        "id": "6y8xB2PAxJf-"
      },
      "source": [
        "# Years : \n",
        "train['Outlet_Years'] = 2021 - train['Outlet_Establishment_Year']\n",
        "test['Outlet_Years'] = 2021 - test['Outlet_Establishment_Year']"
      ],
      "execution_count": 28,
      "outputs": []
    },
    {
      "cell_type": "markdown",
      "metadata": {
        "id": "_mNwS4CEzTvw"
      },
      "source": [
        "**Create broad category of type of item**"
      ]
    },
    {
      "cell_type": "code",
      "metadata": {
        "colab": {
          "base_uri": "https://localhost:8080/"
        },
        "id": "hRuDOPiDz_pH",
        "outputId": "f96b96a8-52de-490f-cc71-0d2136caa851"
      },
      "source": [
        "train['Item_Identifier'].value_counts()"
      ],
      "execution_count": 29,
      "outputs": [
        {
          "output_type": "execute_result",
          "data": {
            "text/plain": [
              "FDG33    10\n",
              "FDW13    10\n",
              "FDP25     9\n",
              "NCJ30     9\n",
              "FDW49     9\n",
              "         ..\n",
              "FDN52     1\n",
              "FDE52     1\n",
              "FDT35     1\n",
              "FDY43     1\n",
              "FDK57     1\n",
              "Name: Item_Identifier, Length: 1559, dtype: int64"
            ]
          },
          "metadata": {
            "tags": []
          },
          "execution_count": 29
        }
      ]
    },
    {
      "cell_type": "code",
      "metadata": {
        "id": "iEAhEwu4z80r"
      },
      "source": [
        "# Taking only 1st 2 characters\n",
        "train['Item_Type_Combined'] = train['Item_Identifier'].apply(lambda x: x[0:2])\n"
      ],
      "execution_count": 30,
      "outputs": []
    },
    {
      "cell_type": "code",
      "metadata": {
        "colab": {
          "base_uri": "https://localhost:8080/"
        },
        "id": "fMjPqX5q0EPk",
        "outputId": "cc58e6f2-e18e-4573-fdfc-b2e07ae3f3d6"
      },
      "source": [
        "train['Item_Type_Combined'].value_counts()"
      ],
      "execution_count": 31,
      "outputs": [
        {
          "output_type": "execute_result",
          "data": {
            "text/plain": [
              "FD    6125\n",
              "NC    1599\n",
              "DR     799\n",
              "Name: Item_Type_Combined, dtype: int64"
            ]
          },
          "metadata": {
            "tags": []
          },
          "execution_count": 31
        }
      ]
    },
    {
      "cell_type": "code",
      "metadata": {
        "id": "tFXtdox3zRxW"
      },
      "source": [
        "train['Item_Type_Combined'] = train['Item_Type_Combined'].map({'FD' : 'Food',\n",
        "                                                              'NC' : 'Non-Consumable',\n",
        "                                                              'DR' : 'Drinks'})"
      ],
      "execution_count": 32,
      "outputs": []
    },
    {
      "cell_type": "code",
      "metadata": {
        "id": "1YI_nL7D0TBh"
      },
      "source": [
        "test['Item_Type_Combined'] = test['Item_Identifier'].apply(lambda x: x[0:2])\n",
        "test['Item_Type_Combined'] = test['Item_Type_Combined'].map({'FD' : 'Food',\n",
        "                                                              'NC' : 'Non-Consumable',\n",
        "                                                              'DR' : 'Drinks'})"
      ],
      "execution_count": 33,
      "outputs": []
    },
    {
      "cell_type": "markdown",
      "metadata": {
        "id": "IeVYQ93v0fXy"
      },
      "source": [
        "**Modify Categories of Item_Fat_Content :**"
      ]
    },
    {
      "cell_type": "code",
      "metadata": {
        "colab": {
          "base_uri": "https://localhost:8080/"
        },
        "id": "hil-q9eF0dZb",
        "outputId": "36d04520-1662-48c0-cc49-b9b8c9052570"
      },
      "source": [
        "train['Item_Fat_Content'].value_counts()"
      ],
      "execution_count": 34,
      "outputs": [
        {
          "output_type": "execute_result",
          "data": {
            "text/plain": [
              "Low Fat    5517\n",
              "Regular    3006\n",
              "Name: Item_Fat_Content, dtype: int64"
            ]
          },
          "metadata": {
            "tags": []
          },
          "execution_count": 34
        }
      ]
    },
    {
      "cell_type": "code",
      "metadata": {
        "colab": {
          "base_uri": "https://localhost:8080/"
        },
        "id": "bpXuK2L90nXy",
        "outputId": "ec604794-2673-4888-b1fa-b60be2bbbda0"
      },
      "source": [
        "# Marking non - consumable as a separate category in Low Fat : \n",
        "train.loc[train['Item_Type_Combined']==\"Non-Consumable\",'Item_Fat_Content'] = \"Non-Edible\"\n",
        "train['Item_Fat_Content'].value_counts()"
      ],
      "execution_count": 35,
      "outputs": [
        {
          "output_type": "execute_result",
          "data": {
            "text/plain": [
              "Low Fat       3918\n",
              "Regular       3006\n",
              "Non-Edible    1599\n",
              "Name: Item_Fat_Content, dtype: int64"
            ]
          },
          "metadata": {
            "tags": []
          },
          "execution_count": 35
        }
      ]
    },
    {
      "cell_type": "code",
      "metadata": {
        "colab": {
          "base_uri": "https://localhost:8080/"
        },
        "id": "aXrB2gY81B9W",
        "outputId": "2c2756a0-ee5c-4eb8-e794-e09b3166013a"
      },
      "source": [
        "# Marking non - consumable as a separate category in Low Fat : \n",
        "test.loc[test['Item_Type_Combined']==\"Non-Consumable\",'Item_Fat_Content'] = \"Non-Edible\"\n",
        "test['Item_Fat_Content'].value_counts()"
      ],
      "execution_count": 36,
      "outputs": [
        {
          "output_type": "execute_result",
          "data": {
            "text/plain": [
              "Low Fat       2581\n",
              "Regular       2013\n",
              "Non-Edible    1087\n",
              "Name: Item_Fat_Content, dtype: int64"
            ]
          },
          "metadata": {
            "tags": []
          },
          "execution_count": 36
        }
      ]
    },
    {
      "cell_type": "markdown",
      "metadata": {
        "id": "nAWoK4Yn15rQ"
      },
      "source": [
        "**Numerical and One-Hot Encoding of Categorical Variables**"
      ]
    },
    {
      "cell_type": "code",
      "metadata": {
        "id": "R5EjGpnj10Sl"
      },
      "source": [
        "# Import Library :\n",
        "from sklearn.preprocessing import LabelEncoder\n",
        "le = LabelEncoder()\n",
        "# New Variable for outlet\n",
        "train['Outlet'] = le.fit_transform(train['Outlet_Identifier'])\n",
        "var_mod = ['Item_Fat_Content', 'Outlet_Location_Type', 'Outlet_Size', 'Item_Type_Combined', 'Outlet_Type', 'Outlet']\n",
        "\n",
        "le = LabelEncoder()\n",
        "for i in var_mod:\n",
        "  train[i] = le.fit_transform(train[i])\n",
        "\n",
        "# One Hot Coding : \n",
        "train = pd.get_dummies(train, columns = ['Item_Fat_Content', 'Outlet_Location_Type',\n",
        "                                         'Outlet_Size', 'Item_Type_Combined', 'Outlet'])"
      ],
      "execution_count": 37,
      "outputs": []
    },
    {
      "cell_type": "code",
      "metadata": {
        "colab": {
          "base_uri": "https://localhost:8080/"
        },
        "id": "zD1Kc1DcLZdQ",
        "outputId": "c148408b-9119-442d-9bca-54a190dd376f"
      },
      "source": [
        "test.columns"
      ],
      "execution_count": 38,
      "outputs": [
        {
          "output_type": "execute_result",
          "data": {
            "text/plain": [
              "Index(['Item_Identifier', 'Item_Weight', 'Item_Fat_Content', 'Item_Visibility',\n",
              "       'Item_Type', 'Item_MRP', 'Outlet_Identifier',\n",
              "       'Outlet_Establishment_Year', 'Outlet_Size', 'Outlet_Location_Type',\n",
              "       'Outlet_Type', 'Outlet_Years', 'Item_Type_Combined'],\n",
              "      dtype='object')"
            ]
          },
          "metadata": {
            "tags": []
          },
          "execution_count": 38
        }
      ]
    },
    {
      "cell_type": "code",
      "metadata": {
        "id": "is9vzjLtLDWX"
      },
      "source": [
        "# New Variable for outlet [[test]]\n",
        "test['Outlet'] = le.fit_transform(test['Outlet_Identifier'])\n",
        "var_mod = ['Item_Fat_Content', 'Outlet_Location_Type', 'Outlet_Size', 'Item_Type_Combined', 'Outlet_Type', 'Outlet']\n",
        "\n",
        "le = LabelEncoder()\n",
        "for i in var_mod:\n",
        "  test[i] = le.fit_transform(test[i])\n",
        "\n",
        "# One Hot Coding : \n",
        "test = pd.get_dummies(test, columns = ['Item_Fat_Content', 'Outlet_Location_Type',\n",
        "                                         'Outlet_Size', 'Item_Type_Combined', 'Outlet'])"
      ],
      "execution_count": 39,
      "outputs": []
    },
    {
      "cell_type": "markdown",
      "metadata": {
        "id": "f4iz_iZTLtVF"
      },
      "source": [
        "**BUILDING MODEL**"
      ]
    },
    {
      "cell_type": "code",
      "metadata": {
        "colab": {
          "base_uri": "https://localhost:8080/"
        },
        "id": "vD7-3J9lLWc_",
        "outputId": "5356c876-ceab-46d0-fc4d-3adf010192a3"
      },
      "source": [
        "train.columns"
      ],
      "execution_count": 40,
      "outputs": [
        {
          "output_type": "execute_result",
          "data": {
            "text/plain": [
              "Index(['Item_Identifier', 'Item_Weight', 'Item_Visibility', 'Item_Type',\n",
              "       'Item_MRP', 'Outlet_Identifier', 'Outlet_Establishment_Year',\n",
              "       'Outlet_Type', 'Item_Outlet_Sales', 'Outlet_Years',\n",
              "       'Item_Fat_Content_0', 'Item_Fat_Content_1', 'Item_Fat_Content_2',\n",
              "       'Outlet_Location_Type_0', 'Outlet_Location_Type_1',\n",
              "       'Outlet_Location_Type_2', 'Outlet_Size_0', 'Outlet_Size_1',\n",
              "       'Outlet_Size_2', 'Item_Type_Combined_0', 'Item_Type_Combined_1',\n",
              "       'Item_Type_Combined_2', 'Outlet_0', 'Outlet_1', 'Outlet_2', 'Outlet_3',\n",
              "       'Outlet_4', 'Outlet_5', 'Outlet_6', 'Outlet_7', 'Outlet_8', 'Outlet_9'],\n",
              "      dtype='object')"
            ]
          },
          "metadata": {
            "tags": []
          },
          "execution_count": 40
        }
      ]
    },
    {
      "cell_type": "code",
      "metadata": {
        "id": "ISUL2gVaLw6_"
      },
      "source": [
        "train = train.select_dtypes(exclude='object')\n",
        "test = test.select_dtypes(exclude='object')"
      ],
      "execution_count": 41,
      "outputs": []
    },
    {
      "cell_type": "code",
      "metadata": {
        "id": "J3NOwjIXMEIF"
      },
      "source": [
        "# Seperate Features and Target\n",
        "X= train.drop(columns = ['Item_Outlet_Sales'], axis=1)\n",
        "y= train['Item_Outlet_Sales']"
      ],
      "execution_count": 42,
      "outputs": []
    },
    {
      "cell_type": "code",
      "metadata": {
        "id": "w2foq-IiMdsh"
      },
      "source": [
        "# 20 % data as validation set\n",
        "X_train,X_valid,y_train,y_valid = train_test_split(X,y,test_size=0.2,random_state=22)"
      ],
      "execution_count": 43,
      "outputs": []
    },
    {
      "cell_type": "code",
      "metadata": {
        "id": "eYtszYb7M-30"
      },
      "source": [
        "# Model Building\n",
        "features= X.columns\n",
        "LR = LinearRegression(normalize=True)\n",
        "LR.fit(X_train,y_train)\n",
        "y_pred = LR.predict(X_valid)\n",
        "coef = pd.Series(LR.coef_,features).sort_values()\n"
      ],
      "execution_count": 44,
      "outputs": []
    },
    {
      "cell_type": "markdown",
      "metadata": {
        "id": "WmX4gIpFOgLY"
      },
      "source": [
        "**In Regression, with a single independent variable, the coefficient tells how much the dependent variable is expected to increase (coef -> +ve) or decrease (coef -> -ve) , when independent variable  increases by one\n",
        "\n",
        "Eg : y = 3x + 5\n",
        "\n",
        "+3 : Coeffieient\n",
        "5 : Constant"
      ]
    },
    {
      "cell_type": "code",
      "metadata": {
        "colab": {
          "base_uri": "https://localhost:8080/",
          "height": 350
        },
        "id": "Ue0WQ_7dOWhX",
        "outputId": "acedd96f-15cc-4187-d75a-5735e063f55c"
      },
      "source": [
        "# Barplot for co-efficients \n",
        "plt.figure(figsize=(8,5))\n",
        "sns.barplot(LR.coef_,features)"
      ],
      "execution_count": 47,
      "outputs": [
        {
          "output_type": "execute_result",
          "data": {
            "text/plain": [
              "<matplotlib.axes._subplots.AxesSubplot at 0x7f56fddc2390>"
            ]
          },
          "metadata": {
            "tags": []
          },
          "execution_count": 47
        },
        {
          "output_type": "display_data",
          "data": {
            "image/png": "[encoded data removed]",
            "text/plain": [
              "<Figure size 576x360 with 1 Axes>"
            ]
          },
          "metadata": {
            "tags": [],
            "needs_background": "light"
          }
        }
      ]
    },
    {
      "cell_type": "markdown",
      "metadata": {
        "id": "m1zMpb0TP4GD"
      },
      "source": [
        "**RMSE**"
      ]
    },
    {
      "cell_type": "code",
      "metadata": {
        "colab": {
          "base_uri": "https://localhost:8080/"
        },
        "id": "bWK7PT-RPMNc",
        "outputId": "48f58a81-3020-45a8-a9e6-3a80edc71558"
      },
      "source": [
        "MSE = metrics.mean_squared_error(y_valid, y_pred)\n",
        "from math import sqrt\n",
        "rmse = sqrt(MSE)\n",
        "print(\"Root Mean Squared Error : \", rmse)"
      ],
      "execution_count": 46,
      "outputs": [
        {
          "output_type": "stream",
          "text": [
            "Root Mean Squared Error :  1187.3414020207392\n"
          ],
          "name": "stdout"
        }
      ]
    },
    {
      "cell_type": "markdown",
      "metadata": {
        "id": "CnJvYVSlQYPe"
      },
      "source": [
        "### Let's try Different ML Models"
      ]
    },
    {
      "cell_type": "code",
      "metadata": {
        "id": "qYl8xHW7QKEW"
      },
      "source": [
        "from sklearn.linear_model import Ridge, Lasso, LinearRegression\n",
        "from sklearn.tree import DecisionTreeRegressor\n",
        "from sklearn.neighbors import KNeighborsRegressor"
      ],
      "execution_count": 48,
      "outputs": []
    },
    {
      "cell_type": "markdown",
      "metadata": {
        "id": "W7qC6qorRcY4"
      },
      "source": [
        "**KNeighborsRegressor : Target is predicted by local interpolation of the targets associated of the nearest neighbors in the training set.**\n",
        "\n",
        "*Regarding Nearest Neigbor Algorithms,2 neighbors neighbor k+1 and k, have identical distances but different labels, the results will depend onthe ordering of the training data*"
      ]
    },
    {
      "cell_type": "code",
      "metadata": {
        "id": "YfRM7U8SQnUM"
      },
      "source": [
        "algos = [LinearRegression(), Ridge(), Lasso(), KNeighborsRegressor(), DecisionTreeRegressor()]\n",
        "\n",
        "names = ['Linear Regression', 'Ridge Regression', 'Lasso Regression', 'K Neighbors Regression', 'Decision Tree Regressor']\n",
        "\n",
        "rmse_list = []"
      ],
      "execution_count": 49,
      "outputs": []
    },
    {
      "cell_type": "code",
      "metadata": {
        "id": "OywfngWkSqa8"
      },
      "source": [
        "for name in algos : \n",
        "\n",
        "  model = name\n",
        "  model.fit(X_train, y_train)\n",
        "  y_pred = model.predict(X_valid)\n",
        "  \n",
        "  MSE = metrics.mean_squared_error(y_valid, y_pred)\n",
        "\n",
        "  rmse = np.sqrt(MSE)\n",
        "  rmse_list.append(rmse)"
      ],
      "execution_count": 50,
      "outputs": []
    },
    {
      "cell_type": "code",
      "metadata": {
        "id": "sswkQQ-ITDRm"
      },
      "source": [
        "evaluation = pd.DataFrame({'Model' : names,\n",
        "                           'RMSE' : rmse_list})"
      ],
      "execution_count": 51,
      "outputs": []
    },
    {
      "cell_type": "code",
      "metadata": {
        "colab": {
          "base_uri": "https://localhost:8080/",
          "height": 206
        },
        "id": "otl9eV9mTISv",
        "outputId": "10393b87-d125-4473-c58a-b9fcd68d3f03"
      },
      "source": [
        "evaluation"
      ],
      "execution_count": 52,
      "outputs": [
        {
          "output_type": "execute_result",
          "data": {
            "text/html": [
              "<div>\n",
              "<style scoped>\n",
              "    .dataframe tbody tr th:only-of-type {\n",
              "        vertical-align: middle;\n",
              "    }\n",
              "\n",
              "    .dataframe tbody tr th {\n",
              "        vertical-align: top;\n",
              "    }\n",
              "\n",
              "    .dataframe thead th {\n",
              "        text-align: right;\n",
              "    }\n",
              "</style>\n",
              "<table border=\"1\" class=\"dataframe\">\n",
              "  <thead>\n",
              "    <tr style=\"text-align: right;\">\n",
              "      <th></th>\n",
              "      <th>Model</th>\n",
              "      <th>RMSE</th>\n",
              "    </tr>\n",
              "  </thead>\n",
              "  <tbody>\n",
              "    <tr>\n",
              "      <th>0</th>\n",
              "      <td>Linear Regression</td>\n",
              "      <td>1187.448018</td>\n",
              "    </tr>\n",
              "    <tr>\n",
              "      <th>1</th>\n",
              "      <td>Ridge Regression</td>\n",
              "      <td>1187.365657</td>\n",
              "    </tr>\n",
              "    <tr>\n",
              "      <th>2</th>\n",
              "      <td>Lasso Regression</td>\n",
              "      <td>1187.119373</td>\n",
              "    </tr>\n",
              "    <tr>\n",
              "      <th>3</th>\n",
              "      <td>K Neighbors Regression</td>\n",
              "      <td>1287.347911</td>\n",
              "    </tr>\n",
              "    <tr>\n",
              "      <th>4</th>\n",
              "      <td>Decision Tree Regressor</td>\n",
              "      <td>1594.491622</td>\n",
              "    </tr>\n",
              "  </tbody>\n",
              "</table>\n",
              "</div>"
            ],
            "text/plain": [
              "                     Model         RMSE\n",
              "0        Linear Regression  1187.448018\n",
              "1         Ridge Regression  1187.365657\n",
              "2         Lasso Regression  1187.119373\n",
              "3   K Neighbors Regression  1287.347911\n",
              "4  Decision Tree Regressor  1594.491622"
            ]
          },
          "metadata": {
            "tags": []
          },
          "execution_count": 52
        }
      ]
    },
    {
      "cell_type": "markdown",
      "metadata": {
        "id": "Ggz7sVRtTjhC"
      },
      "source": [
        "> **As we can clearly see Lasso performs slighlty better than Ridge and Linear regression. KNN Regressor and Decision Tree Regressor do not improve the score so we can select Lasso for making our final predictions**\n",
        "\n",
        "\n"
      ]
    },
    {
      "cell_type": "markdown",
      "metadata": {
        "id": "TG40CAjxUcJe"
      },
      "source": [
        "XGBRegressor"
      ]
    },
    {
      "cell_type": "code",
      "metadata": {
        "id": "DGUXEutFTQXm"
      },
      "source": [
        "from xgboost import XGBRegressor\n"
      ],
      "execution_count": 53,
      "outputs": []
    },
    {
      "cell_type": "code",
      "metadata": {
        "colab": {
          "base_uri": "https://localhost:8080/"
        },
        "id": "fVhNcqzCUhrR",
        "outputId": "99cb92da-8270-4c04-be63-3754890e61ce"
      },
      "source": [
        "xgbm = XGBRegressor()\n",
        "xgbm.fit(X_train, y_train)\n",
        "pred3 = xgbm.predict(X_valid)\n",
        "np.sqrt(metrics.mean_squared_error(y_valid, pred3))"
      ],
      "execution_count": 55,
      "outputs": [
        {
          "output_type": "stream",
          "text": [
            "[13:14:13] WARNING: /workspace/src/objective/regression_obj.cu:152: reg:linear is now deprecated in favor of reg:squarederror.\n"
          ],
          "name": "stdout"
        },
        {
          "output_type": "execute_result",
          "data": {
            "text/plain": [
              "1149.8600343158055"
            ]
          },
          "metadata": {
            "tags": []
          },
          "execution_count": 55
        }
      ]
    },
    {
      "cell_type": "markdown",
      "metadata": {
        "id": "ZW9zvEWHU2xB"
      },
      "source": [
        "### **GIVES A MUCH BETTER SCORE**"
      ]
    },
    {
      "cell_type": "code",
      "metadata": {
        "id": "vuxm9QKuUwjd"
      },
      "source": [
        "submission = pd.read_csv('sample_submission_8RXa3c6.csv')\n",
        "final_prediction = xgbm.predict(test)\n",
        "\n",
        "submission['Item_Outlet_Sales'] = final_prediction\n",
        "\n",
        "# Only positive predictions for the target variable\n",
        "submission['Item_Outlet_Sales'] = submission['Item_Outlet_Sales'].apply(lambda x: 0 if x<0 else x)\n",
        "submission.to_csv('my_submission.csv', index = False)"
      ],
      "execution_count": 58,
      "outputs": []
    },
    {
      "cell_type": "code",
      "metadata": {
        "id": "RIclHJ2tVhT2"
      },
      "source": [
        ""
      ],
      "execution_count": null,
      "outputs": []
    }
  ]
}
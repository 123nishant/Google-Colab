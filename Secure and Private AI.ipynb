{
 "cells": [
  {
   "cell_type": "code",
   "execution_count": 1,
   "metadata": {},
   "outputs": [
    {
     "data": {
      "text/plain": [
       "tensor([1, 0, 0,  ..., 1, 1, 0], dtype=torch.uint8)"
      ]
     },
     "execution_count": 1,
     "metadata": {},
     "output_type": "execute_result"
    }
   ],
   "source": [
    "import torch\n",
    "\n",
    "# number of entries in our database \n",
    "num_entries = 5000\n",
    "\n",
    "db = torch.rand(num_entries) > 0.5\n",
    "db = db.type(torch.ByteTensor)\n",
    "db"
   ]
  },
  {
   "cell_type": "code",
   "execution_count": 2,
   "metadata": {},
   "outputs": [],
   "source": [
    "remove_index = 2"
   ]
  },
  {
   "cell_type": "code",
   "execution_count": 3,
   "metadata": {},
   "outputs": [],
   "source": [
    "def get_parallel_db(db, remove_index):\n",
    "    \n",
    "    return torch.cat((db[0:remove_index],\n",
    "                     db[remove_index+1:]))"
   ]
  },
  {
   "cell_type": "code",
   "execution_count": 4,
   "metadata": {},
   "outputs": [
    {
     "data": {
      "text/plain": [
       "tensor([1, 0, 1,  ..., 1, 1, 0], dtype=torch.uint8)"
      ]
     },
     "execution_count": 4,
     "metadata": {},
     "output_type": "execute_result"
    }
   ],
   "source": [
    "get_parallel_db(db,2)"
   ]
  },
  {
   "cell_type": "code",
   "execution_count": 5,
   "metadata": {},
   "outputs": [
    {
     "data": {
      "text/plain": [
       "torch.Size([5000])"
      ]
     },
     "execution_count": 5,
     "metadata": {},
     "output_type": "execute_result"
    }
   ],
   "source": [
    "get_parallel_db(db, 532322).shape"
   ]
  },
  {
   "cell_type": "code",
   "execution_count": 6,
   "metadata": {},
   "outputs": [],
   "source": [
    "parallel_dbs = list()"
   ]
  },
  {
   "cell_type": "code",
   "execution_count": 7,
   "metadata": {},
   "outputs": [],
   "source": [
    "def get_parallel_dbs(db):\n",
    "    \n",
    "    parallel_dbs = list()\n",
    "\n",
    "    for i in range(len(db)):\n",
    "        pdb = get_parallel_db(db, i)\n",
    "        parallel_dbs.append(pdb)\n",
    "        \n",
    "    return parallel_dbs"
   ]
  },
  {
   "cell_type": "code",
   "execution_count": 8,
   "metadata": {},
   "outputs": [
    {
     "data": {
      "text/plain": [
       "[tensor([0, 0, 1,  ..., 1, 1, 0], dtype=torch.uint8),\n",
       " tensor([1, 0, 1,  ..., 1, 1, 0], dtype=torch.uint8),\n",
       " tensor([1, 0, 1,  ..., 1, 1, 0], dtype=torch.uint8),\n",
       " tensor([1, 0, 0,  ..., 1, 1, 0], dtype=torch.uint8),\n",
       " tensor([1, 0, 0,  ..., 1, 1, 0], dtype=torch.uint8),\n",
       " tensor([1, 0, 0,  ..., 1, 1, 0], dtype=torch.uint8),\n",
       " tensor([1, 0, 0,  ..., 1, 1, 0], dtype=torch.uint8),\n",
       " tensor([1, 0, 0,  ..., 1, 1, 0], dtype=torch.uint8),\n",
       " tensor([1, 0, 0,  ..., 1, 1, 0], dtype=torch.uint8),\n",
       " tensor([1, 0, 0,  ..., 1, 1, 0], dtype=torch.uint8),\n",
       " tensor([1, 0, 0,  ..., 1, 1, 0], dtype=torch.uint8),\n",
       " tensor([1, 0, 0,  ..., 1, 1, 0], dtype=torch.uint8),\n",
       " tensor([1, 0, 0,  ..., 1, 1, 0], dtype=torch.uint8),\n",
       " tensor([1, 0, 0,  ..., 1, 1, 0], dtype=torch.uint8),\n",
       " tensor([1, 0, 0,  ..., 1, 1, 0], dtype=torch.uint8),\n",
       " tensor([1, 0, 0,  ..., 1, 1, 0], dtype=torch.uint8),\n",
       " tensor([1, 0, 0,  ..., 1, 1, 0], dtype=torch.uint8),\n",
       " tensor([1, 0, 0,  ..., 1, 1, 0], dtype=torch.uint8),\n",
       " tensor([1, 0, 0,  ..., 1, 1, 0], dtype=torch.uint8),\n",
       " tensor([1, 0, 0,  ..., 1, 1, 0], dtype=torch.uint8),\n",
       " tensor([1, 0, 0,  ..., 1, 1, 0], dtype=torch.uint8),\n",
       " tensor([1, 0, 0,  ..., 1, 1, 0], dtype=torch.uint8),\n",
       " tensor([1, 0, 0,  ..., 1, 1, 0], dtype=torch.uint8),\n",
       " tensor([1, 0, 0,  ..., 1, 1, 0], dtype=torch.uint8),\n",
       " tensor([1, 0, 0,  ..., 1, 1, 0], dtype=torch.uint8),\n",
       " tensor([1, 0, 0,  ..., 1, 1, 0], dtype=torch.uint8),\n",
       " tensor([1, 0, 0,  ..., 1, 1, 0], dtype=torch.uint8),\n",
       " tensor([1, 0, 0,  ..., 1, 1, 0], dtype=torch.uint8),\n",
       " tensor([1, 0, 0,  ..., 1, 1, 0], dtype=torch.uint8),\n",
       " tensor([1, 0, 0,  ..., 1, 1, 0], dtype=torch.uint8),\n",
       " tensor([1, 0, 0,  ..., 1, 1, 0], dtype=torch.uint8),\n",
       " tensor([1, 0, 0,  ..., 1, 1, 0], dtype=torch.uint8),\n",
       " tensor([1, 0, 0,  ..., 1, 1, 0], dtype=torch.uint8),\n",
       " tensor([1, 0, 0,  ..., 1, 1, 0], dtype=torch.uint8),\n",
       " tensor([1, 0, 0,  ..., 1, 1, 0], dtype=torch.uint8),\n",
       " tensor([1, 0, 0,  ..., 1, 1, 0], dtype=torch.uint8),\n",
       " tensor([1, 0, 0,  ..., 1, 1, 0], dtype=torch.uint8),\n",
       " tensor([1, 0, 0,  ..., 1, 1, 0], dtype=torch.uint8),\n",
       " tensor([1, 0, 0,  ..., 1, 1, 0], dtype=torch.uint8),\n",
       " tensor([1, 0, 0,  ..., 1, 1, 0], dtype=torch.uint8),\n",
       " tensor([1, 0, 0,  ..., 1, 1, 0], dtype=torch.uint8),\n",
       " tensor([1, 0, 0,  ..., 1, 1, 0], dtype=torch.uint8),\n",
       " tensor([1, 0, 0,  ..., 1, 1, 0], dtype=torch.uint8),\n",
       " tensor([1, 0, 0,  ..., 1, 1, 0], dtype=torch.uint8),\n",
       " tensor([1, 0, 0,  ..., 1, 1, 0], dtype=torch.uint8),\n",
       " tensor([1, 0, 0,  ..., 1, 1, 0], dtype=torch.uint8),\n",
       " tensor([1, 0, 0,  ..., 1, 1, 0], dtype=torch.uint8),\n",
       " tensor([1, 0, 0,  ..., 1, 1, 0], dtype=torch.uint8),\n",
       " tensor([1, 0, 0,  ..., 1, 1, 0], dtype=torch.uint8),\n",
       " tensor([1, 0, 0,  ..., 1, 1, 0], dtype=torch.uint8),\n",
       " tensor([1, 0, 0,  ..., 1, 1, 0], dtype=torch.uint8),\n",
       " tensor([1, 0, 0,  ..., 1, 1, 0], dtype=torch.uint8),\n",
       " tensor([1, 0, 0,  ..., 1, 1, 0], dtype=torch.uint8),\n",
       " tensor([1, 0, 0,  ..., 1, 1, 0], dtype=torch.uint8),\n",
       " tensor([1, 0, 0,  ..., 1, 1, 0], dtype=torch.uint8),\n",
       " tensor([1, 0, 0,  ..., 1, 1, 0], dtype=torch.uint8),\n",
       " tensor([1, 0, 0,  ..., 1, 1, 0], dtype=torch.uint8),\n",
       " tensor([1, 0, 0,  ..., 1, 1, 0], dtype=torch.uint8),\n",
       " tensor([1, 0, 0,  ..., 1, 1, 0], dtype=torch.uint8),\n",
       " tensor([1, 0, 0,  ..., 1, 1, 0], dtype=torch.uint8),\n",
       " tensor([1, 0, 0,  ..., 1, 1, 0], dtype=torch.uint8),\n",
       " tensor([1, 0, 0,  ..., 1, 1, 0], dtype=torch.uint8),\n",
       " tensor([1, 0, 0,  ..., 1, 1, 0], dtype=torch.uint8),\n",
       " tensor([1, 0, 0,  ..., 1, 1, 0], dtype=torch.uint8),\n",
       " tensor([1, 0, 0,  ..., 1, 1, 0], dtype=torch.uint8),\n",
       " tensor([1, 0, 0,  ..., 1, 1, 0], dtype=torch.uint8),\n",
       " tensor([1, 0, 0,  ..., 1, 1, 0], dtype=torch.uint8),\n",
       " tensor([1, 0, 0,  ..., 1, 1, 0], dtype=torch.uint8),\n",
       " tensor([1, 0, 0,  ..., 1, 1, 0], dtype=torch.uint8),\n",
       " tensor([1, 0, 0,  ..., 1, 1, 0], dtype=torch.uint8),\n",
       " tensor([1, 0, 0,  ..., 1, 1, 0], dtype=torch.uint8),\n",
       " tensor([1, 0, 0,  ..., 1, 1, 0], dtype=torch.uint8),\n",
       " tensor([1, 0, 0,  ..., 1, 1, 0], dtype=torch.uint8),\n",
       " tensor([1, 0, 0,  ..., 1, 1, 0], dtype=torch.uint8),\n",
       " tensor([1, 0, 0,  ..., 1, 1, 0], dtype=torch.uint8),\n",
       " tensor([1, 0, 0,  ..., 1, 1, 0], dtype=torch.uint8),\n",
       " tensor([1, 0, 0,  ..., 1, 1, 0], dtype=torch.uint8),\n",
       " tensor([1, 0, 0,  ..., 1, 1, 0], dtype=torch.uint8),\n",
       " tensor([1, 0, 0,  ..., 1, 1, 0], dtype=torch.uint8),\n",
       " tensor([1, 0, 0,  ..., 1, 1, 0], dtype=torch.uint8),\n",
       " tensor([1, 0, 0,  ..., 1, 1, 0], dtype=torch.uint8),\n",
       " tensor([1, 0, 0,  ..., 1, 1, 0], dtype=torch.uint8),\n",
       " tensor([1, 0, 0,  ..., 1, 1, 0], dtype=torch.uint8),\n",
       " tensor([1, 0, 0,  ..., 1, 1, 0], dtype=torch.uint8),\n",
       " tensor([1, 0, 0,  ..., 1, 1, 0], dtype=torch.uint8),\n",
       " tensor([1, 0, 0,  ..., 1, 1, 0], dtype=torch.uint8),\n",
       " tensor([1, 0, 0,  ..., 1, 1, 0], dtype=torch.uint8),\n",
       " tensor([1, 0, 0,  ..., 1, 1, 0], dtype=torch.uint8),\n",
       " tensor([1, 0, 0,  ..., 1, 1, 0], dtype=torch.uint8),\n",
       " tensor([1, 0, 0,  ..., 1, 1, 0], dtype=torch.uint8),\n",
       " tensor([1, 0, 0,  ..., 1, 1, 0], dtype=torch.uint8),\n",
       " tensor([1, 0, 0,  ..., 1, 1, 0], dtype=torch.uint8),\n",
       " tensor([1, 0, 0,  ..., 1, 1, 0], dtype=torch.uint8),\n",
       " tensor([1, 0, 0,  ..., 1, 1, 0], dtype=torch.uint8),\n",
       " tensor([1, 0, 0,  ..., 1, 1, 0], dtype=torch.uint8),\n",
       " tensor([1, 0, 0,  ..., 1, 1, 0], dtype=torch.uint8),\n",
       " tensor([1, 0, 0,  ..., 1, 1, 0], dtype=torch.uint8),\n",
       " tensor([1, 0, 0,  ..., 1, 1, 0], dtype=torch.uint8),\n",
       " tensor([1, 0, 0,  ..., 1, 1, 0], dtype=torch.uint8),\n",
       " tensor([1, 0, 0,  ..., 1, 1, 0], dtype=torch.uint8),\n",
       " tensor([1, 0, 0,  ..., 1, 1, 0], dtype=torch.uint8),\n",
       " tensor([1, 0, 0,  ..., 1, 1, 0], dtype=torch.uint8),\n",
       " tensor([1, 0, 0,  ..., 1, 1, 0], dtype=torch.uint8),\n",
       " tensor([1, 0, 0,  ..., 1, 1, 0], dtype=torch.uint8),\n",
       " tensor([1, 0, 0,  ..., 1, 1, 0], dtype=torch.uint8),\n",
       " tensor([1, 0, 0,  ..., 1, 1, 0], dtype=torch.uint8),\n",
       " tensor([1, 0, 0,  ..., 1, 1, 0], dtype=torch.uint8),\n",
       " tensor([1, 0, 0,  ..., 1, 1, 0], dtype=torch.uint8),\n",
       " tensor([1, 0, 0,  ..., 1, 1, 0], dtype=torch.uint8),\n",
       " tensor([1, 0, 0,  ..., 1, 1, 0], dtype=torch.uint8),\n",
       " tensor([1, 0, 0,  ..., 1, 1, 0], dtype=torch.uint8),\n",
       " tensor([1, 0, 0,  ..., 1, 1, 0], dtype=torch.uint8),\n",
       " tensor([1, 0, 0,  ..., 1, 1, 0], dtype=torch.uint8),\n",
       " tensor([1, 0, 0,  ..., 1, 1, 0], dtype=torch.uint8),\n",
       " tensor([1, 0, 0,  ..., 1, 1, 0], dtype=torch.uint8),\n",
       " tensor([1, 0, 0,  ..., 1, 1, 0], dtype=torch.uint8),\n",
       " tensor([1, 0, 0,  ..., 1, 1, 0], dtype=torch.uint8),\n",
       " tensor([1, 0, 0,  ..., 1, 1, 0], dtype=torch.uint8),\n",
       " tensor([1, 0, 0,  ..., 1, 1, 0], dtype=torch.uint8),\n",
       " tensor([1, 0, 0,  ..., 1, 1, 0], dtype=torch.uint8),\n",
       " tensor([1, 0, 0,  ..., 1, 1, 0], dtype=torch.uint8),\n",
       " tensor([1, 0, 0,  ..., 1, 1, 0], dtype=torch.uint8),\n",
       " tensor([1, 0, 0,  ..., 1, 1, 0], dtype=torch.uint8),\n",
       " tensor([1, 0, 0,  ..., 1, 1, 0], dtype=torch.uint8),\n",
       " tensor([1, 0, 0,  ..., 1, 1, 0], dtype=torch.uint8),\n",
       " tensor([1, 0, 0,  ..., 1, 1, 0], dtype=torch.uint8),\n",
       " tensor([1, 0, 0,  ..., 1, 1, 0], dtype=torch.uint8),\n",
       " tensor([1, 0, 0,  ..., 1, 1, 0], dtype=torch.uint8),\n",
       " tensor([1, 0, 0,  ..., 1, 1, 0], dtype=torch.uint8),\n",
       " tensor([1, 0, 0,  ..., 1, 1, 0], dtype=torch.uint8),\n",
       " tensor([1, 0, 0,  ..., 1, 1, 0], dtype=torch.uint8),\n",
       " tensor([1, 0, 0,  ..., 1, 1, 0], dtype=torch.uint8),\n",
       " tensor([1, 0, 0,  ..., 1, 1, 0], dtype=torch.uint8),\n",
       " tensor([1, 0, 0,  ..., 1, 1, 0], dtype=torch.uint8),\n",
       " tensor([1, 0, 0,  ..., 1, 1, 0], dtype=torch.uint8),\n",
       " tensor([1, 0, 0,  ..., 1, 1, 0], dtype=torch.uint8),\n",
       " tensor([1, 0, 0,  ..., 1, 1, 0], dtype=torch.uint8),\n",
       " tensor([1, 0, 0,  ..., 1, 1, 0], dtype=torch.uint8),\n",
       " tensor([1, 0, 0,  ..., 1, 1, 0], dtype=torch.uint8),\n",
       " tensor([1, 0, 0,  ..., 1, 1, 0], dtype=torch.uint8),\n",
       " tensor([1, 0, 0,  ..., 1, 1, 0], dtype=torch.uint8),\n",
       " tensor([1, 0, 0,  ..., 1, 1, 0], dtype=torch.uint8),\n",
       " tensor([1, 0, 0,  ..., 1, 1, 0], dtype=torch.uint8),\n",
       " tensor([1, 0, 0,  ..., 1, 1, 0], dtype=torch.uint8),\n",
       " tensor([1, 0, 0,  ..., 1, 1, 0], dtype=torch.uint8),\n",
       " tensor([1, 0, 0,  ..., 1, 1, 0], dtype=torch.uint8),\n",
       " tensor([1, 0, 0,  ..., 1, 1, 0], dtype=torch.uint8),\n",
       " tensor([1, 0, 0,  ..., 1, 1, 0], dtype=torch.uint8),\n",
       " tensor([1, 0, 0,  ..., 1, 1, 0], dtype=torch.uint8),\n",
       " tensor([1, 0, 0,  ..., 1, 1, 0], dtype=torch.uint8),\n",
       " tensor([1, 0, 0,  ..., 1, 1, 0], dtype=torch.uint8),\n",
       " tensor([1, 0, 0,  ..., 1, 1, 0], dtype=torch.uint8),\n",
       " tensor([1, 0, 0,  ..., 1, 1, 0], dtype=torch.uint8),\n",
       " tensor([1, 0, 0,  ..., 1, 1, 0], dtype=torch.uint8),\n",
       " tensor([1, 0, 0,  ..., 1, 1, 0], dtype=torch.uint8),\n",
       " tensor([1, 0, 0,  ..., 1, 1, 0], dtype=torch.uint8),\n",
       " tensor([1, 0, 0,  ..., 1, 1, 0], dtype=torch.uint8),\n",
       " tensor([1, 0, 0,  ..., 1, 1, 0], dtype=torch.uint8),\n",
       " tensor([1, 0, 0,  ..., 1, 1, 0], dtype=torch.uint8),\n",
       " tensor([1, 0, 0,  ..., 1, 1, 0], dtype=torch.uint8),\n",
       " tensor([1, 0, 0,  ..., 1, 1, 0], dtype=torch.uint8),\n",
       " tensor([1, 0, 0,  ..., 1, 1, 0], dtype=torch.uint8),\n",
       " tensor([1, 0, 0,  ..., 1, 1, 0], dtype=torch.uint8),\n",
       " tensor([1, 0, 0,  ..., 1, 1, 0], dtype=torch.uint8),\n",
       " tensor([1, 0, 0,  ..., 1, 1, 0], dtype=torch.uint8),\n",
       " tensor([1, 0, 0,  ..., 1, 1, 0], dtype=torch.uint8),\n",
       " tensor([1, 0, 0,  ..., 1, 1, 0], dtype=torch.uint8),\n",
       " tensor([1, 0, 0,  ..., 1, 1, 0], dtype=torch.uint8),\n",
       " tensor([1, 0, 0,  ..., 1, 1, 0], dtype=torch.uint8),\n",
       " tensor([1, 0, 0,  ..., 1, 1, 0], dtype=torch.uint8),\n",
       " tensor([1, 0, 0,  ..., 1, 1, 0], dtype=torch.uint8),\n",
       " tensor([1, 0, 0,  ..., 1, 1, 0], dtype=torch.uint8),\n",
       " tensor([1, 0, 0,  ..., 1, 1, 0], dtype=torch.uint8),\n",
       " tensor([1, 0, 0,  ..., 1, 1, 0], dtype=torch.uint8),\n",
       " tensor([1, 0, 0,  ..., 1, 1, 0], dtype=torch.uint8),\n",
       " tensor([1, 0, 0,  ..., 1, 1, 0], dtype=torch.uint8),\n",
       " tensor([1, 0, 0,  ..., 1, 1, 0], dtype=torch.uint8),\n",
       " tensor([1, 0, 0,  ..., 1, 1, 0], dtype=torch.uint8),\n",
       " tensor([1, 0, 0,  ..., 1, 1, 0], dtype=torch.uint8),\n",
       " tensor([1, 0, 0,  ..., 1, 1, 0], dtype=torch.uint8),\n",
       " tensor([1, 0, 0,  ..., 1, 1, 0], dtype=torch.uint8),\n",
       " tensor([1, 0, 0,  ..., 1, 1, 0], dtype=torch.uint8),\n",
       " tensor([1, 0, 0,  ..., 1, 1, 0], dtype=torch.uint8),\n",
       " tensor([1, 0, 0,  ..., 1, 1, 0], dtype=torch.uint8),\n",
       " tensor([1, 0, 0,  ..., 1, 1, 0], dtype=torch.uint8),\n",
       " tensor([1, 0, 0,  ..., 1, 1, 0], dtype=torch.uint8),\n",
       " tensor([1, 0, 0,  ..., 1, 1, 0], dtype=torch.uint8),\n",
       " tensor([1, 0, 0,  ..., 1, 1, 0], dtype=torch.uint8),\n",
       " tensor([1, 0, 0,  ..., 1, 1, 0], dtype=torch.uint8),\n",
       " tensor([1, 0, 0,  ..., 1, 1, 0], dtype=torch.uint8),\n",
       " tensor([1, 0, 0,  ..., 1, 1, 0], dtype=torch.uint8),\n",
       " tensor([1, 0, 0,  ..., 1, 1, 0], dtype=torch.uint8),\n",
       " tensor([1, 0, 0,  ..., 1, 1, 0], dtype=torch.uint8),\n",
       " tensor([1, 0, 0,  ..., 1, 1, 0], dtype=torch.uint8),\n",
       " tensor([1, 0, 0,  ..., 1, 1, 0], dtype=torch.uint8),\n",
       " tensor([1, 0, 0,  ..., 1, 1, 0], dtype=torch.uint8),\n",
       " tensor([1, 0, 0,  ..., 1, 1, 0], dtype=torch.uint8),\n",
       " tensor([1, 0, 0,  ..., 1, 1, 0], dtype=torch.uint8),\n",
       " tensor([1, 0, 0,  ..., 1, 1, 0], dtype=torch.uint8),\n",
       " tensor([1, 0, 0,  ..., 1, 1, 0], dtype=torch.uint8),\n",
       " tensor([1, 0, 0,  ..., 1, 1, 0], dtype=torch.uint8),\n",
       " tensor([1, 0, 0,  ..., 1, 1, 0], dtype=torch.uint8),\n",
       " tensor([1, 0, 0,  ..., 1, 1, 0], dtype=torch.uint8),\n",
       " tensor([1, 0, 0,  ..., 1, 1, 0], dtype=torch.uint8),\n",
       " tensor([1, 0, 0,  ..., 1, 1, 0], dtype=torch.uint8),\n",
       " tensor([1, 0, 0,  ..., 1, 1, 0], dtype=torch.uint8),\n",
       " tensor([1, 0, 0,  ..., 1, 1, 0], dtype=torch.uint8),\n",
       " tensor([1, 0, 0,  ..., 1, 1, 0], dtype=torch.uint8),\n",
       " tensor([1, 0, 0,  ..., 1, 1, 0], dtype=torch.uint8),\n",
       " tensor([1, 0, 0,  ..., 1, 1, 0], dtype=torch.uint8),\n",
       " tensor([1, 0, 0,  ..., 1, 1, 0], dtype=torch.uint8),\n",
       " tensor([1, 0, 0,  ..., 1, 1, 0], dtype=torch.uint8),\n",
       " tensor([1, 0, 0,  ..., 1, 1, 0], dtype=torch.uint8),\n",
       " tensor([1, 0, 0,  ..., 1, 1, 0], dtype=torch.uint8),\n",
       " tensor([1, 0, 0,  ..., 1, 1, 0], dtype=torch.uint8),\n",
       " tensor([1, 0, 0,  ..., 1, 1, 0], dtype=torch.uint8),\n",
       " tensor([1, 0, 0,  ..., 1, 1, 0], dtype=torch.uint8),\n",
       " tensor([1, 0, 0,  ..., 1, 1, 0], dtype=torch.uint8),\n",
       " tensor([1, 0, 0,  ..., 1, 1, 0], dtype=torch.uint8),\n",
       " tensor([1, 0, 0,  ..., 1, 1, 0], dtype=torch.uint8),\n",
       " tensor([1, 0, 0,  ..., 1, 1, 0], dtype=torch.uint8),\n",
       " tensor([1, 0, 0,  ..., 1, 1, 0], dtype=torch.uint8),\n",
       " tensor([1, 0, 0,  ..., 1, 1, 0], dtype=torch.uint8),\n",
       " tensor([1, 0, 0,  ..., 1, 1, 0], dtype=torch.uint8),\n",
       " tensor([1, 0, 0,  ..., 1, 1, 0], dtype=torch.uint8),\n",
       " tensor([1, 0, 0,  ..., 1, 1, 0], dtype=torch.uint8),\n",
       " tensor([1, 0, 0,  ..., 1, 1, 0], dtype=torch.uint8),\n",
       " tensor([1, 0, 0,  ..., 1, 1, 0], dtype=torch.uint8),\n",
       " tensor([1, 0, 0,  ..., 1, 1, 0], dtype=torch.uint8),\n",
       " tensor([1, 0, 0,  ..., 1, 1, 0], dtype=torch.uint8),\n",
       " tensor([1, 0, 0,  ..., 1, 1, 0], dtype=torch.uint8),\n",
       " tensor([1, 0, 0,  ..., 1, 1, 0], dtype=torch.uint8),\n",
       " tensor([1, 0, 0,  ..., 1, 1, 0], dtype=torch.uint8),\n",
       " tensor([1, 0, 0,  ..., 1, 1, 0], dtype=torch.uint8),\n",
       " tensor([1, 0, 0,  ..., 1, 1, 0], dtype=torch.uint8),\n",
       " tensor([1, 0, 0,  ..., 1, 1, 0], dtype=torch.uint8),\n",
       " tensor([1, 0, 0,  ..., 1, 1, 0], dtype=torch.uint8),\n",
       " tensor([1, 0, 0,  ..., 1, 1, 0], dtype=torch.uint8),\n",
       " tensor([1, 0, 0,  ..., 1, 1, 0], dtype=torch.uint8),\n",
       " tensor([1, 0, 0,  ..., 1, 1, 0], dtype=torch.uint8),\n",
       " tensor([1, 0, 0,  ..., 1, 1, 0], dtype=torch.uint8),\n",
       " tensor([1, 0, 0,  ..., 1, 1, 0], dtype=torch.uint8),\n",
       " tensor([1, 0, 0,  ..., 1, 1, 0], dtype=torch.uint8),\n",
       " tensor([1, 0, 0,  ..., 1, 1, 0], dtype=torch.uint8),\n",
       " tensor([1, 0, 0,  ..., 1, 1, 0], dtype=torch.uint8),\n",
       " tensor([1, 0, 0,  ..., 1, 1, 0], dtype=torch.uint8),\n",
       " tensor([1, 0, 0,  ..., 1, 1, 0], dtype=torch.uint8),\n",
       " tensor([1, 0, 0,  ..., 1, 1, 0], dtype=torch.uint8),\n",
       " tensor([1, 0, 0,  ..., 1, 1, 0], dtype=torch.uint8),\n",
       " tensor([1, 0, 0,  ..., 1, 1, 0], dtype=torch.uint8),\n",
       " tensor([1, 0, 0,  ..., 1, 1, 0], dtype=torch.uint8),\n",
       " tensor([1, 0, 0,  ..., 1, 1, 0], dtype=torch.uint8),\n",
       " tensor([1, 0, 0,  ..., 1, 1, 0], dtype=torch.uint8),\n",
       " tensor([1, 0, 0,  ..., 1, 1, 0], dtype=torch.uint8),\n",
       " tensor([1, 0, 0,  ..., 1, 1, 0], dtype=torch.uint8),\n",
       " tensor([1, 0, 0,  ..., 1, 1, 0], dtype=torch.uint8),\n",
       " tensor([1, 0, 0,  ..., 1, 1, 0], dtype=torch.uint8),\n",
       " tensor([1, 0, 0,  ..., 1, 1, 0], dtype=torch.uint8),\n",
       " tensor([1, 0, 0,  ..., 1, 1, 0], dtype=torch.uint8),\n",
       " tensor([1, 0, 0,  ..., 1, 1, 0], dtype=torch.uint8),\n",
       " tensor([1, 0, 0,  ..., 1, 1, 0], dtype=torch.uint8),\n",
       " tensor([1, 0, 0,  ..., 1, 1, 0], dtype=torch.uint8),\n",
       " tensor([1, 0, 0,  ..., 1, 1, 0], dtype=torch.uint8),\n",
       " tensor([1, 0, 0,  ..., 1, 1, 0], dtype=torch.uint8),\n",
       " tensor([1, 0, 0,  ..., 1, 1, 0], dtype=torch.uint8),\n",
       " tensor([1, 0, 0,  ..., 1, 1, 0], dtype=torch.uint8),\n",
       " tensor([1, 0, 0,  ..., 1, 1, 0], dtype=torch.uint8),\n",
       " tensor([1, 0, 0,  ..., 1, 1, 0], dtype=torch.uint8),\n",
       " tensor([1, 0, 0,  ..., 1, 1, 0], dtype=torch.uint8),\n",
       " tensor([1, 0, 0,  ..., 1, 1, 0], dtype=torch.uint8),\n",
       " tensor([1, 0, 0,  ..., 1, 1, 0], dtype=torch.uint8),\n",
       " tensor([1, 0, 0,  ..., 1, 1, 0], dtype=torch.uint8),\n",
       " tensor([1, 0, 0,  ..., 1, 1, 0], dtype=torch.uint8),\n",
       " tensor([1, 0, 0,  ..., 1, 1, 0], dtype=torch.uint8),\n",
       " tensor([1, 0, 0,  ..., 1, 1, 0], dtype=torch.uint8),\n",
       " tensor([1, 0, 0,  ..., 1, 1, 0], dtype=torch.uint8),\n",
       " tensor([1, 0, 0,  ..., 1, 1, 0], dtype=torch.uint8),\n",
       " tensor([1, 0, 0,  ..., 1, 1, 0], dtype=torch.uint8),\n",
       " tensor([1, 0, 0,  ..., 1, 1, 0], dtype=torch.uint8),\n",
       " tensor([1, 0, 0,  ..., 1, 1, 0], dtype=torch.uint8),\n",
       " tensor([1, 0, 0,  ..., 1, 1, 0], dtype=torch.uint8),\n",
       " tensor([1, 0, 0,  ..., 1, 1, 0], dtype=torch.uint8),\n",
       " tensor([1, 0, 0,  ..., 1, 1, 0], dtype=torch.uint8),\n",
       " tensor([1, 0, 0,  ..., 1, 1, 0], dtype=torch.uint8),\n",
       " tensor([1, 0, 0,  ..., 1, 1, 0], dtype=torch.uint8),\n",
       " tensor([1, 0, 0,  ..., 1, 1, 0], dtype=torch.uint8),\n",
       " tensor([1, 0, 0,  ..., 1, 1, 0], dtype=torch.uint8),\n",
       " tensor([1, 0, 0,  ..., 1, 1, 0], dtype=torch.uint8),\n",
       " tensor([1, 0, 0,  ..., 1, 1, 0], dtype=torch.uint8),\n",
       " tensor([1, 0, 0,  ..., 1, 1, 0], dtype=torch.uint8),\n",
       " tensor([1, 0, 0,  ..., 1, 1, 0], dtype=torch.uint8),\n",
       " tensor([1, 0, 0,  ..., 1, 1, 0], dtype=torch.uint8),\n",
       " tensor([1, 0, 0,  ..., 1, 1, 0], dtype=torch.uint8),\n",
       " tensor([1, 0, 0,  ..., 1, 1, 0], dtype=torch.uint8),\n",
       " tensor([1, 0, 0,  ..., 1, 1, 0], dtype=torch.uint8),\n",
       " tensor([1, 0, 0,  ..., 1, 1, 0], dtype=torch.uint8),\n",
       " tensor([1, 0, 0,  ..., 1, 1, 0], dtype=torch.uint8),\n",
       " tensor([1, 0, 0,  ..., 1, 1, 0], dtype=torch.uint8),\n",
       " tensor([1, 0, 0,  ..., 1, 1, 0], dtype=torch.uint8),\n",
       " tensor([1, 0, 0,  ..., 1, 1, 0], dtype=torch.uint8),\n",
       " tensor([1, 0, 0,  ..., 1, 1, 0], dtype=torch.uint8),\n",
       " tensor([1, 0, 0,  ..., 1, 1, 0], dtype=torch.uint8),\n",
       " tensor([1, 0, 0,  ..., 1, 1, 0], dtype=torch.uint8),\n",
       " tensor([1, 0, 0,  ..., 1, 1, 0], dtype=torch.uint8),\n",
       " tensor([1, 0, 0,  ..., 1, 1, 0], dtype=torch.uint8),\n",
       " tensor([1, 0, 0,  ..., 1, 1, 0], dtype=torch.uint8),\n",
       " tensor([1, 0, 0,  ..., 1, 1, 0], dtype=torch.uint8),\n",
       " tensor([1, 0, 0,  ..., 1, 1, 0], dtype=torch.uint8),\n",
       " tensor([1, 0, 0,  ..., 1, 1, 0], dtype=torch.uint8),\n",
       " tensor([1, 0, 0,  ..., 1, 1, 0], dtype=torch.uint8),\n",
       " tensor([1, 0, 0,  ..., 1, 1, 0], dtype=torch.uint8),\n",
       " tensor([1, 0, 0,  ..., 1, 1, 0], dtype=torch.uint8),\n",
       " tensor([1, 0, 0,  ..., 1, 1, 0], dtype=torch.uint8),\n",
       " tensor([1, 0, 0,  ..., 1, 1, 0], dtype=torch.uint8),\n",
       " tensor([1, 0, 0,  ..., 1, 1, 0], dtype=torch.uint8),\n",
       " tensor([1, 0, 0,  ..., 1, 1, 0], dtype=torch.uint8),\n",
       " tensor([1, 0, 0,  ..., 1, 1, 0], dtype=torch.uint8),\n",
       " tensor([1, 0, 0,  ..., 1, 1, 0], dtype=torch.uint8),\n",
       " tensor([1, 0, 0,  ..., 1, 1, 0], dtype=torch.uint8),\n",
       " tensor([1, 0, 0,  ..., 1, 1, 0], dtype=torch.uint8),\n",
       " tensor([1, 0, 0,  ..., 1, 1, 0], dtype=torch.uint8),\n",
       " tensor([1, 0, 0,  ..., 1, 1, 0], dtype=torch.uint8),\n",
       " tensor([1, 0, 0,  ..., 1, 1, 0], dtype=torch.uint8),\n",
       " tensor([1, 0, 0,  ..., 1, 1, 0], dtype=torch.uint8),\n",
       " tensor([1, 0, 0,  ..., 1, 1, 0], dtype=torch.uint8),\n",
       " tensor([1, 0, 0,  ..., 1, 1, 0], dtype=torch.uint8),\n",
       " tensor([1, 0, 0,  ..., 1, 1, 0], dtype=torch.uint8),\n",
       " tensor([1, 0, 0,  ..., 1, 1, 0], dtype=torch.uint8),\n",
       " tensor([1, 0, 0,  ..., 1, 1, 0], dtype=torch.uint8),\n",
       " tensor([1, 0, 0,  ..., 1, 1, 0], dtype=torch.uint8),\n",
       " tensor([1, 0, 0,  ..., 1, 1, 0], dtype=torch.uint8),\n",
       " tensor([1, 0, 0,  ..., 1, 1, 0], dtype=torch.uint8),\n",
       " tensor([1, 0, 0,  ..., 1, 1, 0], dtype=torch.uint8),\n",
       " tensor([1, 0, 0,  ..., 1, 1, 0], dtype=torch.uint8),\n",
       " tensor([1, 0, 0,  ..., 1, 1, 0], dtype=torch.uint8),\n",
       " tensor([1, 0, 0,  ..., 1, 1, 0], dtype=torch.uint8),\n",
       " tensor([1, 0, 0,  ..., 1, 1, 0], dtype=torch.uint8),\n",
       " tensor([1, 0, 0,  ..., 1, 1, 0], dtype=torch.uint8),\n",
       " tensor([1, 0, 0,  ..., 1, 1, 0], dtype=torch.uint8),\n",
       " tensor([1, 0, 0,  ..., 1, 1, 0], dtype=torch.uint8),\n",
       " tensor([1, 0, 0,  ..., 1, 1, 0], dtype=torch.uint8),\n",
       " tensor([1, 0, 0,  ..., 1, 1, 0], dtype=torch.uint8),\n",
       " tensor([1, 0, 0,  ..., 1, 1, 0], dtype=torch.uint8),\n",
       " tensor([1, 0, 0,  ..., 1, 1, 0], dtype=torch.uint8),\n",
       " tensor([1, 0, 0,  ..., 1, 1, 0], dtype=torch.uint8),\n",
       " tensor([1, 0, 0,  ..., 1, 1, 0], dtype=torch.uint8),\n",
       " tensor([1, 0, 0,  ..., 1, 1, 0], dtype=torch.uint8),\n",
       " tensor([1, 0, 0,  ..., 1, 1, 0], dtype=torch.uint8),\n",
       " tensor([1, 0, 0,  ..., 1, 1, 0], dtype=torch.uint8),\n",
       " tensor([1, 0, 0,  ..., 1, 1, 0], dtype=torch.uint8),\n",
       " tensor([1, 0, 0,  ..., 1, 1, 0], dtype=torch.uint8),\n",
       " tensor([1, 0, 0,  ..., 1, 1, 0], dtype=torch.uint8),\n",
       " tensor([1, 0, 0,  ..., 1, 1, 0], dtype=torch.uint8),\n",
       " tensor([1, 0, 0,  ..., 1, 1, 0], dtype=torch.uint8),\n",
       " tensor([1, 0, 0,  ..., 1, 1, 0], dtype=torch.uint8),\n",
       " tensor([1, 0, 0,  ..., 1, 1, 0], dtype=torch.uint8),\n",
       " tensor([1, 0, 0,  ..., 1, 1, 0], dtype=torch.uint8),\n",
       " tensor([1, 0, 0,  ..., 1, 1, 0], dtype=torch.uint8),\n",
       " tensor([1, 0, 0,  ..., 1, 1, 0], dtype=torch.uint8),\n",
       " tensor([1, 0, 0,  ..., 1, 1, 0], dtype=torch.uint8),\n",
       " tensor([1, 0, 0,  ..., 1, 1, 0], dtype=torch.uint8),\n",
       " tensor([1, 0, 0,  ..., 1, 1, 0], dtype=torch.uint8),\n",
       " tensor([1, 0, 0,  ..., 1, 1, 0], dtype=torch.uint8),\n",
       " tensor([1, 0, 0,  ..., 1, 1, 0], dtype=torch.uint8),\n",
       " tensor([1, 0, 0,  ..., 1, 1, 0], dtype=torch.uint8),\n",
       " tensor([1, 0, 0,  ..., 1, 1, 0], dtype=torch.uint8),\n",
       " tensor([1, 0, 0,  ..., 1, 1, 0], dtype=torch.uint8),\n",
       " tensor([1, 0, 0,  ..., 1, 1, 0], dtype=torch.uint8),\n",
       " tensor([1, 0, 0,  ..., 1, 1, 0], dtype=torch.uint8),\n",
       " tensor([1, 0, 0,  ..., 1, 1, 0], dtype=torch.uint8),\n",
       " tensor([1, 0, 0,  ..., 1, 1, 0], dtype=torch.uint8),\n",
       " tensor([1, 0, 0,  ..., 1, 1, 0], dtype=torch.uint8),\n",
       " tensor([1, 0, 0,  ..., 1, 1, 0], dtype=torch.uint8),\n",
       " tensor([1, 0, 0,  ..., 1, 1, 0], dtype=torch.uint8),\n",
       " tensor([1, 0, 0,  ..., 1, 1, 0], dtype=torch.uint8),\n",
       " tensor([1, 0, 0,  ..., 1, 1, 0], dtype=torch.uint8),\n",
       " tensor([1, 0, 0,  ..., 1, 1, 0], dtype=torch.uint8),\n",
       " tensor([1, 0, 0,  ..., 1, 1, 0], dtype=torch.uint8),\n",
       " tensor([1, 0, 0,  ..., 1, 1, 0], dtype=torch.uint8),\n",
       " tensor([1, 0, 0,  ..., 1, 1, 0], dtype=torch.uint8),\n",
       " tensor([1, 0, 0,  ..., 1, 1, 0], dtype=torch.uint8),\n",
       " tensor([1, 0, 0,  ..., 1, 1, 0], dtype=torch.uint8),\n",
       " tensor([1, 0, 0,  ..., 1, 1, 0], dtype=torch.uint8),\n",
       " tensor([1, 0, 0,  ..., 1, 1, 0], dtype=torch.uint8),\n",
       " tensor([1, 0, 0,  ..., 1, 1, 0], dtype=torch.uint8),\n",
       " tensor([1, 0, 0,  ..., 1, 1, 0], dtype=torch.uint8),\n",
       " tensor([1, 0, 0,  ..., 1, 1, 0], dtype=torch.uint8),\n",
       " tensor([1, 0, 0,  ..., 1, 1, 0], dtype=torch.uint8),\n",
       " tensor([1, 0, 0,  ..., 1, 1, 0], dtype=torch.uint8),\n",
       " tensor([1, 0, 0,  ..., 1, 1, 0], dtype=torch.uint8),\n",
       " tensor([1, 0, 0,  ..., 1, 1, 0], dtype=torch.uint8),\n",
       " tensor([1, 0, 0,  ..., 1, 1, 0], dtype=torch.uint8),\n",
       " tensor([1, 0, 0,  ..., 1, 1, 0], dtype=torch.uint8),\n",
       " tensor([1, 0, 0,  ..., 1, 1, 0], dtype=torch.uint8),\n",
       " tensor([1, 0, 0,  ..., 1, 1, 0], dtype=torch.uint8),\n",
       " tensor([1, 0, 0,  ..., 1, 1, 0], dtype=torch.uint8),\n",
       " tensor([1, 0, 0,  ..., 1, 1, 0], dtype=torch.uint8),\n",
       " tensor([1, 0, 0,  ..., 1, 1, 0], dtype=torch.uint8),\n",
       " tensor([1, 0, 0,  ..., 1, 1, 0], dtype=torch.uint8),\n",
       " tensor([1, 0, 0,  ..., 1, 1, 0], dtype=torch.uint8),\n",
       " tensor([1, 0, 0,  ..., 1, 1, 0], dtype=torch.uint8),\n",
       " tensor([1, 0, 0,  ..., 1, 1, 0], dtype=torch.uint8),\n",
       " tensor([1, 0, 0,  ..., 1, 1, 0], dtype=torch.uint8),\n",
       " tensor([1, 0, 0,  ..., 1, 1, 0], dtype=torch.uint8),\n",
       " tensor([1, 0, 0,  ..., 1, 1, 0], dtype=torch.uint8),\n",
       " tensor([1, 0, 0,  ..., 1, 1, 0], dtype=torch.uint8),\n",
       " tensor([1, 0, 0,  ..., 1, 1, 0], dtype=torch.uint8),\n",
       " tensor([1, 0, 0,  ..., 1, 1, 0], dtype=torch.uint8),\n",
       " tensor([1, 0, 0,  ..., 1, 1, 0], dtype=torch.uint8),\n",
       " tensor([1, 0, 0,  ..., 1, 1, 0], dtype=torch.uint8),\n",
       " tensor([1, 0, 0,  ..., 1, 1, 0], dtype=torch.uint8),\n",
       " tensor([1, 0, 0,  ..., 1, 1, 0], dtype=torch.uint8),\n",
       " tensor([1, 0, 0,  ..., 1, 1, 0], dtype=torch.uint8),\n",
       " tensor([1, 0, 0,  ..., 1, 1, 0], dtype=torch.uint8),\n",
       " tensor([1, 0, 0,  ..., 1, 1, 0], dtype=torch.uint8),\n",
       " tensor([1, 0, 0,  ..., 1, 1, 0], dtype=torch.uint8),\n",
       " tensor([1, 0, 0,  ..., 1, 1, 0], dtype=torch.uint8),\n",
       " tensor([1, 0, 0,  ..., 1, 1, 0], dtype=torch.uint8),\n",
       " tensor([1, 0, 0,  ..., 1, 1, 0], dtype=torch.uint8),\n",
       " tensor([1, 0, 0,  ..., 1, 1, 0], dtype=torch.uint8),\n",
       " tensor([1, 0, 0,  ..., 1, 1, 0], dtype=torch.uint8),\n",
       " tensor([1, 0, 0,  ..., 1, 1, 0], dtype=torch.uint8),\n",
       " tensor([1, 0, 0,  ..., 1, 1, 0], dtype=torch.uint8),\n",
       " tensor([1, 0, 0,  ..., 1, 1, 0], dtype=torch.uint8),\n",
       " tensor([1, 0, 0,  ..., 1, 1, 0], dtype=torch.uint8),\n",
       " tensor([1, 0, 0,  ..., 1, 1, 0], dtype=torch.uint8),\n",
       " tensor([1, 0, 0,  ..., 1, 1, 0], dtype=torch.uint8),\n",
       " tensor([1, 0, 0,  ..., 1, 1, 0], dtype=torch.uint8),\n",
       " tensor([1, 0, 0,  ..., 1, 1, 0], dtype=torch.uint8),\n",
       " tensor([1, 0, 0,  ..., 1, 1, 0], dtype=torch.uint8),\n",
       " tensor([1, 0, 0,  ..., 1, 1, 0], dtype=torch.uint8),\n",
       " tensor([1, 0, 0,  ..., 1, 1, 0], dtype=torch.uint8),\n",
       " tensor([1, 0, 0,  ..., 1, 1, 0], dtype=torch.uint8),\n",
       " tensor([1, 0, 0,  ..., 1, 1, 0], dtype=torch.uint8),\n",
       " tensor([1, 0, 0,  ..., 1, 1, 0], dtype=torch.uint8),\n",
       " tensor([1, 0, 0,  ..., 1, 1, 0], dtype=torch.uint8),\n",
       " tensor([1, 0, 0,  ..., 1, 1, 0], dtype=torch.uint8),\n",
       " tensor([1, 0, 0,  ..., 1, 1, 0], dtype=torch.uint8),\n",
       " tensor([1, 0, 0,  ..., 1, 1, 0], dtype=torch.uint8),\n",
       " tensor([1, 0, 0,  ..., 1, 1, 0], dtype=torch.uint8),\n",
       " tensor([1, 0, 0,  ..., 1, 1, 0], dtype=torch.uint8),\n",
       " tensor([1, 0, 0,  ..., 1, 1, 0], dtype=torch.uint8),\n",
       " tensor([1, 0, 0,  ..., 1, 1, 0], dtype=torch.uint8),\n",
       " tensor([1, 0, 0,  ..., 1, 1, 0], dtype=torch.uint8),\n",
       " tensor([1, 0, 0,  ..., 1, 1, 0], dtype=torch.uint8),\n",
       " tensor([1, 0, 0,  ..., 1, 1, 0], dtype=torch.uint8),\n",
       " tensor([1, 0, 0,  ..., 1, 1, 0], dtype=torch.uint8),\n",
       " tensor([1, 0, 0,  ..., 1, 1, 0], dtype=torch.uint8),\n",
       " tensor([1, 0, 0,  ..., 1, 1, 0], dtype=torch.uint8),\n",
       " tensor([1, 0, 0,  ..., 1, 1, 0], dtype=torch.uint8),\n",
       " tensor([1, 0, 0,  ..., 1, 1, 0], dtype=torch.uint8),\n",
       " tensor([1, 0, 0,  ..., 1, 1, 0], dtype=torch.uint8),\n",
       " tensor([1, 0, 0,  ..., 1, 1, 0], dtype=torch.uint8),\n",
       " tensor([1, 0, 0,  ..., 1, 1, 0], dtype=torch.uint8),\n",
       " tensor([1, 0, 0,  ..., 1, 1, 0], dtype=torch.uint8),\n",
       " tensor([1, 0, 0,  ..., 1, 1, 0], dtype=torch.uint8),\n",
       " tensor([1, 0, 0,  ..., 1, 1, 0], dtype=torch.uint8),\n",
       " tensor([1, 0, 0,  ..., 1, 1, 0], dtype=torch.uint8),\n",
       " tensor([1, 0, 0,  ..., 1, 1, 0], dtype=torch.uint8),\n",
       " tensor([1, 0, 0,  ..., 1, 1, 0], dtype=torch.uint8),\n",
       " tensor([1, 0, 0,  ..., 1, 1, 0], dtype=torch.uint8),\n",
       " tensor([1, 0, 0,  ..., 1, 1, 0], dtype=torch.uint8),\n",
       " tensor([1, 0, 0,  ..., 1, 1, 0], dtype=torch.uint8),\n",
       " tensor([1, 0, 0,  ..., 1, 1, 0], dtype=torch.uint8),\n",
       " tensor([1, 0, 0,  ..., 1, 1, 0], dtype=torch.uint8),\n",
       " tensor([1, 0, 0,  ..., 1, 1, 0], dtype=torch.uint8),\n",
       " tensor([1, 0, 0,  ..., 1, 1, 0], dtype=torch.uint8),\n",
       " tensor([1, 0, 0,  ..., 1, 1, 0], dtype=torch.uint8),\n",
       " tensor([1, 0, 0,  ..., 1, 1, 0], dtype=torch.uint8),\n",
       " tensor([1, 0, 0,  ..., 1, 1, 0], dtype=torch.uint8),\n",
       " tensor([1, 0, 0,  ..., 1, 1, 0], dtype=torch.uint8),\n",
       " tensor([1, 0, 0,  ..., 1, 1, 0], dtype=torch.uint8),\n",
       " tensor([1, 0, 0,  ..., 1, 1, 0], dtype=torch.uint8),\n",
       " tensor([1, 0, 0,  ..., 1, 1, 0], dtype=torch.uint8),\n",
       " tensor([1, 0, 0,  ..., 1, 1, 0], dtype=torch.uint8),\n",
       " tensor([1, 0, 0,  ..., 1, 1, 0], dtype=torch.uint8),\n",
       " tensor([1, 0, 0,  ..., 1, 1, 0], dtype=torch.uint8),\n",
       " tensor([1, 0, 0,  ..., 1, 1, 0], dtype=torch.uint8),\n",
       " tensor([1, 0, 0,  ..., 1, 1, 0], dtype=torch.uint8),\n",
       " tensor([1, 0, 0,  ..., 1, 1, 0], dtype=torch.uint8),\n",
       " tensor([1, 0, 0,  ..., 1, 1, 0], dtype=torch.uint8),\n",
       " tensor([1, 0, 0,  ..., 1, 1, 0], dtype=torch.uint8),\n",
       " tensor([1, 0, 0,  ..., 1, 1, 0], dtype=torch.uint8),\n",
       " tensor([1, 0, 0,  ..., 1, 1, 0], dtype=torch.uint8),\n",
       " tensor([1, 0, 0,  ..., 1, 1, 0], dtype=torch.uint8),\n",
       " tensor([1, 0, 0,  ..., 1, 1, 0], dtype=torch.uint8),\n",
       " tensor([1, 0, 0,  ..., 1, 1, 0], dtype=torch.uint8),\n",
       " tensor([1, 0, 0,  ..., 1, 1, 0], dtype=torch.uint8),\n",
       " tensor([1, 0, 0,  ..., 1, 1, 0], dtype=torch.uint8),\n",
       " tensor([1, 0, 0,  ..., 1, 1, 0], dtype=torch.uint8),\n",
       " tensor([1, 0, 0,  ..., 1, 1, 0], dtype=torch.uint8),\n",
       " tensor([1, 0, 0,  ..., 1, 1, 0], dtype=torch.uint8),\n",
       " tensor([1, 0, 0,  ..., 1, 1, 0], dtype=torch.uint8),\n",
       " tensor([1, 0, 0,  ..., 1, 1, 0], dtype=torch.uint8),\n",
       " tensor([1, 0, 0,  ..., 1, 1, 0], dtype=torch.uint8),\n",
       " tensor([1, 0, 0,  ..., 1, 1, 0], dtype=torch.uint8),\n",
       " tensor([1, 0, 0,  ..., 1, 1, 0], dtype=torch.uint8),\n",
       " tensor([1, 0, 0,  ..., 1, 1, 0], dtype=torch.uint8),\n",
       " tensor([1, 0, 0,  ..., 1, 1, 0], dtype=torch.uint8),\n",
       " tensor([1, 0, 0,  ..., 1, 1, 0], dtype=torch.uint8),\n",
       " tensor([1, 0, 0,  ..., 1, 1, 0], dtype=torch.uint8),\n",
       " tensor([1, 0, 0,  ..., 1, 1, 0], dtype=torch.uint8),\n",
       " tensor([1, 0, 0,  ..., 1, 1, 0], dtype=torch.uint8),\n",
       " tensor([1, 0, 0,  ..., 1, 1, 0], dtype=torch.uint8),\n",
       " tensor([1, 0, 0,  ..., 1, 1, 0], dtype=torch.uint8),\n",
       " tensor([1, 0, 0,  ..., 1, 1, 0], dtype=torch.uint8),\n",
       " tensor([1, 0, 0,  ..., 1, 1, 0], dtype=torch.uint8),\n",
       " tensor([1, 0, 0,  ..., 1, 1, 0], dtype=torch.uint8),\n",
       " tensor([1, 0, 0,  ..., 1, 1, 0], dtype=torch.uint8),\n",
       " tensor([1, 0, 0,  ..., 1, 1, 0], dtype=torch.uint8),\n",
       " tensor([1, 0, 0,  ..., 1, 1, 0], dtype=torch.uint8),\n",
       " tensor([1, 0, 0,  ..., 1, 1, 0], dtype=torch.uint8),\n",
       " tensor([1, 0, 0,  ..., 1, 1, 0], dtype=torch.uint8),\n",
       " tensor([1, 0, 0,  ..., 1, 1, 0], dtype=torch.uint8),\n",
       " tensor([1, 0, 0,  ..., 1, 1, 0], dtype=torch.uint8),\n",
       " tensor([1, 0, 0,  ..., 1, 1, 0], dtype=torch.uint8),\n",
       " tensor([1, 0, 0,  ..., 1, 1, 0], dtype=torch.uint8),\n",
       " tensor([1, 0, 0,  ..., 1, 1, 0], dtype=torch.uint8),\n",
       " tensor([1, 0, 0,  ..., 1, 1, 0], dtype=torch.uint8),\n",
       " tensor([1, 0, 0,  ..., 1, 1, 0], dtype=torch.uint8),\n",
       " tensor([1, 0, 0,  ..., 1, 1, 0], dtype=torch.uint8),\n",
       " tensor([1, 0, 0,  ..., 1, 1, 0], dtype=torch.uint8),\n",
       " tensor([1, 0, 0,  ..., 1, 1, 0], dtype=torch.uint8),\n",
       " tensor([1, 0, 0,  ..., 1, 1, 0], dtype=torch.uint8),\n",
       " tensor([1, 0, 0,  ..., 1, 1, 0], dtype=torch.uint8),\n",
       " tensor([1, 0, 0,  ..., 1, 1, 0], dtype=torch.uint8),\n",
       " tensor([1, 0, 0,  ..., 1, 1, 0], dtype=torch.uint8),\n",
       " tensor([1, 0, 0,  ..., 1, 1, 0], dtype=torch.uint8),\n",
       " tensor([1, 0, 0,  ..., 1, 1, 0], dtype=torch.uint8),\n",
       " tensor([1, 0, 0,  ..., 1, 1, 0], dtype=torch.uint8),\n",
       " tensor([1, 0, 0,  ..., 1, 1, 0], dtype=torch.uint8),\n",
       " tensor([1, 0, 0,  ..., 1, 1, 0], dtype=torch.uint8),\n",
       " tensor([1, 0, 0,  ..., 1, 1, 0], dtype=torch.uint8),\n",
       " tensor([1, 0, 0,  ..., 1, 1, 0], dtype=torch.uint8),\n",
       " tensor([1, 0, 0,  ..., 1, 1, 0], dtype=torch.uint8),\n",
       " tensor([1, 0, 0,  ..., 1, 1, 0], dtype=torch.uint8),\n",
       " tensor([1, 0, 0,  ..., 1, 1, 0], dtype=torch.uint8),\n",
       " tensor([1, 0, 0,  ..., 1, 1, 0], dtype=torch.uint8),\n",
       " tensor([1, 0, 0,  ..., 1, 1, 0], dtype=torch.uint8),\n",
       " tensor([1, 0, 0,  ..., 1, 1, 0], dtype=torch.uint8),\n",
       " tensor([1, 0, 0,  ..., 1, 1, 0], dtype=torch.uint8),\n",
       " tensor([1, 0, 0,  ..., 1, 1, 0], dtype=torch.uint8),\n",
       " tensor([1, 0, 0,  ..., 1, 1, 0], dtype=torch.uint8),\n",
       " tensor([1, 0, 0,  ..., 1, 1, 0], dtype=torch.uint8),\n",
       " tensor([1, 0, 0,  ..., 1, 1, 0], dtype=torch.uint8),\n",
       " tensor([1, 0, 0,  ..., 1, 1, 0], dtype=torch.uint8),\n",
       " tensor([1, 0, 0,  ..., 1, 1, 0], dtype=torch.uint8),\n",
       " tensor([1, 0, 0,  ..., 1, 1, 0], dtype=torch.uint8),\n",
       " tensor([1, 0, 0,  ..., 1, 1, 0], dtype=torch.uint8),\n",
       " tensor([1, 0, 0,  ..., 1, 1, 0], dtype=torch.uint8),\n",
       " tensor([1, 0, 0,  ..., 1, 1, 0], dtype=torch.uint8),\n",
       " tensor([1, 0, 0,  ..., 1, 1, 0], dtype=torch.uint8),\n",
       " tensor([1, 0, 0,  ..., 1, 1, 0], dtype=torch.uint8),\n",
       " tensor([1, 0, 0,  ..., 1, 1, 0], dtype=torch.uint8),\n",
       " tensor([1, 0, 0,  ..., 1, 1, 0], dtype=torch.uint8),\n",
       " tensor([1, 0, 0,  ..., 1, 1, 0], dtype=torch.uint8),\n",
       " tensor([1, 0, 0,  ..., 1, 1, 0], dtype=torch.uint8),\n",
       " tensor([1, 0, 0,  ..., 1, 1, 0], dtype=torch.uint8),\n",
       " tensor([1, 0, 0,  ..., 1, 1, 0], dtype=torch.uint8),\n",
       " tensor([1, 0, 0,  ..., 1, 1, 0], dtype=torch.uint8),\n",
       " tensor([1, 0, 0,  ..., 1, 1, 0], dtype=torch.uint8),\n",
       " tensor([1, 0, 0,  ..., 1, 1, 0], dtype=torch.uint8),\n",
       " tensor([1, 0, 0,  ..., 1, 1, 0], dtype=torch.uint8),\n",
       " tensor([1, 0, 0,  ..., 1, 1, 0], dtype=torch.uint8),\n",
       " tensor([1, 0, 0,  ..., 1, 1, 0], dtype=torch.uint8),\n",
       " tensor([1, 0, 0,  ..., 1, 1, 0], dtype=torch.uint8),\n",
       " tensor([1, 0, 0,  ..., 1, 1, 0], dtype=torch.uint8),\n",
       " tensor([1, 0, 0,  ..., 1, 1, 0], dtype=torch.uint8),\n",
       " tensor([1, 0, 0,  ..., 1, 1, 0], dtype=torch.uint8),\n",
       " tensor([1, 0, 0,  ..., 1, 1, 0], dtype=torch.uint8),\n",
       " tensor([1, 0, 0,  ..., 1, 1, 0], dtype=torch.uint8),\n",
       " tensor([1, 0, 0,  ..., 1, 1, 0], dtype=torch.uint8),\n",
       " tensor([1, 0, 0,  ..., 1, 1, 0], dtype=torch.uint8),\n",
       " tensor([1, 0, 0,  ..., 1, 1, 0], dtype=torch.uint8),\n",
       " tensor([1, 0, 0,  ..., 1, 1, 0], dtype=torch.uint8),\n",
       " tensor([1, 0, 0,  ..., 1, 1, 0], dtype=torch.uint8),\n",
       " tensor([1, 0, 0,  ..., 1, 1, 0], dtype=torch.uint8),\n",
       " tensor([1, 0, 0,  ..., 1, 1, 0], dtype=torch.uint8),\n",
       " tensor([1, 0, 0,  ..., 1, 1, 0], dtype=torch.uint8),\n",
       " tensor([1, 0, 0,  ..., 1, 1, 0], dtype=torch.uint8),\n",
       " tensor([1, 0, 0,  ..., 1, 1, 0], dtype=torch.uint8),\n",
       " tensor([1, 0, 0,  ..., 1, 1, 0], dtype=torch.uint8),\n",
       " tensor([1, 0, 0,  ..., 1, 1, 0], dtype=torch.uint8),\n",
       " tensor([1, 0, 0,  ..., 1, 1, 0], dtype=torch.uint8),\n",
       " tensor([1, 0, 0,  ..., 1, 1, 0], dtype=torch.uint8),\n",
       " tensor([1, 0, 0,  ..., 1, 1, 0], dtype=torch.uint8),\n",
       " tensor([1, 0, 0,  ..., 1, 1, 0], dtype=torch.uint8),\n",
       " tensor([1, 0, 0,  ..., 1, 1, 0], dtype=torch.uint8),\n",
       " tensor([1, 0, 0,  ..., 1, 1, 0], dtype=torch.uint8),\n",
       " tensor([1, 0, 0,  ..., 1, 1, 0], dtype=torch.uint8),\n",
       " tensor([1, 0, 0,  ..., 1, 1, 0], dtype=torch.uint8),\n",
       " tensor([1, 0, 0,  ..., 1, 1, 0], dtype=torch.uint8),\n",
       " tensor([1, 0, 0,  ..., 1, 1, 0], dtype=torch.uint8),\n",
       " tensor([1, 0, 0,  ..., 1, 1, 0], dtype=torch.uint8),\n",
       " tensor([1, 0, 0,  ..., 1, 1, 0], dtype=torch.uint8),\n",
       " tensor([1, 0, 0,  ..., 1, 1, 0], dtype=torch.uint8),\n",
       " tensor([1, 0, 0,  ..., 1, 1, 0], dtype=torch.uint8),\n",
       " tensor([1, 0, 0,  ..., 1, 1, 0], dtype=torch.uint8),\n",
       " tensor([1, 0, 0,  ..., 1, 1, 0], dtype=torch.uint8),\n",
       " tensor([1, 0, 0,  ..., 1, 1, 0], dtype=torch.uint8),\n",
       " tensor([1, 0, 0,  ..., 1, 1, 0], dtype=torch.uint8),\n",
       " tensor([1, 0, 0,  ..., 1, 1, 0], dtype=torch.uint8),\n",
       " tensor([1, 0, 0,  ..., 1, 1, 0], dtype=torch.uint8),\n",
       " tensor([1, 0, 0,  ..., 1, 1, 0], dtype=torch.uint8),\n",
       " tensor([1, 0, 0,  ..., 1, 1, 0], dtype=torch.uint8),\n",
       " tensor([1, 0, 0,  ..., 1, 1, 0], dtype=torch.uint8),\n",
       " tensor([1, 0, 0,  ..., 1, 1, 0], dtype=torch.uint8),\n",
       " tensor([1, 0, 0,  ..., 1, 1, 0], dtype=torch.uint8),\n",
       " tensor([1, 0, 0,  ..., 1, 1, 0], dtype=torch.uint8),\n",
       " tensor([1, 0, 0,  ..., 1, 1, 0], dtype=torch.uint8),\n",
       " tensor([1, 0, 0,  ..., 1, 1, 0], dtype=torch.uint8),\n",
       " tensor([1, 0, 0,  ..., 1, 1, 0], dtype=torch.uint8),\n",
       " tensor([1, 0, 0,  ..., 1, 1, 0], dtype=torch.uint8),\n",
       " tensor([1, 0, 0,  ..., 1, 1, 0], dtype=torch.uint8),\n",
       " tensor([1, 0, 0,  ..., 1, 1, 0], dtype=torch.uint8),\n",
       " tensor([1, 0, 0,  ..., 1, 1, 0], dtype=torch.uint8),\n",
       " tensor([1, 0, 0,  ..., 1, 1, 0], dtype=torch.uint8),\n",
       " tensor([1, 0, 0,  ..., 1, 1, 0], dtype=torch.uint8),\n",
       " tensor([1, 0, 0,  ..., 1, 1, 0], dtype=torch.uint8),\n",
       " tensor([1, 0, 0,  ..., 1, 1, 0], dtype=torch.uint8),\n",
       " tensor([1, 0, 0,  ..., 1, 1, 0], dtype=torch.uint8),\n",
       " tensor([1, 0, 0,  ..., 1, 1, 0], dtype=torch.uint8),\n",
       " tensor([1, 0, 0,  ..., 1, 1, 0], dtype=torch.uint8),\n",
       " tensor([1, 0, 0,  ..., 1, 1, 0], dtype=torch.uint8),\n",
       " tensor([1, 0, 0,  ..., 1, 1, 0], dtype=torch.uint8),\n",
       " tensor([1, 0, 0,  ..., 1, 1, 0], dtype=torch.uint8),\n",
       " tensor([1, 0, 0,  ..., 1, 1, 0], dtype=torch.uint8),\n",
       " tensor([1, 0, 0,  ..., 1, 1, 0], dtype=torch.uint8),\n",
       " tensor([1, 0, 0,  ..., 1, 1, 0], dtype=torch.uint8),\n",
       " tensor([1, 0, 0,  ..., 1, 1, 0], dtype=torch.uint8),\n",
       " tensor([1, 0, 0,  ..., 1, 1, 0], dtype=torch.uint8),\n",
       " tensor([1, 0, 0,  ..., 1, 1, 0], dtype=torch.uint8),\n",
       " tensor([1, 0, 0,  ..., 1, 1, 0], dtype=torch.uint8),\n",
       " tensor([1, 0, 0,  ..., 1, 1, 0], dtype=torch.uint8),\n",
       " tensor([1, 0, 0,  ..., 1, 1, 0], dtype=torch.uint8),\n",
       " tensor([1, 0, 0,  ..., 1, 1, 0], dtype=torch.uint8),\n",
       " tensor([1, 0, 0,  ..., 1, 1, 0], dtype=torch.uint8),\n",
       " tensor([1, 0, 0,  ..., 1, 1, 0], dtype=torch.uint8),\n",
       " tensor([1, 0, 0,  ..., 1, 1, 0], dtype=torch.uint8),\n",
       " tensor([1, 0, 0,  ..., 1, 1, 0], dtype=torch.uint8),\n",
       " tensor([1, 0, 0,  ..., 1, 1, 0], dtype=torch.uint8),\n",
       " tensor([1, 0, 0,  ..., 1, 1, 0], dtype=torch.uint8),\n",
       " tensor([1, 0, 0,  ..., 1, 1, 0], dtype=torch.uint8),\n",
       " tensor([1, 0, 0,  ..., 1, 1, 0], dtype=torch.uint8),\n",
       " tensor([1, 0, 0,  ..., 1, 1, 0], dtype=torch.uint8),\n",
       " tensor([1, 0, 0,  ..., 1, 1, 0], dtype=torch.uint8),\n",
       " tensor([1, 0, 0,  ..., 1, 1, 0], dtype=torch.uint8),\n",
       " tensor([1, 0, 0,  ..., 1, 1, 0], dtype=torch.uint8),\n",
       " tensor([1, 0, 0,  ..., 1, 1, 0], dtype=torch.uint8),\n",
       " tensor([1, 0, 0,  ..., 1, 1, 0], dtype=torch.uint8),\n",
       " tensor([1, 0, 0,  ..., 1, 1, 0], dtype=torch.uint8),\n",
       " tensor([1, 0, 0,  ..., 1, 1, 0], dtype=torch.uint8),\n",
       " tensor([1, 0, 0,  ..., 1, 1, 0], dtype=torch.uint8),\n",
       " tensor([1, 0, 0,  ..., 1, 1, 0], dtype=torch.uint8),\n",
       " tensor([1, 0, 0,  ..., 1, 1, 0], dtype=torch.uint8),\n",
       " tensor([1, 0, 0,  ..., 1, 1, 0], dtype=torch.uint8),\n",
       " tensor([1, 0, 0,  ..., 1, 1, 0], dtype=torch.uint8),\n",
       " tensor([1, 0, 0,  ..., 1, 1, 0], dtype=torch.uint8),\n",
       " tensor([1, 0, 0,  ..., 1, 1, 0], dtype=torch.uint8),\n",
       " tensor([1, 0, 0,  ..., 1, 1, 0], dtype=torch.uint8),\n",
       " tensor([1, 0, 0,  ..., 1, 1, 0], dtype=torch.uint8),\n",
       " tensor([1, 0, 0,  ..., 1, 1, 0], dtype=torch.uint8),\n",
       " tensor([1, 0, 0,  ..., 1, 1, 0], dtype=torch.uint8),\n",
       " tensor([1, 0, 0,  ..., 1, 1, 0], dtype=torch.uint8),\n",
       " tensor([1, 0, 0,  ..., 1, 1, 0], dtype=torch.uint8),\n",
       " tensor([1, 0, 0,  ..., 1, 1, 0], dtype=torch.uint8),\n",
       " tensor([1, 0, 0,  ..., 1, 1, 0], dtype=torch.uint8),\n",
       " tensor([1, 0, 0,  ..., 1, 1, 0], dtype=torch.uint8),\n",
       " tensor([1, 0, 0,  ..., 1, 1, 0], dtype=torch.uint8),\n",
       " tensor([1, 0, 0,  ..., 1, 1, 0], dtype=torch.uint8),\n",
       " tensor([1, 0, 0,  ..., 1, 1, 0], dtype=torch.uint8),\n",
       " tensor([1, 0, 0,  ..., 1, 1, 0], dtype=torch.uint8),\n",
       " tensor([1, 0, 0,  ..., 1, 1, 0], dtype=torch.uint8),\n",
       " tensor([1, 0, 0,  ..., 1, 1, 0], dtype=torch.uint8),\n",
       " tensor([1, 0, 0,  ..., 1, 1, 0], dtype=torch.uint8),\n",
       " tensor([1, 0, 0,  ..., 1, 1, 0], dtype=torch.uint8),\n",
       " tensor([1, 0, 0,  ..., 1, 1, 0], dtype=torch.uint8),\n",
       " tensor([1, 0, 0,  ..., 1, 1, 0], dtype=torch.uint8),\n",
       " tensor([1, 0, 0,  ..., 1, 1, 0], dtype=torch.uint8),\n",
       " tensor([1, 0, 0,  ..., 1, 1, 0], dtype=torch.uint8),\n",
       " tensor([1, 0, 0,  ..., 1, 1, 0], dtype=torch.uint8),\n",
       " tensor([1, 0, 0,  ..., 1, 1, 0], dtype=torch.uint8),\n",
       " tensor([1, 0, 0,  ..., 1, 1, 0], dtype=torch.uint8),\n",
       " tensor([1, 0, 0,  ..., 1, 1, 0], dtype=torch.uint8),\n",
       " tensor([1, 0, 0,  ..., 1, 1, 0], dtype=torch.uint8),\n",
       " tensor([1, 0, 0,  ..., 1, 1, 0], dtype=torch.uint8),\n",
       " tensor([1, 0, 0,  ..., 1, 1, 0], dtype=torch.uint8),\n",
       " tensor([1, 0, 0,  ..., 1, 1, 0], dtype=torch.uint8),\n",
       " tensor([1, 0, 0,  ..., 1, 1, 0], dtype=torch.uint8),\n",
       " tensor([1, 0, 0,  ..., 1, 1, 0], dtype=torch.uint8),\n",
       " tensor([1, 0, 0,  ..., 1, 1, 0], dtype=torch.uint8),\n",
       " tensor([1, 0, 0,  ..., 1, 1, 0], dtype=torch.uint8),\n",
       " tensor([1, 0, 0,  ..., 1, 1, 0], dtype=torch.uint8),\n",
       " tensor([1, 0, 0,  ..., 1, 1, 0], dtype=torch.uint8),\n",
       " tensor([1, 0, 0,  ..., 1, 1, 0], dtype=torch.uint8),\n",
       " tensor([1, 0, 0,  ..., 1, 1, 0], dtype=torch.uint8),\n",
       " tensor([1, 0, 0,  ..., 1, 1, 0], dtype=torch.uint8),\n",
       " tensor([1, 0, 0,  ..., 1, 1, 0], dtype=torch.uint8),\n",
       " tensor([1, 0, 0,  ..., 1, 1, 0], dtype=torch.uint8),\n",
       " tensor([1, 0, 0,  ..., 1, 1, 0], dtype=torch.uint8),\n",
       " tensor([1, 0, 0,  ..., 1, 1, 0], dtype=torch.uint8),\n",
       " tensor([1, 0, 0,  ..., 1, 1, 0], dtype=torch.uint8),\n",
       " tensor([1, 0, 0,  ..., 1, 1, 0], dtype=torch.uint8),\n",
       " tensor([1, 0, 0,  ..., 1, 1, 0], dtype=torch.uint8),\n",
       " tensor([1, 0, 0,  ..., 1, 1, 0], dtype=torch.uint8),\n",
       " tensor([1, 0, 0,  ..., 1, 1, 0], dtype=torch.uint8),\n",
       " tensor([1, 0, 0,  ..., 1, 1, 0], dtype=torch.uint8),\n",
       " tensor([1, 0, 0,  ..., 1, 1, 0], dtype=torch.uint8),\n",
       " tensor([1, 0, 0,  ..., 1, 1, 0], dtype=torch.uint8),\n",
       " tensor([1, 0, 0,  ..., 1, 1, 0], dtype=torch.uint8),\n",
       " tensor([1, 0, 0,  ..., 1, 1, 0], dtype=torch.uint8),\n",
       " tensor([1, 0, 0,  ..., 1, 1, 0], dtype=torch.uint8),\n",
       " tensor([1, 0, 0,  ..., 1, 1, 0], dtype=torch.uint8),\n",
       " tensor([1, 0, 0,  ..., 1, 1, 0], dtype=torch.uint8),\n",
       " tensor([1, 0, 0,  ..., 1, 1, 0], dtype=torch.uint8),\n",
       " tensor([1, 0, 0,  ..., 1, 1, 0], dtype=torch.uint8),\n",
       " tensor([1, 0, 0,  ..., 1, 1, 0], dtype=torch.uint8),\n",
       " tensor([1, 0, 0,  ..., 1, 1, 0], dtype=torch.uint8),\n",
       " tensor([1, 0, 0,  ..., 1, 1, 0], dtype=torch.uint8),\n",
       " tensor([1, 0, 0,  ..., 1, 1, 0], dtype=torch.uint8),\n",
       " tensor([1, 0, 0,  ..., 1, 1, 0], dtype=torch.uint8),\n",
       " tensor([1, 0, 0,  ..., 1, 1, 0], dtype=torch.uint8),\n",
       " tensor([1, 0, 0,  ..., 1, 1, 0], dtype=torch.uint8),\n",
       " tensor([1, 0, 0,  ..., 1, 1, 0], dtype=torch.uint8),\n",
       " tensor([1, 0, 0,  ..., 1, 1, 0], dtype=torch.uint8),\n",
       " tensor([1, 0, 0,  ..., 1, 1, 0], dtype=torch.uint8),\n",
       " tensor([1, 0, 0,  ..., 1, 1, 0], dtype=torch.uint8),\n",
       " tensor([1, 0, 0,  ..., 1, 1, 0], dtype=torch.uint8),\n",
       " tensor([1, 0, 0,  ..., 1, 1, 0], dtype=torch.uint8),\n",
       " tensor([1, 0, 0,  ..., 1, 1, 0], dtype=torch.uint8),\n",
       " tensor([1, 0, 0,  ..., 1, 1, 0], dtype=torch.uint8),\n",
       " tensor([1, 0, 0,  ..., 1, 1, 0], dtype=torch.uint8),\n",
       " tensor([1, 0, 0,  ..., 1, 1, 0], dtype=torch.uint8),\n",
       " tensor([1, 0, 0,  ..., 1, 1, 0], dtype=torch.uint8),\n",
       " tensor([1, 0, 0,  ..., 1, 1, 0], dtype=torch.uint8),\n",
       " tensor([1, 0, 0,  ..., 1, 1, 0], dtype=torch.uint8),\n",
       " tensor([1, 0, 0,  ..., 1, 1, 0], dtype=torch.uint8),\n",
       " tensor([1, 0, 0,  ..., 1, 1, 0], dtype=torch.uint8),\n",
       " tensor([1, 0, 0,  ..., 1, 1, 0], dtype=torch.uint8),\n",
       " tensor([1, 0, 0,  ..., 1, 1, 0], dtype=torch.uint8),\n",
       " tensor([1, 0, 0,  ..., 1, 1, 0], dtype=torch.uint8),\n",
       " tensor([1, 0, 0,  ..., 1, 1, 0], dtype=torch.uint8),\n",
       " tensor([1, 0, 0,  ..., 1, 1, 0], dtype=torch.uint8),\n",
       " tensor([1, 0, 0,  ..., 1, 1, 0], dtype=torch.uint8),\n",
       " tensor([1, 0, 0,  ..., 1, 1, 0], dtype=torch.uint8),\n",
       " tensor([1, 0, 0,  ..., 1, 1, 0], dtype=torch.uint8),\n",
       " tensor([1, 0, 0,  ..., 1, 1, 0], dtype=torch.uint8),\n",
       " tensor([1, 0, 0,  ..., 1, 1, 0], dtype=torch.uint8),\n",
       " tensor([1, 0, 0,  ..., 1, 1, 0], dtype=torch.uint8),\n",
       " tensor([1, 0, 0,  ..., 1, 1, 0], dtype=torch.uint8),\n",
       " tensor([1, 0, 0,  ..., 1, 1, 0], dtype=torch.uint8),\n",
       " tensor([1, 0, 0,  ..., 1, 1, 0], dtype=torch.uint8),\n",
       " tensor([1, 0, 0,  ..., 1, 1, 0], dtype=torch.uint8),\n",
       " tensor([1, 0, 0,  ..., 1, 1, 0], dtype=torch.uint8),\n",
       " tensor([1, 0, 0,  ..., 1, 1, 0], dtype=torch.uint8),\n",
       " tensor([1, 0, 0,  ..., 1, 1, 0], dtype=torch.uint8),\n",
       " tensor([1, 0, 0,  ..., 1, 1, 0], dtype=torch.uint8),\n",
       " tensor([1, 0, 0,  ..., 1, 1, 0], dtype=torch.uint8),\n",
       " tensor([1, 0, 0,  ..., 1, 1, 0], dtype=torch.uint8),\n",
       " tensor([1, 0, 0,  ..., 1, 1, 0], dtype=torch.uint8),\n",
       " tensor([1, 0, 0,  ..., 1, 1, 0], dtype=torch.uint8),\n",
       " tensor([1, 0, 0,  ..., 1, 1, 0], dtype=torch.uint8),\n",
       " tensor([1, 0, 0,  ..., 1, 1, 0], dtype=torch.uint8),\n",
       " tensor([1, 0, 0,  ..., 1, 1, 0], dtype=torch.uint8),\n",
       " tensor([1, 0, 0,  ..., 1, 1, 0], dtype=torch.uint8),\n",
       " tensor([1, 0, 0,  ..., 1, 1, 0], dtype=torch.uint8),\n",
       " tensor([1, 0, 0,  ..., 1, 1, 0], dtype=torch.uint8),\n",
       " tensor([1, 0, 0,  ..., 1, 1, 0], dtype=torch.uint8),\n",
       " tensor([1, 0, 0,  ..., 1, 1, 0], dtype=torch.uint8),\n",
       " tensor([1, 0, 0,  ..., 1, 1, 0], dtype=torch.uint8),\n",
       " tensor([1, 0, 0,  ..., 1, 1, 0], dtype=torch.uint8),\n",
       " tensor([1, 0, 0,  ..., 1, 1, 0], dtype=torch.uint8),\n",
       " tensor([1, 0, 0,  ..., 1, 1, 0], dtype=torch.uint8),\n",
       " tensor([1, 0, 0,  ..., 1, 1, 0], dtype=torch.uint8),\n",
       " tensor([1, 0, 0,  ..., 1, 1, 0], dtype=torch.uint8),\n",
       " tensor([1, 0, 0,  ..., 1, 1, 0], dtype=torch.uint8),\n",
       " tensor([1, 0, 0,  ..., 1, 1, 0], dtype=torch.uint8),\n",
       " tensor([1, 0, 0,  ..., 1, 1, 0], dtype=torch.uint8),\n",
       " tensor([1, 0, 0,  ..., 1, 1, 0], dtype=torch.uint8),\n",
       " tensor([1, 0, 0,  ..., 1, 1, 0], dtype=torch.uint8),\n",
       " tensor([1, 0, 0,  ..., 1, 1, 0], dtype=torch.uint8),\n",
       " tensor([1, 0, 0,  ..., 1, 1, 0], dtype=torch.uint8),\n",
       " tensor([1, 0, 0,  ..., 1, 1, 0], dtype=torch.uint8),\n",
       " tensor([1, 0, 0,  ..., 1, 1, 0], dtype=torch.uint8),\n",
       " tensor([1, 0, 0,  ..., 1, 1, 0], dtype=torch.uint8),\n",
       " tensor([1, 0, 0,  ..., 1, 1, 0], dtype=torch.uint8),\n",
       " tensor([1, 0, 0,  ..., 1, 1, 0], dtype=torch.uint8),\n",
       " tensor([1, 0, 0,  ..., 1, 1, 0], dtype=torch.uint8),\n",
       " tensor([1, 0, 0,  ..., 1, 1, 0], dtype=torch.uint8),\n",
       " tensor([1, 0, 0,  ..., 1, 1, 0], dtype=torch.uint8),\n",
       " tensor([1, 0, 0,  ..., 1, 1, 0], dtype=torch.uint8),\n",
       " tensor([1, 0, 0,  ..., 1, 1, 0], dtype=torch.uint8),\n",
       " tensor([1, 0, 0,  ..., 1, 1, 0], dtype=torch.uint8),\n",
       " tensor([1, 0, 0,  ..., 1, 1, 0], dtype=torch.uint8),\n",
       " tensor([1, 0, 0,  ..., 1, 1, 0], dtype=torch.uint8),\n",
       " tensor([1, 0, 0,  ..., 1, 1, 0], dtype=torch.uint8),\n",
       " tensor([1, 0, 0,  ..., 1, 1, 0], dtype=torch.uint8),\n",
       " tensor([1, 0, 0,  ..., 1, 1, 0], dtype=torch.uint8),\n",
       " tensor([1, 0, 0,  ..., 1, 1, 0], dtype=torch.uint8),\n",
       " tensor([1, 0, 0,  ..., 1, 1, 0], dtype=torch.uint8),\n",
       " tensor([1, 0, 0,  ..., 1, 1, 0], dtype=torch.uint8),\n",
       " tensor([1, 0, 0,  ..., 1, 1, 0], dtype=torch.uint8),\n",
       " tensor([1, 0, 0,  ..., 1, 1, 0], dtype=torch.uint8),\n",
       " tensor([1, 0, 0,  ..., 1, 1, 0], dtype=torch.uint8),\n",
       " tensor([1, 0, 0,  ..., 1, 1, 0], dtype=torch.uint8),\n",
       " tensor([1, 0, 0,  ..., 1, 1, 0], dtype=torch.uint8),\n",
       " tensor([1, 0, 0,  ..., 1, 1, 0], dtype=torch.uint8),\n",
       " tensor([1, 0, 0,  ..., 1, 1, 0], dtype=torch.uint8),\n",
       " tensor([1, 0, 0,  ..., 1, 1, 0], dtype=torch.uint8),\n",
       " tensor([1, 0, 0,  ..., 1, 1, 0], dtype=torch.uint8),\n",
       " tensor([1, 0, 0,  ..., 1, 1, 0], dtype=torch.uint8),\n",
       " tensor([1, 0, 0,  ..., 1, 1, 0], dtype=torch.uint8),\n",
       " tensor([1, 0, 0,  ..., 1, 1, 0], dtype=torch.uint8),\n",
       " tensor([1, 0, 0,  ..., 1, 1, 0], dtype=torch.uint8),\n",
       " tensor([1, 0, 0,  ..., 1, 1, 0], dtype=torch.uint8),\n",
       " tensor([1, 0, 0,  ..., 1, 1, 0], dtype=torch.uint8),\n",
       " tensor([1, 0, 0,  ..., 1, 1, 0], dtype=torch.uint8),\n",
       " tensor([1, 0, 0,  ..., 1, 1, 0], dtype=torch.uint8),\n",
       " tensor([1, 0, 0,  ..., 1, 1, 0], dtype=torch.uint8),\n",
       " tensor([1, 0, 0,  ..., 1, 1, 0], dtype=torch.uint8),\n",
       " tensor([1, 0, 0,  ..., 1, 1, 0], dtype=torch.uint8),\n",
       " tensor([1, 0, 0,  ..., 1, 1, 0], dtype=torch.uint8),\n",
       " tensor([1, 0, 0,  ..., 1, 1, 0], dtype=torch.uint8),\n",
       " tensor([1, 0, 0,  ..., 1, 1, 0], dtype=torch.uint8),\n",
       " tensor([1, 0, 0,  ..., 1, 1, 0], dtype=torch.uint8),\n",
       " tensor([1, 0, 0,  ..., 1, 1, 0], dtype=torch.uint8),\n",
       " tensor([1, 0, 0,  ..., 1, 1, 0], dtype=torch.uint8),\n",
       " tensor([1, 0, 0,  ..., 1, 1, 0], dtype=torch.uint8),\n",
       " tensor([1, 0, 0,  ..., 1, 1, 0], dtype=torch.uint8),\n",
       " tensor([1, 0, 0,  ..., 1, 1, 0], dtype=torch.uint8),\n",
       " tensor([1, 0, 0,  ..., 1, 1, 0], dtype=torch.uint8),\n",
       " tensor([1, 0, 0,  ..., 1, 1, 0], dtype=torch.uint8),\n",
       " tensor([1, 0, 0,  ..., 1, 1, 0], dtype=torch.uint8),\n",
       " tensor([1, 0, 0,  ..., 1, 1, 0], dtype=torch.uint8),\n",
       " tensor([1, 0, 0,  ..., 1, 1, 0], dtype=torch.uint8),\n",
       " tensor([1, 0, 0,  ..., 1, 1, 0], dtype=torch.uint8),\n",
       " tensor([1, 0, 0,  ..., 1, 1, 0], dtype=torch.uint8),\n",
       " tensor([1, 0, 0,  ..., 1, 1, 0], dtype=torch.uint8),\n",
       " tensor([1, 0, 0,  ..., 1, 1, 0], dtype=torch.uint8),\n",
       " tensor([1, 0, 0,  ..., 1, 1, 0], dtype=torch.uint8),\n",
       " tensor([1, 0, 0,  ..., 1, 1, 0], dtype=torch.uint8),\n",
       " tensor([1, 0, 0,  ..., 1, 1, 0], dtype=torch.uint8),\n",
       " tensor([1, 0, 0,  ..., 1, 1, 0], dtype=torch.uint8),\n",
       " tensor([1, 0, 0,  ..., 1, 1, 0], dtype=torch.uint8),\n",
       " tensor([1, 0, 0,  ..., 1, 1, 0], dtype=torch.uint8),\n",
       " tensor([1, 0, 0,  ..., 1, 1, 0], dtype=torch.uint8),\n",
       " tensor([1, 0, 0,  ..., 1, 1, 0], dtype=torch.uint8),\n",
       " tensor([1, 0, 0,  ..., 1, 1, 0], dtype=torch.uint8),\n",
       " tensor([1, 0, 0,  ..., 1, 1, 0], dtype=torch.uint8),\n",
       " tensor([1, 0, 0,  ..., 1, 1, 0], dtype=torch.uint8),\n",
       " tensor([1, 0, 0,  ..., 1, 1, 0], dtype=torch.uint8),\n",
       " tensor([1, 0, 0,  ..., 1, 1, 0], dtype=torch.uint8),\n",
       " tensor([1, 0, 0,  ..., 1, 1, 0], dtype=torch.uint8),\n",
       " tensor([1, 0, 0,  ..., 1, 1, 0], dtype=torch.uint8),\n",
       " tensor([1, 0, 0,  ..., 1, 1, 0], dtype=torch.uint8),\n",
       " tensor([1, 0, 0,  ..., 1, 1, 0], dtype=torch.uint8),\n",
       " tensor([1, 0, 0,  ..., 1, 1, 0], dtype=torch.uint8),\n",
       " tensor([1, 0, 0,  ..., 1, 1, 0], dtype=torch.uint8),\n",
       " tensor([1, 0, 0,  ..., 1, 1, 0], dtype=torch.uint8),\n",
       " tensor([1, 0, 0,  ..., 1, 1, 0], dtype=torch.uint8),\n",
       " tensor([1, 0, 0,  ..., 1, 1, 0], dtype=torch.uint8),\n",
       " tensor([1, 0, 0,  ..., 1, 1, 0], dtype=torch.uint8),\n",
       " tensor([1, 0, 0,  ..., 1, 1, 0], dtype=torch.uint8),\n",
       " tensor([1, 0, 0,  ..., 1, 1, 0], dtype=torch.uint8),\n",
       " tensor([1, 0, 0,  ..., 1, 1, 0], dtype=torch.uint8),\n",
       " tensor([1, 0, 0,  ..., 1, 1, 0], dtype=torch.uint8),\n",
       " tensor([1, 0, 0,  ..., 1, 1, 0], dtype=torch.uint8),\n",
       " tensor([1, 0, 0,  ..., 1, 1, 0], dtype=torch.uint8),\n",
       " tensor([1, 0, 0,  ..., 1, 1, 0], dtype=torch.uint8),\n",
       " tensor([1, 0, 0,  ..., 1, 1, 0], dtype=torch.uint8),\n",
       " tensor([1, 0, 0,  ..., 1, 1, 0], dtype=torch.uint8),\n",
       " tensor([1, 0, 0,  ..., 1, 1, 0], dtype=torch.uint8),\n",
       " tensor([1, 0, 0,  ..., 1, 1, 0], dtype=torch.uint8),\n",
       " tensor([1, 0, 0,  ..., 1, 1, 0], dtype=torch.uint8),\n",
       " tensor([1, 0, 0,  ..., 1, 1, 0], dtype=torch.uint8),\n",
       " tensor([1, 0, 0,  ..., 1, 1, 0], dtype=torch.uint8),\n",
       " tensor([1, 0, 0,  ..., 1, 1, 0], dtype=torch.uint8),\n",
       " tensor([1, 0, 0,  ..., 1, 1, 0], dtype=torch.uint8),\n",
       " tensor([1, 0, 0,  ..., 1, 1, 0], dtype=torch.uint8),\n",
       " tensor([1, 0, 0,  ..., 1, 1, 0], dtype=torch.uint8),\n",
       " tensor([1, 0, 0,  ..., 1, 1, 0], dtype=torch.uint8),\n",
       " tensor([1, 0, 0,  ..., 1, 1, 0], dtype=torch.uint8),\n",
       " tensor([1, 0, 0,  ..., 1, 1, 0], dtype=torch.uint8),\n",
       " tensor([1, 0, 0,  ..., 1, 1, 0], dtype=torch.uint8),\n",
       " tensor([1, 0, 0,  ..., 1, 1, 0], dtype=torch.uint8),\n",
       " tensor([1, 0, 0,  ..., 1, 1, 0], dtype=torch.uint8),\n",
       " tensor([1, 0, 0,  ..., 1, 1, 0], dtype=torch.uint8),\n",
       " tensor([1, 0, 0,  ..., 1, 1, 0], dtype=torch.uint8),\n",
       " tensor([1, 0, 0,  ..., 1, 1, 0], dtype=torch.uint8),\n",
       " tensor([1, 0, 0,  ..., 1, 1, 0], dtype=torch.uint8),\n",
       " tensor([1, 0, 0,  ..., 1, 1, 0], dtype=torch.uint8),\n",
       " tensor([1, 0, 0,  ..., 1, 1, 0], dtype=torch.uint8),\n",
       " tensor([1, 0, 0,  ..., 1, 1, 0], dtype=torch.uint8),\n",
       " tensor([1, 0, 0,  ..., 1, 1, 0], dtype=torch.uint8),\n",
       " tensor([1, 0, 0,  ..., 1, 1, 0], dtype=torch.uint8),\n",
       " tensor([1, 0, 0,  ..., 1, 1, 0], dtype=torch.uint8),\n",
       " tensor([1, 0, 0,  ..., 1, 1, 0], dtype=torch.uint8),\n",
       " tensor([1, 0, 0,  ..., 1, 1, 0], dtype=torch.uint8),\n",
       " tensor([1, 0, 0,  ..., 1, 1, 0], dtype=torch.uint8),\n",
       " tensor([1, 0, 0,  ..., 1, 1, 0], dtype=torch.uint8),\n",
       " tensor([1, 0, 0,  ..., 1, 1, 0], dtype=torch.uint8),\n",
       " tensor([1, 0, 0,  ..., 1, 1, 0], dtype=torch.uint8),\n",
       " tensor([1, 0, 0,  ..., 1, 1, 0], dtype=torch.uint8),\n",
       " tensor([1, 0, 0,  ..., 1, 1, 0], dtype=torch.uint8),\n",
       " tensor([1, 0, 0,  ..., 1, 1, 0], dtype=torch.uint8),\n",
       " tensor([1, 0, 0,  ..., 1, 1, 0], dtype=torch.uint8),\n",
       " tensor([1, 0, 0,  ..., 1, 1, 0], dtype=torch.uint8),\n",
       " tensor([1, 0, 0,  ..., 1, 1, 0], dtype=torch.uint8),\n",
       " tensor([1, 0, 0,  ..., 1, 1, 0], dtype=torch.uint8),\n",
       " tensor([1, 0, 0,  ..., 1, 1, 0], dtype=torch.uint8),\n",
       " tensor([1, 0, 0,  ..., 1, 1, 0], dtype=torch.uint8),\n",
       " tensor([1, 0, 0,  ..., 1, 1, 0], dtype=torch.uint8),\n",
       " tensor([1, 0, 0,  ..., 1, 1, 0], dtype=torch.uint8),\n",
       " tensor([1, 0, 0,  ..., 1, 1, 0], dtype=torch.uint8),\n",
       " tensor([1, 0, 0,  ..., 1, 1, 0], dtype=torch.uint8),\n",
       " tensor([1, 0, 0,  ..., 1, 1, 0], dtype=torch.uint8),\n",
       " tensor([1, 0, 0,  ..., 1, 1, 0], dtype=torch.uint8),\n",
       " tensor([1, 0, 0,  ..., 1, 1, 0], dtype=torch.uint8),\n",
       " tensor([1, 0, 0,  ..., 1, 1, 0], dtype=torch.uint8),\n",
       " tensor([1, 0, 0,  ..., 1, 1, 0], dtype=torch.uint8),\n",
       " tensor([1, 0, 0,  ..., 1, 1, 0], dtype=torch.uint8),\n",
       " tensor([1, 0, 0,  ..., 1, 1, 0], dtype=torch.uint8),\n",
       " tensor([1, 0, 0,  ..., 1, 1, 0], dtype=torch.uint8),\n",
       " tensor([1, 0, 0,  ..., 1, 1, 0], dtype=torch.uint8),\n",
       " tensor([1, 0, 0,  ..., 1, 1, 0], dtype=torch.uint8),\n",
       " tensor([1, 0, 0,  ..., 1, 1, 0], dtype=torch.uint8),\n",
       " tensor([1, 0, 0,  ..., 1, 1, 0], dtype=torch.uint8),\n",
       " tensor([1, 0, 0,  ..., 1, 1, 0], dtype=torch.uint8),\n",
       " tensor([1, 0, 0,  ..., 1, 1, 0], dtype=torch.uint8),\n",
       " tensor([1, 0, 0,  ..., 1, 1, 0], dtype=torch.uint8),\n",
       " tensor([1, 0, 0,  ..., 1, 1, 0], dtype=torch.uint8),\n",
       " tensor([1, 0, 0,  ..., 1, 1, 0], dtype=torch.uint8),\n",
       " tensor([1, 0, 0,  ..., 1, 1, 0], dtype=torch.uint8),\n",
       " tensor([1, 0, 0,  ..., 1, 1, 0], dtype=torch.uint8),\n",
       " tensor([1, 0, 0,  ..., 1, 1, 0], dtype=torch.uint8),\n",
       " tensor([1, 0, 0,  ..., 1, 1, 0], dtype=torch.uint8),\n",
       " tensor([1, 0, 0,  ..., 1, 1, 0], dtype=torch.uint8),\n",
       " tensor([1, 0, 0,  ..., 1, 1, 0], dtype=torch.uint8),\n",
       " tensor([1, 0, 0,  ..., 1, 1, 0], dtype=torch.uint8),\n",
       " tensor([1, 0, 0,  ..., 1, 1, 0], dtype=torch.uint8),\n",
       " tensor([1, 0, 0,  ..., 1, 1, 0], dtype=torch.uint8),\n",
       " tensor([1, 0, 0,  ..., 1, 1, 0], dtype=torch.uint8),\n",
       " tensor([1, 0, 0,  ..., 1, 1, 0], dtype=torch.uint8),\n",
       " tensor([1, 0, 0,  ..., 1, 1, 0], dtype=torch.uint8),\n",
       " tensor([1, 0, 0,  ..., 1, 1, 0], dtype=torch.uint8),\n",
       " tensor([1, 0, 0,  ..., 1, 1, 0], dtype=torch.uint8),\n",
       " tensor([1, 0, 0,  ..., 1, 1, 0], dtype=torch.uint8),\n",
       " tensor([1, 0, 0,  ..., 1, 1, 0], dtype=torch.uint8),\n",
       " tensor([1, 0, 0,  ..., 1, 1, 0], dtype=torch.uint8),\n",
       " tensor([1, 0, 0,  ..., 1, 1, 0], dtype=torch.uint8),\n",
       " tensor([1, 0, 0,  ..., 1, 1, 0], dtype=torch.uint8),\n",
       " tensor([1, 0, 0,  ..., 1, 1, 0], dtype=torch.uint8),\n",
       " tensor([1, 0, 0,  ..., 1, 1, 0], dtype=torch.uint8),\n",
       " tensor([1, 0, 0,  ..., 1, 1, 0], dtype=torch.uint8),\n",
       " tensor([1, 0, 0,  ..., 1, 1, 0], dtype=torch.uint8),\n",
       " tensor([1, 0, 0,  ..., 1, 1, 0], dtype=torch.uint8),\n",
       " tensor([1, 0, 0,  ..., 1, 1, 0], dtype=torch.uint8),\n",
       " tensor([1, 0, 0,  ..., 1, 1, 0], dtype=torch.uint8),\n",
       " tensor([1, 0, 0,  ..., 1, 1, 0], dtype=torch.uint8),\n",
       " tensor([1, 0, 0,  ..., 1, 1, 0], dtype=torch.uint8),\n",
       " tensor([1, 0, 0,  ..., 1, 1, 0], dtype=torch.uint8),\n",
       " tensor([1, 0, 0,  ..., 1, 1, 0], dtype=torch.uint8),\n",
       " tensor([1, 0, 0,  ..., 1, 1, 0], dtype=torch.uint8),\n",
       " tensor([1, 0, 0,  ..., 1, 1, 0], dtype=torch.uint8),\n",
       " tensor([1, 0, 0,  ..., 1, 1, 0], dtype=torch.uint8),\n",
       " tensor([1, 0, 0,  ..., 1, 1, 0], dtype=torch.uint8),\n",
       " tensor([1, 0, 0,  ..., 1, 1, 0], dtype=torch.uint8),\n",
       " tensor([1, 0, 0,  ..., 1, 1, 0], dtype=torch.uint8),\n",
       " tensor([1, 0, 0,  ..., 1, 1, 0], dtype=torch.uint8),\n",
       " tensor([1, 0, 0,  ..., 1, 1, 0], dtype=torch.uint8),\n",
       " tensor([1, 0, 0,  ..., 1, 1, 0], dtype=torch.uint8),\n",
       " tensor([1, 0, 0,  ..., 1, 1, 0], dtype=torch.uint8),\n",
       " tensor([1, 0, 0,  ..., 1, 1, 0], dtype=torch.uint8),\n",
       " tensor([1, 0, 0,  ..., 1, 1, 0], dtype=torch.uint8),\n",
       " tensor([1, 0, 0,  ..., 1, 1, 0], dtype=torch.uint8),\n",
       " tensor([1, 0, 0,  ..., 1, 1, 0], dtype=torch.uint8),\n",
       " tensor([1, 0, 0,  ..., 1, 1, 0], dtype=torch.uint8),\n",
       " tensor([1, 0, 0,  ..., 1, 1, 0], dtype=torch.uint8),\n",
       " tensor([1, 0, 0,  ..., 1, 1, 0], dtype=torch.uint8),\n",
       " tensor([1, 0, 0,  ..., 1, 1, 0], dtype=torch.uint8),\n",
       " tensor([1, 0, 0,  ..., 1, 1, 0], dtype=torch.uint8),\n",
       " tensor([1, 0, 0,  ..., 1, 1, 0], dtype=torch.uint8),\n",
       " tensor([1, 0, 0,  ..., 1, 1, 0], dtype=torch.uint8),\n",
       " tensor([1, 0, 0,  ..., 1, 1, 0], dtype=torch.uint8),\n",
       " tensor([1, 0, 0,  ..., 1, 1, 0], dtype=torch.uint8),\n",
       " tensor([1, 0, 0,  ..., 1, 1, 0], dtype=torch.uint8),\n",
       " tensor([1, 0, 0,  ..., 1, 1, 0], dtype=torch.uint8),\n",
       " tensor([1, 0, 0,  ..., 1, 1, 0], dtype=torch.uint8),\n",
       " tensor([1, 0, 0,  ..., 1, 1, 0], dtype=torch.uint8),\n",
       " tensor([1, 0, 0,  ..., 1, 1, 0], dtype=torch.uint8),\n",
       " tensor([1, 0, 0,  ..., 1, 1, 0], dtype=torch.uint8),\n",
       " tensor([1, 0, 0,  ..., 1, 1, 0], dtype=torch.uint8),\n",
       " tensor([1, 0, 0,  ..., 1, 1, 0], dtype=torch.uint8),\n",
       " tensor([1, 0, 0,  ..., 1, 1, 0], dtype=torch.uint8),\n",
       " tensor([1, 0, 0,  ..., 1, 1, 0], dtype=torch.uint8),\n",
       " tensor([1, 0, 0,  ..., 1, 1, 0], dtype=torch.uint8),\n",
       " tensor([1, 0, 0,  ..., 1, 1, 0], dtype=torch.uint8),\n",
       " tensor([1, 0, 0,  ..., 1, 1, 0], dtype=torch.uint8),\n",
       " tensor([1, 0, 0,  ..., 1, 1, 0], dtype=torch.uint8),\n",
       " tensor([1, 0, 0,  ..., 1, 1, 0], dtype=torch.uint8),\n",
       " ...]"
      ]
     },
     "execution_count": 8,
     "metadata": {},
     "output_type": "execute_result"
    }
   ],
   "source": [
    "pdbs = get_parallel_dbs(db)\n",
    "pdbs"
   ]
  },
  {
   "cell_type": "code",
   "execution_count": 9,
   "metadata": {},
   "outputs": [],
   "source": [
    "def create_db_and_parallels(num_entries):\n",
    "    \n",
    "    db = torch.rand(num_entries) > 0.5\n",
    "    db = db.type(torch.ByteTensor)\n",
    "    pdbs = get_parallel_dbs(db)\n",
    "        \n",
    "    return db, pdbs"
   ]
  },
  {
   "cell_type": "code",
   "execution_count": 10,
   "metadata": {},
   "outputs": [],
   "source": [
    "db, pdbs = create_db_and_parallels(20)"
   ]
  },
  {
   "cell_type": "code",
   "execution_count": 11,
   "metadata": {},
   "outputs": [
    {
     "data": {
      "text/plain": [
       "[tensor([1, 1, 0, 1, 1, 1, 0, 0, 1, 1, 0, 1, 1, 0, 1, 1, 0, 1, 0],\n",
       "        dtype=torch.uint8),\n",
       " tensor([0, 1, 0, 1, 1, 1, 0, 0, 1, 1, 0, 1, 1, 0, 1, 1, 0, 1, 0],\n",
       "        dtype=torch.uint8),\n",
       " tensor([0, 1, 0, 1, 1, 1, 0, 0, 1, 1, 0, 1, 1, 0, 1, 1, 0, 1, 0],\n",
       "        dtype=torch.uint8),\n",
       " tensor([0, 1, 1, 1, 1, 1, 0, 0, 1, 1, 0, 1, 1, 0, 1, 1, 0, 1, 0],\n",
       "        dtype=torch.uint8),\n",
       " tensor([0, 1, 1, 0, 1, 1, 0, 0, 1, 1, 0, 1, 1, 0, 1, 1, 0, 1, 0],\n",
       "        dtype=torch.uint8),\n",
       " tensor([0, 1, 1, 0, 1, 1, 0, 0, 1, 1, 0, 1, 1, 0, 1, 1, 0, 1, 0],\n",
       "        dtype=torch.uint8),\n",
       " tensor([0, 1, 1, 0, 1, 1, 0, 0, 1, 1, 0, 1, 1, 0, 1, 1, 0, 1, 0],\n",
       "        dtype=torch.uint8),\n",
       " tensor([0, 1, 1, 0, 1, 1, 1, 0, 1, 1, 0, 1, 1, 0, 1, 1, 0, 1, 0],\n",
       "        dtype=torch.uint8),\n",
       " tensor([0, 1, 1, 0, 1, 1, 1, 0, 1, 1, 0, 1, 1, 0, 1, 1, 0, 1, 0],\n",
       "        dtype=torch.uint8),\n",
       " tensor([0, 1, 1, 0, 1, 1, 1, 0, 0, 1, 0, 1, 1, 0, 1, 1, 0, 1, 0],\n",
       "        dtype=torch.uint8),\n",
       " tensor([0, 1, 1, 0, 1, 1, 1, 0, 0, 1, 0, 1, 1, 0, 1, 1, 0, 1, 0],\n",
       "        dtype=torch.uint8),\n",
       " tensor([0, 1, 1, 0, 1, 1, 1, 0, 0, 1, 1, 1, 1, 0, 1, 1, 0, 1, 0],\n",
       "        dtype=torch.uint8),\n",
       " tensor([0, 1, 1, 0, 1, 1, 1, 0, 0, 1, 1, 0, 1, 0, 1, 1, 0, 1, 0],\n",
       "        dtype=torch.uint8),\n",
       " tensor([0, 1, 1, 0, 1, 1, 1, 0, 0, 1, 1, 0, 1, 0, 1, 1, 0, 1, 0],\n",
       "        dtype=torch.uint8),\n",
       " tensor([0, 1, 1, 0, 1, 1, 1, 0, 0, 1, 1, 0, 1, 1, 1, 1, 0, 1, 0],\n",
       "        dtype=torch.uint8),\n",
       " tensor([0, 1, 1, 0, 1, 1, 1, 0, 0, 1, 1, 0, 1, 1, 0, 1, 0, 1, 0],\n",
       "        dtype=torch.uint8),\n",
       " tensor([0, 1, 1, 0, 1, 1, 1, 0, 0, 1, 1, 0, 1, 1, 0, 1, 0, 1, 0],\n",
       "        dtype=torch.uint8),\n",
       " tensor([0, 1, 1, 0, 1, 1, 1, 0, 0, 1, 1, 0, 1, 1, 0, 1, 1, 1, 0],\n",
       "        dtype=torch.uint8),\n",
       " tensor([0, 1, 1, 0, 1, 1, 1, 0, 0, 1, 1, 0, 1, 1, 0, 1, 1, 0, 0],\n",
       "        dtype=torch.uint8),\n",
       " tensor([0, 1, 1, 0, 1, 1, 1, 0, 0, 1, 1, 0, 1, 1, 0, 1, 1, 0, 1],\n",
       "        dtype=torch.uint8)]"
      ]
     },
     "execution_count": 11,
     "metadata": {},
     "output_type": "execute_result"
    }
   ],
   "source": [
    "pdbs\n"
   ]
  },
  {
   "cell_type": "code",
   "execution_count": 12,
   "metadata": {},
   "outputs": [],
   "source": [
    "db, pdbs = create_db_and_parallels(20)"
   ]
  },
  {
   "cell_type": "code",
   "execution_count": 13,
   "metadata": {},
   "outputs": [
    {
     "data": {
      "text/plain": [
       "tensor([0, 1, 1, 1, 1, 0, 1, 0, 1, 1, 0, 1, 1, 0, 0, 1, 0, 1, 0, 1],\n",
       "       dtype=torch.uint8)"
      ]
     },
     "execution_count": 13,
     "metadata": {},
     "output_type": "execute_result"
    }
   ],
   "source": [
    "#db = db.type(torch.ByteTensor)\n",
    "db\n"
   ]
  },
  {
   "cell_type": "code",
   "execution_count": 14,
   "metadata": {},
   "outputs": [],
   "source": [
    "def query(db):\n",
    "    return db.sum()"
   ]
  },
  {
   "cell_type": "code",
   "execution_count": 15,
   "metadata": {},
   "outputs": [
    {
     "data": {
      "text/plain": [
       "tensor(12)"
      ]
     },
     "execution_count": 15,
     "metadata": {},
     "output_type": "execute_result"
    }
   ],
   "source": [
    "query(db)"
   ]
  },
  {
   "cell_type": "code",
   "execution_count": 16,
   "metadata": {},
   "outputs": [
    {
     "data": {
      "text/plain": [
       "tensor(11)"
      ]
     },
     "execution_count": 16,
     "metadata": {},
     "output_type": "execute_result"
    }
   ],
   "source": [
    "query(pdbs[19])"
   ]
  },
  {
   "cell_type": "code",
   "execution_count": 17,
   "metadata": {},
   "outputs": [],
   "source": [
    "# Evaluating Privacy ( Lesson 3 )"
   ]
  },
  {
   "cell_type": "code",
   "execution_count": 18,
   "metadata": {},
   "outputs": [],
   "source": [
    "db, pdbs = create_db_and_parallels(20)"
   ]
  },
  {
   "cell_type": "code",
   "execution_count": 19,
   "metadata": {},
   "outputs": [
    {
     "data": {
      "text/plain": [
       "tensor([1, 1, 1, 1, 0, 1, 1, 1, 0, 1, 0, 0, 0, 1, 1, 1, 1, 0, 0, 0],\n",
       "       dtype=torch.uint8)"
      ]
     },
     "execution_count": 19,
     "metadata": {},
     "output_type": "execute_result"
    }
   ],
   "source": [
    "db"
   ]
  },
  {
   "cell_type": "code",
   "execution_count": 20,
   "metadata": {},
   "outputs": [],
   "source": [
    "full_db_result = query(db)"
   ]
  },
  {
   "cell_type": "code",
   "execution_count": 21,
   "metadata": {},
   "outputs": [],
   "source": [
    "max_distance = 0\n",
    "\n",
    "for pdb in pdbs:\n",
    "    pdb_result = query(pdb)\n",
    "    \n",
    "    db_distance = torch.abs(pdb_result - full_db_result)\n",
    "    \n",
    "    if(db_distance > max_distance):\n",
    "        max_distance = db_distance"
   ]
  },
  {
   "cell_type": "code",
   "execution_count": null,
   "metadata": {},
   "outputs": [],
   "source": []
  },
  {
   "cell_type": "code",
   "execution_count": 22,
   "metadata": {},
   "outputs": [],
   "source": [
    "def sensitivity(query, n_entries=1000):\n",
    "    \n",
    "    db, pdbs = create_db_and_parallels(n_entries)\n",
    "    \n",
    "    full_db_result = query(db)\n",
    "    \n",
    "    max_distance = 0\n",
    "\n",
    "    for pdb in pdbs:\n",
    "        pdb_result = query(pdb)\n",
    "\n",
    "        db_distance = torch.abs(pdb_result - full_db_result)\n",
    "\n",
    "        if(db_distance > max_distance):\n",
    "            max_distance = db_distance\n",
    "            \n",
    "    return max_distance"
   ]
  },
  {
   "cell_type": "code",
   "execution_count": 23,
   "metadata": {},
   "outputs": [],
   "source": [
    "def query(db):\n",
    "    return db.float().mean()"
   ]
  },
  {
   "cell_type": "code",
   "execution_count": 24,
   "metadata": {},
   "outputs": [
    {
     "data": {
      "text/plain": [
       "tensor(0.0005)"
      ]
     },
     "execution_count": 24,
     "metadata": {},
     "output_type": "execute_result"
    }
   ],
   "source": [
    "sensitivity(query)"
   ]
  },
  {
   "cell_type": "code",
   "execution_count": 25,
   "metadata": {},
   "outputs": [],
   "source": [
    "# Calculate Sensitivity L1 for Threshold"
   ]
  },
  {
   "cell_type": "code",
   "execution_count": 26,
   "metadata": {},
   "outputs": [],
   "source": [
    "def query(db, threshold = 5):\n",
    "    return (db.sum() > threshold).float()"
   ]
  },
  {
   "cell_type": "code",
   "execution_count": 27,
   "metadata": {},
   "outputs": [
    {
     "data": {
      "text/plain": [
       "tensor(3)"
      ]
     },
     "execution_count": 27,
     "metadata": {},
     "output_type": "execute_result"
    }
   ],
   "source": [
    "db, pdbs = create_db_and_parallels(10)\n",
    "db.sum()"
   ]
  },
  {
   "cell_type": "code",
   "execution_count": 28,
   "metadata": {},
   "outputs": [
    {
     "data": {
      "text/plain": [
       "tensor(False)"
      ]
     },
     "execution_count": 28,
     "metadata": {},
     "output_type": "execute_result"
    }
   ],
   "source": [
    "db.sum() > 5"
   ]
  },
  {
   "cell_type": "code",
   "execution_count": 29,
   "metadata": {},
   "outputs": [
    {
     "data": {
      "text/plain": [
       "tensor(0.)"
      ]
     },
     "execution_count": 29,
     "metadata": {},
     "output_type": "execute_result"
    }
   ],
   "source": [
    "query(db)"
   ]
  },
  {
   "cell_type": "code",
   "execution_count": 30,
   "metadata": {},
   "outputs": [
    {
     "name": "stdout",
     "output_type": "stream",
     "text": [
      "0\n",
      "0\n",
      "0\n",
      "0\n",
      "tensor(1.)\n",
      "tensor(1.)\n",
      "0\n",
      "0\n",
      "0\n",
      "tensor(1.)\n"
     ]
    }
   ],
   "source": [
    "for i in range(10):\n",
    "\n",
    "    sens_f = sensitivity(query, n_entries = 10)\n",
    "    print(sens_f)"
   ]
  },
  {
   "cell_type": "code",
   "execution_count": 31,
   "metadata": {},
   "outputs": [],
   "source": [
    "# Differencing Attack"
   ]
  },
  {
   "cell_type": "code",
   "execution_count": 32,
   "metadata": {},
   "outputs": [],
   "source": [
    "db, _ = create_db_and_parallels(100)"
   ]
  },
  {
   "cell_type": "code",
   "execution_count": 33,
   "metadata": {},
   "outputs": [
    {
     "data": {
      "text/plain": [
       "tensor([0, 0, 0, 0, 1, 0, 1, 0, 1, 0, 0, 0, 1, 0, 0, 0, 1, 1, 1, 1, 0, 1, 1, 0,\n",
       "        1, 1, 0, 0, 1, 0, 1, 0, 0, 1, 1, 0, 0, 0, 1, 1, 1, 0, 0, 0, 0, 0, 1, 1,\n",
       "        1, 0, 1, 1, 0, 0, 1, 0, 0, 1, 0, 0, 1, 0, 0, 0, 0, 1, 0, 0, 1, 0, 1, 0,\n",
       "        1, 1, 0, 0, 1, 0, 0, 1, 0, 0, 0, 1, 1, 0, 0, 0, 1, 1, 0, 0, 0, 1, 0, 0,\n",
       "        0, 1, 0, 0], dtype=torch.uint8)"
      ]
     },
     "execution_count": 33,
     "metadata": {},
     "output_type": "execute_result"
    }
   ],
   "source": [
    "db"
   ]
  },
  {
   "cell_type": "code",
   "execution_count": 34,
   "metadata": {},
   "outputs": [],
   "source": [
    "pdb = get_parallel_db(db, remove_index=10)"
   ]
  },
  {
   "cell_type": "code",
   "execution_count": 35,
   "metadata": {},
   "outputs": [
    {
     "data": {
      "text/plain": [
       "tensor(0, dtype=torch.uint8)"
      ]
     },
     "execution_count": 35,
     "metadata": {},
     "output_type": "execute_result"
    }
   ],
   "source": [
    "db[10]"
   ]
  },
  {
   "cell_type": "code",
   "execution_count": 36,
   "metadata": {},
   "outputs": [
    {
     "data": {
      "text/plain": [
       "tensor(0, dtype=torch.uint8)"
      ]
     },
     "execution_count": 36,
     "metadata": {},
     "output_type": "execute_result"
    }
   ],
   "source": [
    "# differencing attack using a sum query\n",
    "\n",
    "sum(db) - sum(pdb)"
   ]
  },
  {
   "cell_type": "code",
   "execution_count": 37,
   "metadata": {},
   "outputs": [
    {
     "data": {
      "text/plain": [
       "tensor(0.)"
      ]
     },
     "execution_count": 37,
     "metadata": {},
     "output_type": "execute_result"
    }
   ],
   "source": [
    "# differencing attack using a mean query\n",
    "\n",
    "(sum(db).float() / len(db)) - (sum(pdb).float() / len(db))"
   ]
  },
  {
   "cell_type": "code",
   "execution_count": 38,
   "metadata": {},
   "outputs": [
    {
     "data": {
      "text/plain": [
       "tensor(0, dtype=torch.uint8)"
      ]
     },
     "execution_count": 38,
     "metadata": {},
     "output_type": "execute_result"
    }
   ],
   "source": [
    "# differencing attack using threshold\n",
    "\n",
    "(sum(db).float() > 49 ).type(torch.ByteTensor) - (sum(pdb).float() > 49).type(torch.ByteTensor)"
   ]
  },
  {
   "cell_type": "code",
   "execution_count": 39,
   "metadata": {},
   "outputs": [],
   "source": [
    "# Implementing Local Differential Privacy"
   ]
  },
  {
   "cell_type": "code",
   "execution_count": 40,
   "metadata": {},
   "outputs": [],
   "source": [
    "db, pdbs = create_db_and_parallels(100)\n"
   ]
  },
  {
   "cell_type": "code",
   "execution_count": 41,
   "metadata": {},
   "outputs": [
    {
     "data": {
      "text/plain": [
       "tensor(0.5100)"
      ]
     },
     "execution_count": 41,
     "metadata": {},
     "output_type": "execute_result"
    }
   ],
   "source": [
    "true_result = torch.mean(db.float())\n",
    "true_result"
   ]
  },
  {
   "cell_type": "code",
   "execution_count": 42,
   "metadata": {},
   "outputs": [],
   "source": [
    "first_coin_flip = (torch.rand(len(db))>0.5).float()\n",
    "second_coin_flip = (torch.rand(len(db))>0.5).float()"
   ]
  },
  {
   "cell_type": "code",
   "execution_count": 43,
   "metadata": {},
   "outputs": [],
   "source": [
    "db = first_coin_flip"
   ]
  },
  {
   "cell_type": "code",
   "execution_count": 44,
   "metadata": {},
   "outputs": [
    {
     "data": {
      "text/plain": [
       "tensor([0., 1., 0., 0., 1., 0., 0., 1., 1., 0., 0., 1., 1., 1., 1., 0., 0., 0.,\n",
       "        1., 0., 0., 1., 1., 0., 0., 1., 1., 1., 1., 0., 1., 0., 1., 1., 0., 0.,\n",
       "        0., 0., 0., 1., 1., 1., 0., 0., 0., 0., 1., 1., 1., 1., 1., 0., 0., 1.,\n",
       "        0., 0., 1., 0., 1., 1., 1., 0., 1., 0., 0., 0., 0., 1., 1., 0., 0., 0.,\n",
       "        1., 0., 1., 1., 1., 0., 0., 0., 0., 1., 1., 0., 0., 0., 0., 1., 1., 1.,\n",
       "        0., 0., 0., 1., 1., 0., 0., 0., 0., 0.])"
      ]
     },
     "execution_count": 44,
     "metadata": {},
     "output_type": "execute_result"
    }
   ],
   "source": [
    "second_coin_flip"
   ]
  },
  {
   "cell_type": "code",
   "execution_count": 45,
   "metadata": {
    "scrolled": false
   },
   "outputs": [
    {
     "data": {
      "text/plain": [
       "tensor([1., 1., 1., 1., 0., 1., 0., 0., 0., 0., 0., 1., 1., 1., 0., 0., 1., 0.,\n",
       "        1., 1., 0., 1., 0., 1., 0., 0., 1., 0., 0., 0., 0., 1., 1., 1., 0., 0.,\n",
       "        0., 0., 1., 0., 1., 1., 0., 0., 0., 1., 0., 1., 1., 0., 1., 1., 1., 1.,\n",
       "        0., 0., 0., 0., 1., 0., 1., 1., 1., 1., 1., 1., 0., 1., 1., 0., 1., 0.,\n",
       "        1., 0., 0., 1., 1., 0., 1., 0., 0., 0., 0., 0., 0., 1., 1., 1., 1., 1.,\n",
       "        0., 1., 0., 0., 1., 1., 1., 1., 1., 1.])"
      ]
     },
     "execution_count": 45,
     "metadata": {},
     "output_type": "execute_result"
    }
   ],
   "source": [
    "db.float()"
   ]
  },
  {
   "cell_type": "code",
   "execution_count": 46,
   "metadata": {},
   "outputs": [],
   "source": [
    "# added noise to the database\n",
    "\n",
    "augmented_database = db.float() * first_coin_flip+ (1- first_coin_flip) * second_coin_flip"
   ]
  },
  {
   "cell_type": "code",
   "execution_count": 47,
   "metadata": {},
   "outputs": [
    {
     "data": {
      "text/plain": [
       "tensor(0.7100)"
      ]
     },
     "execution_count": 47,
     "metadata": {},
     "output_type": "execute_result"
    }
   ],
   "source": [
    "torch.mean(augmented_database.float()) "
   ]
  },
  {
   "cell_type": "code",
   "execution_count": 48,
   "metadata": {},
   "outputs": [],
   "source": [
    "db_result = torch.mean(augmented_database.float()) * 2 - 0.5"
   ]
  },
  {
   "cell_type": "code",
   "execution_count": 49,
   "metadata": {},
   "outputs": [],
   "source": [
    "def query(db): \n",
    "    \n",
    "    true_result = torch.mean(db.float())\n",
    "    \n",
    "    first_coin_flip = (torch.rand(len(db)) > 0.5).float()\n",
    "    second_coin_flip = (torch.rand(len(db)) > 0.5).float()\n",
    "    \n",
    "    augmented_database = db.float() * first_coin_flip + (1-first_coin_flip) * second_coin_flip\n",
    "    \n",
    "    db_result = torch.mean(augmented_database.float()) * 2 - 0.5\n",
    "    \n",
    "    return db_result, true_result"
   ]
  },
  {
   "cell_type": "code",
   "execution_count": 50,
   "metadata": {},
   "outputs": [
    {
     "name": "stdout",
     "output_type": "stream",
     "text": [
      " With Noise :tensor(0.5400)\n",
      " Without Noise :tensor(0.4700)\n"
     ]
    }
   ],
   "source": [
    "db, pdbs = create_db_and_parallels(100)\n",
    "private_result, true_result = query(db)\n",
    "print(\" With Noise :\"+ str(private_result))\n",
    "print(\" Without Noise :\"+ str(true_result))\n"
   ]
  },
  {
   "cell_type": "code",
   "execution_count": 51,
   "metadata": {},
   "outputs": [
    {
     "name": "stdout",
     "output_type": "stream",
     "text": [
      " With Noise :tensor(0.4960)\n",
      " Without Noise :tensor(0.4870)\n"
     ]
    }
   ],
   "source": [
    "db, pdbs = create_db_and_parallels(1000)\n",
    "private_result, true_result = query(db)\n",
    "print(\" With Noise :\"+ str(private_result))\n",
    "print(\" Without Noise :\"+ str(true_result))\n"
   ]
  },
  {
   "cell_type": "code",
   "execution_count": 52,
   "metadata": {},
   "outputs": [
    {
     "name": "stdout",
     "output_type": "stream",
     "text": [
      " With Noise :tensor(0.5016)\n",
      " Without Noise :tensor(0.5010)\n"
     ]
    }
   ],
   "source": [
    "db, pdbs = create_db_and_parallels(10000)\n",
    "private_result, true_result = query(db)\n",
    "print(\" With Noise :\"+ str(private_result))\n",
    "print(\" Without Noise :\"+ str(true_result))\n",
    "\n",
    "#slight difference between both datasets\n"
   ]
  },
  {
   "cell_type": "code",
   "execution_count": 53,
   "metadata": {},
   "outputs": [],
   "source": [
    "# Varying the amount of noise "
   ]
  },
  {
   "cell_type": "code",
   "execution_count": 54,
   "metadata": {},
   "outputs": [],
   "source": [
    "def query(db, noise = 0.2): \n",
    "    noise = 0.2\n",
    "    true_result = torch.mean(db.float())\n",
    "\n",
    "    first_coin_flip = (torch.rand(len(db)) > noise).float()\n",
    "    second_coin_flip = (torch.rand(len(db)) > 0.5).float()\n",
    "\n",
    "    augmented_database = db.float() * first_coin_flip + (1-first_coin_flip) * second_coin_flip\n",
    "\n",
    "    db_result = torch.mean(augmented_database.float()) * 2 - 0.5\n",
    "    \n",
    "    sk_result = augmented_database.float().mean()\n",
    "        \n",
    "    private_result = ((sk_result / noise) - 0.5) * noise / (1-noise)\n",
    "\n",
    "    return db_result, true_result"
   ]
  },
  {
   "cell_type": "code",
   "execution_count": 55,
   "metadata": {},
   "outputs": [
    {
     "name": "stdout",
     "output_type": "stream",
     "text": [
      "With Noise :tensor(0.5800)\n",
      "Without Noise :tensor(0.5800)\n"
     ]
    }
   ],
   "source": [
    "db, pdbs = create_db_and_parallels(100)\n",
    "private_result, true_result = query(db, noise = 0.1)\n",
    "print(\"With Noise :\" + str(private_result))\n",
    "print(\"Without Noise :\" + str(true_result))"
   ]
  },
  {
   "cell_type": "code",
   "execution_count": 56,
   "metadata": {},
   "outputs": [
    {
     "name": "stdout",
     "output_type": "stream",
     "text": [
      "With Noise :tensor(0.5800)\n",
      "Without Noise :tensor(0.5500)\n"
     ]
    }
   ],
   "source": [
    "db, pdbs = create_db_and_parallels(100)\n",
    "private_result, true_result = query(db, noise = 0.2)\n",
    "print(\"With Noise :\" + str(private_result))\n",
    "print(\"Without Noise :\" + str(true_result))"
   ]
  },
  {
   "cell_type": "code",
   "execution_count": 57,
   "metadata": {},
   "outputs": [
    {
     "name": "stdout",
     "output_type": "stream",
     "text": [
      "With Noise :tensor(0.4600)\n",
      "Without Noise :tensor(0.4700)\n"
     ]
    }
   ],
   "source": [
    "db, pdbs = create_db_and_parallels(100)\n",
    "private_result, true_result = query(db, noise = 0.4)\n",
    "print(\"With Noise :\" + str(private_result))\n",
    "print(\"Without Noise :\" + str(true_result))"
   ]
  },
  {
   "cell_type": "code",
   "execution_count": 58,
   "metadata": {},
   "outputs": [
    {
     "name": "stdout",
     "output_type": "stream",
     "text": [
      "With Noise :tensor(0.4880)\n",
      "Without Noise :tensor(0.4960)\n"
     ]
    }
   ],
   "source": [
    "# Large dataset\n",
    "\n",
    "db, pdbs = create_db_and_parallels(10000)\n",
    "private_result, true_result = query(db, noise = 0.8)\n",
    "print(\"With Noise :\" + str(private_result))\n",
    "print(\"Without Noise :\" + str(true_result))"
   ]
  },
  {
   "cell_type": "markdown",
   "metadata": {},
   "source": [
    "# GLOBAL Differential Privacy"
   ]
  },
  {
   "cell_type": "code",
   "execution_count": 59,
   "metadata": {},
   "outputs": [],
   "source": [
    "# Add noise for Global Differential Privacy\n",
    "\n",
    "# LAPLACIAN NOISE : delta is zero\n",
    "# GAUSSIAN NOISE : delta value is presentabs"
   ]
  },
  {
   "cell_type": "code",
   "execution_count": 60,
   "metadata": {},
   "outputs": [],
   "source": [
    "# Scenario : A Health neural network \n",
    "\n",
    "import numpy as np"
   ]
  },
  {
   "cell_type": "code",
   "execution_count": 61,
   "metadata": {},
   "outputs": [],
   "source": [
    "num_teachers = 10 # 10 partner hospitals\n",
    "num_examples = 10000 # size of dataset\n",
    "num_labels = 10 # num of labels for our classifier\n"
   ]
  },
  {
   "cell_type": "code",
   "execution_count": 62,
   "metadata": {},
   "outputs": [],
   "source": [
    "preds = (np.random.rand(num_teachers, num_examples)*num_labels).astype(int).transpose(1,0) # fake predictions"
   ]
  },
  {
   "cell_type": "code",
   "execution_count": 63,
   "metadata": {},
   "outputs": [],
   "source": [
    "an_image = preds[:,0]"
   ]
  },
  {
   "cell_type": "code",
   "execution_count": 64,
   "metadata": {},
   "outputs": [
    {
     "data": {
      "text/plain": [
       "array([6, 0, 2, ..., 8, 7, 0])"
      ]
     },
     "execution_count": 64,
     "metadata": {},
     "output_type": "execute_result"
    }
   ],
   "source": [
    "preds[:,0]"
   ]
  },
  {
   "cell_type": "code",
   "execution_count": 65,
   "metadata": {},
   "outputs": [
    {
     "data": {
      "text/plain": [
       "array([1001, 1024,  969, 1035, 1040,  965,  960,  980, 1018, 1008])"
      ]
     },
     "execution_count": 65,
     "metadata": {},
     "output_type": "execute_result"
    }
   ],
   "source": [
    "np.bincount(an_image, minlength=num_labels) # Counts number of times an element occurs\n",
    "\n",
    "# 9, 8 occurs 3 times"
   ]
  },
  {
   "cell_type": "code",
   "execution_count": 66,
   "metadata": {},
   "outputs": [],
   "source": [
    "label_counts = np.bincount(an_image, minlength=num_labels)"
   ]
  },
  {
   "cell_type": "code",
   "execution_count": 67,
   "metadata": {},
   "outputs": [
    {
     "data": {
      "text/plain": [
       "4"
      ]
     },
     "execution_count": 67,
     "metadata": {},
     "output_type": "execute_result"
    }
   ],
   "source": [
    "np.argmax(label_counts) # finds the max ( here 8 is the first no. to occur max times)"
   ]
  },
  {
   "cell_type": "code",
   "execution_count": 68,
   "metadata": {},
   "outputs": [],
   "source": [
    "epsilon = 0.1 \n",
    "beta = 1/ epsilon\n",
    "\n",
    "for i in range(len(label_counts)):\n",
    "    label_counts[i] += np.random.laplace(0, beta, 1) # adding laplacian noise to the counts"
   ]
  },
  {
   "cell_type": "code",
   "execution_count": 69,
   "metadata": {},
   "outputs": [
    {
     "data": {
      "text/plain": [
       "array([ 982, 1023,  954, 1024, 1037,  973,  967,  971, 1025, 1022])"
      ]
     },
     "execution_count": 69,
     "metadata": {},
     "output_type": "execute_result"
    }
   ],
   "source": [
    "label_counts"
   ]
  },
  {
   "cell_type": "code",
   "execution_count": 70,
   "metadata": {},
   "outputs": [
    {
     "data": {
      "text/plain": [
       "4"
      ]
     },
     "execution_count": 70,
     "metadata": {},
     "output_type": "execute_result"
    }
   ],
   "source": [
    "np.argmax(label_counts)"
   ]
  },
  {
   "cell_type": "code",
   "execution_count": 71,
   "metadata": {},
   "outputs": [],
   "source": [
    "new_labels = list()\n",
    "for an_image in preds:\n",
    "    \n",
    "    label_counts = np.bincount(an_image, minlength=num_labels)\n",
    "    \n",
    "    epsilon = 0.1\n",
    "    beta = 1/epsilon\n",
    "    \n",
    "    for i in range(len(label_counts)):\n",
    "        label_counts[i] += np.random.laplace(0, beta, 1)\n",
    "        \n",
    "    new_label = np.argmax(label_counts)\n",
    "    \n",
    "    new_labels.append(new_label)"
   ]
  },
  {
   "cell_type": "code",
   "execution_count": 72,
   "metadata": {},
   "outputs": [
    {
     "data": {
      "text/plain": [
       "10000"
      ]
     },
     "execution_count": 72,
     "metadata": {},
     "output_type": "execute_result"
    }
   ],
   "source": [
    "len(new_labels)"
   ]
  },
  {
   "cell_type": "code",
   "execution_count": 73,
   "metadata": {},
   "outputs": [
    {
     "data": {
      "text/plain": [
       "[8,\n",
       " 4,\n",
       " 4,\n",
       " 6,\n",
       " 0,\n",
       " 4,\n",
       " 2,\n",
       " 0,\n",
       " 8,\n",
       " 1,\n",
       " 1,\n",
       " 9,\n",
       " 7,\n",
       " 9,\n",
       " 7,\n",
       " 8,\n",
       " 0,\n",
       " 8,\n",
       " 1,\n",
       " 8,\n",
       " 2,\n",
       " 8,\n",
       " 7,\n",
       " 3,\n",
       " 0,\n",
       " 6,\n",
       " 9,\n",
       " 3,\n",
       " 1,\n",
       " 5,\n",
       " 7,\n",
       " 4,\n",
       " 9,\n",
       " 0,\n",
       " 9,\n",
       " 1,\n",
       " 3,\n",
       " 5,\n",
       " 5,\n",
       " 3,\n",
       " 7,\n",
       " 6,\n",
       " 3,\n",
       " 9,\n",
       " 7,\n",
       " 2,\n",
       " 8,\n",
       " 1,\n",
       " 3,\n",
       " 9,\n",
       " 8,\n",
       " 2,\n",
       " 6,\n",
       " 1,\n",
       " 2,\n",
       " 7,\n",
       " 7,\n",
       " 8,\n",
       " 7,\n",
       " 9,\n",
       " 0,\n",
       " 5,\n",
       " 4,\n",
       " 8,\n",
       " 1,\n",
       " 2,\n",
       " 5,\n",
       " 7,\n",
       " 1,\n",
       " 7,\n",
       " 6,\n",
       " 2,\n",
       " 6,\n",
       " 3,\n",
       " 2,\n",
       " 4,\n",
       " 5,\n",
       " 0,\n",
       " 1,\n",
       " 2,\n",
       " 6,\n",
       " 4,\n",
       " 5,\n",
       " 9,\n",
       " 1,\n",
       " 0,\n",
       " 8,\n",
       " 0,\n",
       " 6,\n",
       " 4,\n",
       " 7,\n",
       " 8,\n",
       " 8,\n",
       " 9,\n",
       " 6,\n",
       " 9,\n",
       " 0,\n",
       " 6,\n",
       " 2,\n",
       " 2,\n",
       " 3,\n",
       " 8,\n",
       " 6,\n",
       " 5,\n",
       " 3,\n",
       " 6,\n",
       " 8,\n",
       " 5,\n",
       " 5,\n",
       " 0,\n",
       " 2,\n",
       " 1,\n",
       " 8,\n",
       " 3,\n",
       " 5,\n",
       " 1,\n",
       " 8,\n",
       " 7,\n",
       " 8,\n",
       " 8,\n",
       " 1,\n",
       " 0,\n",
       " 5,\n",
       " 2,\n",
       " 1,\n",
       " 5,\n",
       " 5,\n",
       " 8,\n",
       " 2,\n",
       " 2,\n",
       " 3,\n",
       " 5,\n",
       " 6,\n",
       " 2,\n",
       " 5,\n",
       " 5,\n",
       " 6,\n",
       " 8,\n",
       " 8,\n",
       " 1,\n",
       " 9,\n",
       " 6,\n",
       " 2,\n",
       " 8,\n",
       " 0,\n",
       " 2,\n",
       " 4,\n",
       " 6,\n",
       " 1,\n",
       " 2,\n",
       " 7,\n",
       " 4,\n",
       " 4,\n",
       " 9,\n",
       " 2,\n",
       " 9,\n",
       " 5,\n",
       " 4,\n",
       " 4,\n",
       " 6,\n",
       " 9,\n",
       " 0,\n",
       " 1,\n",
       " 0,\n",
       " 7,\n",
       " 3,\n",
       " 0,\n",
       " 2,\n",
       " 5,\n",
       " 2,\n",
       " 8,\n",
       " 8,\n",
       " 8,\n",
       " 2,\n",
       " 3,\n",
       " 0,\n",
       " 2,\n",
       " 8,\n",
       " 8,\n",
       " 0,\n",
       " 6,\n",
       " 6,\n",
       " 2,\n",
       " 4,\n",
       " 2,\n",
       " 8,\n",
       " 8,\n",
       " 4,\n",
       " 5,\n",
       " 4,\n",
       " 9,\n",
       " 6,\n",
       " 3,\n",
       " 8,\n",
       " 5,\n",
       " 9,\n",
       " 6,\n",
       " 7,\n",
       " 8,\n",
       " 3,\n",
       " 4,\n",
       " 0,\n",
       " 2,\n",
       " 2,\n",
       " 9,\n",
       " 9,\n",
       " 8,\n",
       " 7,\n",
       " 9,\n",
       " 1,\n",
       " 7,\n",
       " 5,\n",
       " 1,\n",
       " 5,\n",
       " 5,\n",
       " 0,\n",
       " 4,\n",
       " 3,\n",
       " 3,\n",
       " 9,\n",
       " 2,\n",
       " 1,\n",
       " 1,\n",
       " 5,\n",
       " 8,\n",
       " 8,\n",
       " 8,\n",
       " 9,\n",
       " 7,\n",
       " 1,\n",
       " 0,\n",
       " 2,\n",
       " 0,\n",
       " 8,\n",
       " 1,\n",
       " 9,\n",
       " 1,\n",
       " 5,\n",
       " 2,\n",
       " 8,\n",
       " 8,\n",
       " 0,\n",
       " 2,\n",
       " 1,\n",
       " 0,\n",
       " 6,\n",
       " 9,\n",
       " 7,\n",
       " 4,\n",
       " 7,\n",
       " 8,\n",
       " 3,\n",
       " 7,\n",
       " 8,\n",
       " 3,\n",
       " 4,\n",
       " 4,\n",
       " 1,\n",
       " 9,\n",
       " 1,\n",
       " 8,\n",
       " 8,\n",
       " 5,\n",
       " 7,\n",
       " 9,\n",
       " 7,\n",
       " 3,\n",
       " 9,\n",
       " 7,\n",
       " 0,\n",
       " 1,\n",
       " 8,\n",
       " 4,\n",
       " 3,\n",
       " 1,\n",
       " 5,\n",
       " 2,\n",
       " 5,\n",
       " 0,\n",
       " 0,\n",
       " 5,\n",
       " 4,\n",
       " 7,\n",
       " 9,\n",
       " 2,\n",
       " 5,\n",
       " 2,\n",
       " 3,\n",
       " 5,\n",
       " 4,\n",
       " 2,\n",
       " 9,\n",
       " 5,\n",
       " 8,\n",
       " 8,\n",
       " 8,\n",
       " 0,\n",
       " 9,\n",
       " 8,\n",
       " 7,\n",
       " 5,\n",
       " 6,\n",
       " 5,\n",
       " 2,\n",
       " 1,\n",
       " 2,\n",
       " 3,\n",
       " 4,\n",
       " 4,\n",
       " 0,\n",
       " 7,\n",
       " 1,\n",
       " 4,\n",
       " 1,\n",
       " 4,\n",
       " 6,\n",
       " 5,\n",
       " 9,\n",
       " 5,\n",
       " 1,\n",
       " 9,\n",
       " 6,\n",
       " 3,\n",
       " 0,\n",
       " 9,\n",
       " 3,\n",
       " 7,\n",
       " 5,\n",
       " 4,\n",
       " 5,\n",
       " 7,\n",
       " 8,\n",
       " 0,\n",
       " 4,\n",
       " 2,\n",
       " 7,\n",
       " 8,\n",
       " 5,\n",
       " 7,\n",
       " 5,\n",
       " 2,\n",
       " 1,\n",
       " 2,\n",
       " 8,\n",
       " 2,\n",
       " 5,\n",
       " 2,\n",
       " 6,\n",
       " 6,\n",
       " 8,\n",
       " 0,\n",
       " 2,\n",
       " 7,\n",
       " 1,\n",
       " 7,\n",
       " 0,\n",
       " 6,\n",
       " 8,\n",
       " 0,\n",
       " 4,\n",
       " 0,\n",
       " 6,\n",
       " 2,\n",
       " 8,\n",
       " 3,\n",
       " 8,\n",
       " 8,\n",
       " 8,\n",
       " 5,\n",
       " 0,\n",
       " 1,\n",
       " 3,\n",
       " 8,\n",
       " 6,\n",
       " 9,\n",
       " 5,\n",
       " 9,\n",
       " 8,\n",
       " 9,\n",
       " 1,\n",
       " 7,\n",
       " 8,\n",
       " 6,\n",
       " 8,\n",
       " 9,\n",
       " 2,\n",
       " 5,\n",
       " 7,\n",
       " 1,\n",
       " 9,\n",
       " 9,\n",
       " 3,\n",
       " 1,\n",
       " 2,\n",
       " 8,\n",
       " 1,\n",
       " 1,\n",
       " 1,\n",
       " 9,\n",
       " 1,\n",
       " 7,\n",
       " 7,\n",
       " 3,\n",
       " 5,\n",
       " 2,\n",
       " 2,\n",
       " 5,\n",
       " 8,\n",
       " 5,\n",
       " 4,\n",
       " 2,\n",
       " 8,\n",
       " 6,\n",
       " 1,\n",
       " 1,\n",
       " 8,\n",
       " 3,\n",
       " 2,\n",
       " 1,\n",
       " 3,\n",
       " 9,\n",
       " 8,\n",
       " 8,\n",
       " 9,\n",
       " 0,\n",
       " 9,\n",
       " 9,\n",
       " 3,\n",
       " 8,\n",
       " 5,\n",
       " 6,\n",
       " 7,\n",
       " 6,\n",
       " 0,\n",
       " 1,\n",
       " 5,\n",
       " 7,\n",
       " 8,\n",
       " 5,\n",
       " 0,\n",
       " 6,\n",
       " 2,\n",
       " 3,\n",
       " 5,\n",
       " 5,\n",
       " 6,\n",
       " 3,\n",
       " 5,\n",
       " 1,\n",
       " 6,\n",
       " 2,\n",
       " 7,\n",
       " 3,\n",
       " 1,\n",
       " 3,\n",
       " 8,\n",
       " 6,\n",
       " 2,\n",
       " 3,\n",
       " 4,\n",
       " 1,\n",
       " 1,\n",
       " 8,\n",
       " 4,\n",
       " 0,\n",
       " 0,\n",
       " 9,\n",
       " 5,\n",
       " 7,\n",
       " 4,\n",
       " 3,\n",
       " 2,\n",
       " 9,\n",
       " 5,\n",
       " 7,\n",
       " 8,\n",
       " 2,\n",
       " 5,\n",
       " 1,\n",
       " 8,\n",
       " 5,\n",
       " 1,\n",
       " 6,\n",
       " 3,\n",
       " 1,\n",
       " 3,\n",
       " 0,\n",
       " 6,\n",
       " 6,\n",
       " 4,\n",
       " 0,\n",
       " 5,\n",
       " 1,\n",
       " 8,\n",
       " 4,\n",
       " 6,\n",
       " 6,\n",
       " 4,\n",
       " 4,\n",
       " 6,\n",
       " 0,\n",
       " 7,\n",
       " 1,\n",
       " 9,\n",
       " 9,\n",
       " 8,\n",
       " 3,\n",
       " 1,\n",
       " 4,\n",
       " 0,\n",
       " 1,\n",
       " 5,\n",
       " 5,\n",
       " 7,\n",
       " 7,\n",
       " 2,\n",
       " 7,\n",
       " 0,\n",
       " 6,\n",
       " 5,\n",
       " 8,\n",
       " 7,\n",
       " 4,\n",
       " 5,\n",
       " 0,\n",
       " 3,\n",
       " 7,\n",
       " 7,\n",
       " 8,\n",
       " 9,\n",
       " 2,\n",
       " 8,\n",
       " 9,\n",
       " 1,\n",
       " 0,\n",
       " 2,\n",
       " 0,\n",
       " 7,\n",
       " 2,\n",
       " 3,\n",
       " 9,\n",
       " 2,\n",
       " 4,\n",
       " 6,\n",
       " 4,\n",
       " 1,\n",
       " 3,\n",
       " 8,\n",
       " 4,\n",
       " 1,\n",
       " 3,\n",
       " 0,\n",
       " 3,\n",
       " 1,\n",
       " 0,\n",
       " 0,\n",
       " 8,\n",
       " 3,\n",
       " 9,\n",
       " 6,\n",
       " 6,\n",
       " 2,\n",
       " 9,\n",
       " 2,\n",
       " 5,\n",
       " 5,\n",
       " 9,\n",
       " 6,\n",
       " 7,\n",
       " 0,\n",
       " 4,\n",
       " 4,\n",
       " 7,\n",
       " 0,\n",
       " 7,\n",
       " 7,\n",
       " 4,\n",
       " 3,\n",
       " 3,\n",
       " 0,\n",
       " 1,\n",
       " 1,\n",
       " 6,\n",
       " 9,\n",
       " 2,\n",
       " 2,\n",
       " 4,\n",
       " 0,\n",
       " 8,\n",
       " 0,\n",
       " 3,\n",
       " 7,\n",
       " 2,\n",
       " 4,\n",
       " 0,\n",
       " 7,\n",
       " 2,\n",
       " 0,\n",
       " 8,\n",
       " 7,\n",
       " 8,\n",
       " 0,\n",
       " 5,\n",
       " 1,\n",
       " 6,\n",
       " 7,\n",
       " 4,\n",
       " 3,\n",
       " 2,\n",
       " 7,\n",
       " 0,\n",
       " 7,\n",
       " 4,\n",
       " 6,\n",
       " 0,\n",
       " 2,\n",
       " 3,\n",
       " 7,\n",
       " 0,\n",
       " 6,\n",
       " 7,\n",
       " 1,\n",
       " 9,\n",
       " 7,\n",
       " 5,\n",
       " 9,\n",
       " 3,\n",
       " 4,\n",
       " 0,\n",
       " 0,\n",
       " 1,\n",
       " 3,\n",
       " 0,\n",
       " 3,\n",
       " 0,\n",
       " 2,\n",
       " 9,\n",
       " 4,\n",
       " 8,\n",
       " 8,\n",
       " 1,\n",
       " 8,\n",
       " 2,\n",
       " 9,\n",
       " 9,\n",
       " 3,\n",
       " 6,\n",
       " 8,\n",
       " 6,\n",
       " 1,\n",
       " 1,\n",
       " 7,\n",
       " 3,\n",
       " 4,\n",
       " 4,\n",
       " 2,\n",
       " 5,\n",
       " 1,\n",
       " 2,\n",
       " 3,\n",
       " 0,\n",
       " 9,\n",
       " 7,\n",
       " 2,\n",
       " 4,\n",
       " 3,\n",
       " 9,\n",
       " 8,\n",
       " 5,\n",
       " 5,\n",
       " 0,\n",
       " 0,\n",
       " 8,\n",
       " 9,\n",
       " 3,\n",
       " 5,\n",
       " 7,\n",
       " 1,\n",
       " 9,\n",
       " 4,\n",
       " 5,\n",
       " 3,\n",
       " 2,\n",
       " 4,\n",
       " 5,\n",
       " 2,\n",
       " 8,\n",
       " 3,\n",
       " 4,\n",
       " 8,\n",
       " 6,\n",
       " 6,\n",
       " 5,\n",
       " 5,\n",
       " 4,\n",
       " 2,\n",
       " 1,\n",
       " 3,\n",
       " 7,\n",
       " 6,\n",
       " 3,\n",
       " 3,\n",
       " 1,\n",
       " 2,\n",
       " 9,\n",
       " 9,\n",
       " 3,\n",
       " 8,\n",
       " 0,\n",
       " 8,\n",
       " 4,\n",
       " 4,\n",
       " 3,\n",
       " 3,\n",
       " 0,\n",
       " 4,\n",
       " 4,\n",
       " 7,\n",
       " 4,\n",
       " 4,\n",
       " 7,\n",
       " 2,\n",
       " 5,\n",
       " 3,\n",
       " 8,\n",
       " 4,\n",
       " 0,\n",
       " 7,\n",
       " 9,\n",
       " 4,\n",
       " 1,\n",
       " 1,\n",
       " 8,\n",
       " 1,\n",
       " 8,\n",
       " 0,\n",
       " 1,\n",
       " 7,\n",
       " 5,\n",
       " 8,\n",
       " 3,\n",
       " 3,\n",
       " 6,\n",
       " 5,\n",
       " 0,\n",
       " 3,\n",
       " 9,\n",
       " 1,\n",
       " 9,\n",
       " 3,\n",
       " 2,\n",
       " 6,\n",
       " 8,\n",
       " 3,\n",
       " 8,\n",
       " 2,\n",
       " 2,\n",
       " 8,\n",
       " 2,\n",
       " 3,\n",
       " 5,\n",
       " 5,\n",
       " 7,\n",
       " 4,\n",
       " 6,\n",
       " 2,\n",
       " 7,\n",
       " 1,\n",
       " 5,\n",
       " 8,\n",
       " 6,\n",
       " 6,\n",
       " 4,\n",
       " 5,\n",
       " 7,\n",
       " 9,\n",
       " 0,\n",
       " 3,\n",
       " 3,\n",
       " 3,\n",
       " 3,\n",
       " 8,\n",
       " 1,\n",
       " 5,\n",
       " 0,\n",
       " 1,\n",
       " 9,\n",
       " 1,\n",
       " 0,\n",
       " 2,\n",
       " 4,\n",
       " 3,\n",
       " 9,\n",
       " 3,\n",
       " 6,\n",
       " 1,\n",
       " 6,\n",
       " 1,\n",
       " 5,\n",
       " 7,\n",
       " 5,\n",
       " 3,\n",
       " 2,\n",
       " 2,\n",
       " 0,\n",
       " 3,\n",
       " 3,\n",
       " 6,\n",
       " 9,\n",
       " 1,\n",
       " 7,\n",
       " 2,\n",
       " 9,\n",
       " 5,\n",
       " 3,\n",
       " 0,\n",
       " 8,\n",
       " 4,\n",
       " 2,\n",
       " 4,\n",
       " 8,\n",
       " 2,\n",
       " 4,\n",
       " 9,\n",
       " 9,\n",
       " 0,\n",
       " 8,\n",
       " 1,\n",
       " 7,\n",
       " 5,\n",
       " 2,\n",
       " 1,\n",
       " 6,\n",
       " 4,\n",
       " 3,\n",
       " 8,\n",
       " 6,\n",
       " 5,\n",
       " 5,\n",
       " 8,\n",
       " 4,\n",
       " 4,\n",
       " 5,\n",
       " 4,\n",
       " 6,\n",
       " 4,\n",
       " 9,\n",
       " 3,\n",
       " 5,\n",
       " 0,\n",
       " 3,\n",
       " 5,\n",
       " 2,\n",
       " 6,\n",
       " 3,\n",
       " 1,\n",
       " 9,\n",
       " 3,\n",
       " 2,\n",
       " 8,\n",
       " 3,\n",
       " 5,\n",
       " 8,\n",
       " 0,\n",
       " 6,\n",
       " 1,\n",
       " 2,\n",
       " 3,\n",
       " 7,\n",
       " 4,\n",
       " 0,\n",
       " 3,\n",
       " 6,\n",
       " 2,\n",
       " 0,\n",
       " 0,\n",
       " 5,\n",
       " 4,\n",
       " 0,\n",
       " 4,\n",
       " 0,\n",
       " 7,\n",
       " 8,\n",
       " 5,\n",
       " 9,\n",
       " 8,\n",
       " 8,\n",
       " 2,\n",
       " 6,\n",
       " 1,\n",
       " 5,\n",
       " 8,\n",
       " 2,\n",
       " 8,\n",
       " 3,\n",
       " 1,\n",
       " 7,\n",
       " 6,\n",
       " 6,\n",
       " 5,\n",
       " 7,\n",
       " 8,\n",
       " 7,\n",
       " 9,\n",
       " 8,\n",
       " 4,\n",
       " 5,\n",
       " 9,\n",
       " 5,\n",
       " 6,\n",
       " 6,\n",
       " 6,\n",
       " 8,\n",
       " 4,\n",
       " 7,\n",
       " 1,\n",
       " 1,\n",
       " 9,\n",
       " 8,\n",
       " 4,\n",
       " 4,\n",
       " 8,\n",
       " 9,\n",
       " 3,\n",
       " 9,\n",
       " 4,\n",
       " 5,\n",
       " 0,\n",
       " 1,\n",
       " 0,\n",
       " 4,\n",
       " 2,\n",
       " 7,\n",
       " 0,\n",
       " 0,\n",
       " 1,\n",
       " 9,\n",
       " 2,\n",
       " 1,\n",
       " 4,\n",
       " 9,\n",
       " 7,\n",
       " 1,\n",
       " 0,\n",
       " 2,\n",
       " 1,\n",
       " 1,\n",
       " 6,\n",
       " 8,\n",
       " 5,\n",
       " 4,\n",
       " 9,\n",
       " 3,\n",
       " 3,\n",
       " 1,\n",
       " 8,\n",
       " 4,\n",
       " 2,\n",
       " 8,\n",
       " 5,\n",
       " 4,\n",
       " 1,\n",
       " 6,\n",
       " 3,\n",
       " 8,\n",
       " 1,\n",
       " 3,\n",
       " 9,\n",
       " 4,\n",
       " 1,\n",
       " 3,\n",
       " 0,\n",
       " 1,\n",
       " 0,\n",
       " 3,\n",
       " 4,\n",
       " 1,\n",
       " 3,\n",
       " 6,\n",
       " 3,\n",
       " 3,\n",
       " 3,\n",
       " 0,\n",
       " 3,\n",
       " 7,\n",
       " 0,\n",
       " 2,\n",
       " 3,\n",
       " 3,\n",
       " 8,\n",
       " 1,\n",
       " 6,\n",
       " 0,\n",
       " 9,\n",
       " 8,\n",
       " 2,\n",
       " 3,\n",
       " 4,\n",
       " 0,\n",
       " 6,\n",
       " ...]"
      ]
     },
     "execution_count": 73,
     "metadata": {},
     "output_type": "execute_result"
    }
   ],
   "source": [
    "new_labels"
   ]
  },
  {
   "cell_type": "markdown",
   "metadata": {},
   "source": [
    "# PATE Analysis"
   ]
  },
  {
   "cell_type": "code",
   "execution_count": 74,
   "metadata": {},
   "outputs": [
    {
     "data": {
      "text/plain": [
       "9"
      ]
     },
     "execution_count": 74,
     "metadata": {},
     "output_type": "execute_result"
    }
   ],
   "source": [
    "labels = np.array([9, 9, 3, 6, 9, 9 ,9 ,9 ,8, 2])\n",
    "counts = np.bincount(labels, minlength=10)\n",
    "query_result = np.argmax(counts)\n",
    "query_result"
   ]
  },
  {
   "cell_type": "code",
   "execution_count": 75,
   "metadata": {},
   "outputs": [],
   "source": [
    "# PATE Analysis : \n",
    "# Remove one partition i.e. hospital and the query remains the same"
   ]
  },
  {
   "cell_type": "code",
   "execution_count": 76,
   "metadata": {},
   "outputs": [],
   "source": [
    "#! pip install syft\n",
    "#! pip install requests"
   ]
  },
  {
   "cell_type": "code",
   "execution_count": 77,
   "metadata": {},
   "outputs": [],
   "source": [
    "from syft.frameworks.torch.dp import pate \n",
    "\n",
    "# dp : Differential Privacy\n"
   ]
  },
  {
   "cell_type": "code",
   "execution_count": 78,
   "metadata": {},
   "outputs": [],
   "source": [
    "num_teachers, num_examples, num_labels = (100,100,10)\n",
    "preds = (np.random.rand(num_teachers, num_examples) * num_labels).astype(int) # Fake Predictions\n",
    "indices = (np.random.rand(num_examples) * num_labels).astype(int) # True answers\n"
   ]
  },
  {
   "cell_type": "code",
   "execution_count": 79,
   "metadata": {},
   "outputs": [
    {
     "name": "stdout",
     "output_type": "stream",
     "text": [
      " Data Independent Epsilon :  11.756462732485115\n",
      " Data Dependent Epsilon :    11.756462732485105\n"
     ]
    }
   ],
   "source": [
    "data_dep_eps, data_inde_eps = pate.perform_analysis(\n",
    "                                            teacher_preds=preds, \n",
    "                                            indices=indices, \n",
    "                                            noise_eps=0.1, \n",
    "                                            delta= 1e-5)\n",
    "\n",
    "print(\" Data Independent Epsilon : \", data_inde_eps)\n",
    "print(\" Data Dependent Epsilon :   \", data_dep_eps)"
   ]
  },
  {
   "cell_type": "code",
   "execution_count": 80,
   "metadata": {},
   "outputs": [],
   "source": [
    "preds[:,0:5] *= 0"
   ]
  },
  {
   "cell_type": "code",
   "execution_count": 81,
   "metadata": {},
   "outputs": [
    {
     "name": "stdout",
     "output_type": "stream",
     "text": [
      " Data Independent Epsilon :  11.756462732485115\n",
      " Data Dependent Epsilon :    7.612485787172066\n"
     ]
    }
   ],
   "source": [
    "data_dep_eps, data_inde_eps = pate.perform_analysis(\n",
    "                                            teacher_preds=preds, \n",
    "                                            indices=indices, \n",
    "                                            noise_eps=0.1, \n",
    "                                            delta= 1e-5)\n",
    "\n",
    "print(\" Data Independent Epsilon : \", data_inde_eps)\n",
    "print(\" Data Dependent Epsilon :   \", data_dep_eps)"
   ]
  },
  {
   "cell_type": "code",
   "execution_count": 82,
   "metadata": {},
   "outputs": [
    {
     "name": "stdout",
     "output_type": "stream",
     "text": [
      "Warning: May not have used enough values of l. Increase 'moments' variable and run again.\n",
      " Data Independent Epsilon :  11.756462732485115\n",
      " Data Dependent Epsilon :    1.52655213289881\n"
     ]
    }
   ],
   "source": [
    "# More the values agree with each other , Tighter the Epsilon value\n",
    "\n",
    "preds[:,0:50] *= 0\n",
    "\n",
    "data_dep_eps, data_inde_eps = pate.perform_analysis(\n",
    "                                            teacher_preds=preds, \n",
    "                                            indices=indices, \n",
    "                                            noise_eps=0.1, \n",
    "                                            delta= 1e-5)\n",
    "\n",
    "print(\" Data Independent Epsilon : \", data_inde_eps)\n",
    "print(\" Data Dependent Epsilon :   \", data_dep_eps)"
   ]
  },
  {
   "cell_type": "markdown",
   "metadata": {},
   "source": [
    "# Federated Learning"
   ]
  },
  {
   "cell_type": "code",
   "execution_count": 83,
   "metadata": {},
   "outputs": [],
   "source": [
    "import torch as th"
   ]
  },
  {
   "cell_type": "code",
   "execution_count": 84,
   "metadata": {},
   "outputs": [
    {
     "data": {
      "text/plain": [
       "tensor([1, 2, 3, 4, 5])"
      ]
     },
     "execution_count": 84,
     "metadata": {},
     "output_type": "execute_result"
    }
   ],
   "source": [
    "x = th.tensor([1,2,3,4,5])\n",
    "x"
   ]
  },
  {
   "cell_type": "code",
   "execution_count": 85,
   "metadata": {},
   "outputs": [],
   "source": [
    "y = x+x"
   ]
  },
  {
   "cell_type": "code",
   "execution_count": 86,
   "metadata": {},
   "outputs": [
    {
     "name": "stdout",
     "output_type": "stream",
     "text": [
      "tensor([ 2,  4,  6,  8, 10])\n"
     ]
    }
   ],
   "source": [
    "print(y)"
   ]
  },
  {
   "cell_type": "code",
   "execution_count": 87,
   "metadata": {},
   "outputs": [],
   "source": [
    "import syft as sy"
   ]
  },
  {
   "cell_type": "code",
   "execution_count": 88,
   "metadata": {},
   "outputs": [],
   "source": [
    "hook = sy.TorchHook(th)"
   ]
  },
  {
   "cell_type": "code",
   "execution_count": 89,
   "metadata": {},
   "outputs": [
    {
     "data": {
      "text/plain": [
       "tensor([1, 2, 3, 4, 5])"
      ]
     },
     "execution_count": 89,
     "metadata": {},
     "output_type": "execute_result"
    }
   ],
   "source": [
    "th.tensor([1,2,3,4,5])"
   ]
  },
  {
   "cell_type": "code",
   "execution_count": 90,
   "metadata": {},
   "outputs": [],
   "source": [
    "bob = sy.VirtualWorker(hook, id=\"bob\")"
   ]
  },
  {
   "cell_type": "code",
   "execution_count": 91,
   "metadata": {},
   "outputs": [
    {
     "data": {
      "text/plain": [
       "{21868166705: <Plan Plan id:21868166705 owner:bob Tags: #fss_eq_plan_1 built>,\n",
       " 77778314398: <Plan Plan id:77778314398 owner:bob Tags: #fss_eq_plan_2 built>,\n",
       " 67081172097: <Plan Plan id:67081172097 owner:bob Tags: #fss_comp_plan_1 built>,\n",
       " 2952485648: <Plan Plan id:2952485648 owner:bob Tags: #fss_comp_plan_2 built>,\n",
       " 34072316813: <Plan Plan id:34072316813 owner:bob Tags: #xor_add_1 built>,\n",
       " 27915031091: <Plan Plan id:27915031091 owner:bob Tags: #xor_add_2 built>}"
      ]
     },
     "execution_count": 91,
     "metadata": {},
     "output_type": "execute_result"
    }
   ],
   "source": [
    "bob._objects"
   ]
  },
  {
   "cell_type": "code",
   "execution_count": 92,
   "metadata": {},
   "outputs": [],
   "source": [
    "x = th.tensor([1,2,3,4,5])"
   ]
  },
  {
   "cell_type": "code",
   "execution_count": 93,
   "metadata": {},
   "outputs": [],
   "source": [
    "x = x.send(bob)"
   ]
  },
  {
   "cell_type": "code",
   "execution_count": 94,
   "metadata": {},
   "outputs": [
    {
     "data": {
      "text/plain": [
       "{21868166705: <Plan Plan id:21868166705 owner:bob Tags: #fss_eq_plan_1 built>,\n",
       " 77778314398: <Plan Plan id:77778314398 owner:bob Tags: #fss_eq_plan_2 built>,\n",
       " 67081172097: <Plan Plan id:67081172097 owner:bob Tags: #fss_comp_plan_1 built>,\n",
       " 2952485648: <Plan Plan id:2952485648 owner:bob Tags: #fss_comp_plan_2 built>,\n",
       " 34072316813: <Plan Plan id:34072316813 owner:bob Tags: #xor_add_1 built>,\n",
       " 27915031091: <Plan Plan id:27915031091 owner:bob Tags: #xor_add_2 built>,\n",
       " 37219026889: tensor([1, 2, 3, 4, 5])}"
      ]
     },
     "execution_count": 94,
     "metadata": {},
     "output_type": "execute_result"
    }
   ],
   "source": [
    "bob._objects"
   ]
  },
  {
   "cell_type": "code",
   "execution_count": 97,
   "metadata": {},
   "outputs": [
    {
     "data": {
      "text/plain": [
       "True"
      ]
     },
     "execution_count": 97,
     "metadata": {},
     "output_type": "execute_result"
    }
   ],
   "source": [
    "x.location == bob"
   ]
  },
  {
   "cell_type": "code",
   "execution_count": 98,
   "metadata": {},
   "outputs": [
    {
     "data": {
      "text/plain": [
       "37219026889"
      ]
     },
     "execution_count": 98,
     "metadata": {},
     "output_type": "execute_result"
    }
   ],
   "source": [
    "x.id_at_location"
   ]
  },
  {
   "cell_type": "code",
   "execution_count": 100,
   "metadata": {},
   "outputs": [
    {
     "data": {
      "text/plain": [
       "97159730238"
      ]
     },
     "execution_count": 100,
     "metadata": {},
     "output_type": "execute_result"
    }
   ],
   "source": [
    "x.id"
   ]
  },
  {
   "cell_type": "code",
   "execution_count": 102,
   "metadata": {},
   "outputs": [
    {
     "data": {
      "text/plain": [
       "<VirtualWorker id:me #objects:0>"
      ]
     },
     "execution_count": 102,
     "metadata": {},
     "output_type": "execute_result"
    }
   ],
   "source": [
    "x.owner"
   ]
  },
  {
   "cell_type": "code",
   "execution_count": 103,
   "metadata": {},
   "outputs": [
    {
     "data": {
      "text/plain": [
       "<VirtualWorker id:me #objects:0>"
      ]
     },
     "execution_count": 103,
     "metadata": {},
     "output_type": "execute_result"
    }
   ],
   "source": [
    "hook.local_worker"
   ]
  },
  {
   "cell_type": "code",
   "execution_count": 104,
   "metadata": {},
   "outputs": [
    {
     "data": {
      "text/plain": [
       "tensor([1, 2, 3, 4, 5])"
      ]
     },
     "execution_count": 104,
     "metadata": {},
     "output_type": "execute_result"
    }
   ],
   "source": [
    "x = x.get()\n",
    "x"
   ]
  },
  {
   "cell_type": "code",
   "execution_count": 106,
   "metadata": {},
   "outputs": [
    {
     "data": {
      "text/plain": [
       "{21868166705: <Plan Plan id:21868166705 owner:bob Tags: #fss_eq_plan_1 built>,\n",
       " 77778314398: <Plan Plan id:77778314398 owner:bob Tags: #fss_eq_plan_2 built>,\n",
       " 67081172097: <Plan Plan id:67081172097 owner:bob Tags: #fss_comp_plan_1 built>,\n",
       " 2952485648: <Plan Plan id:2952485648 owner:bob Tags: #fss_comp_plan_2 built>,\n",
       " 34072316813: <Plan Plan id:34072316813 owner:bob Tags: #xor_add_1 built>,\n",
       " 27915031091: <Plan Plan id:27915031091 owner:bob Tags: #xor_add_2 built>}"
      ]
     },
     "execution_count": 106,
     "metadata": {},
     "output_type": "execute_result"
    }
   ],
   "source": [
    "bob._objects"
   ]
  },
  {
   "cell_type": "code",
   "execution_count": 107,
   "metadata": {},
   "outputs": [],
   "source": [
    "# Playing with remote tensors "
   ]
  },
  {
   "cell_type": "code",
   "execution_count": 119,
   "metadata": {},
   "outputs": [],
   "source": [
    "alice = sy.VirtualWorker(hook, id=\"alice\")"
   ]
  },
  {
   "cell_type": "code",
   "execution_count": 120,
   "metadata": {},
   "outputs": [],
   "source": [
    "x = th.tensor([1,2,3,4,5])"
   ]
  },
  {
   "cell_type": "code",
   "execution_count": 121,
   "metadata": {},
   "outputs": [],
   "source": [
    "x_ptr = x.send(bob, alice)"
   ]
  },
  {
   "cell_type": "code",
   "execution_count": 122,
   "metadata": {},
   "outputs": [
    {
     "data": {
      "text/plain": [
       "(Wrapper)>[MultiPointerTensor]\n",
       "\t-> [PointerTensor | me:28232631285 -> bob:62863944882]\n",
       "\t-> [PointerTensor | me:8851392406 -> alice:62863944882]"
      ]
     },
     "execution_count": 122,
     "metadata": {},
     "output_type": "execute_result"
    }
   ],
   "source": [
    "x_ptr"
   ]
  },
  {
   "cell_type": "code",
   "execution_count": 123,
   "metadata": {},
   "outputs": [
    {
     "data": {
      "text/plain": [
       "{'bob': [PointerTensor | me:28232631285 -> bob:62863944882],\n",
       " 'alice': [PointerTensor | me:8851392406 -> alice:62863944882]}"
      ]
     },
     "execution_count": 123,
     "metadata": {},
     "output_type": "execute_result"
    }
   ],
   "source": [
    "x_ptr.child.child"
   ]
  },
  {
   "cell_type": "code",
   "execution_count": 124,
   "metadata": {},
   "outputs": [
    {
     "data": {
      "text/plain": [
       "[tensor([1, 2, 3, 4, 5]), tensor([1, 2, 3, 4, 5])]"
      ]
     },
     "execution_count": 124,
     "metadata": {},
     "output_type": "execute_result"
    }
   ],
   "source": [
    "x_ptr.get()"
   ]
  },
  {
   "cell_type": "code",
   "execution_count": 128,
   "metadata": {},
   "outputs": [],
   "source": [
    "x = th.tensor([1,2,3,4,5]).send(bob,alice)"
   ]
  },
  {
   "cell_type": "code",
   "execution_count": 129,
   "metadata": {},
   "outputs": [
    {
     "data": {
      "text/plain": [
       "tensor([ 2,  4,  6,  8, 10])"
      ]
     },
     "execution_count": 129,
     "metadata": {},
     "output_type": "execute_result"
    }
   ],
   "source": [
    "x.get(sum_results=True)"
   ]
  },
  {
   "cell_type": "code",
   "execution_count": 130,
   "metadata": {},
   "outputs": [],
   "source": [
    "# Remote Arithmetic"
   ]
  },
  {
   "cell_type": "code",
   "execution_count": null,
   "metadata": {},
   "outputs": [],
   "source": []
  }
 ],
 "metadata": {
  "kernelspec": {
   "display_name": "Python 3",
   "language": "python",
   "name": "python3"
  },
  "language_info": {
   "codemirror_mode": {
    "name": "ipython",
    "version": 3
   },
   "file_extension": ".py",
   "mimetype": "text/x-python",
   "name": "python",
   "nbconvert_exporter": "python",
   "pygments_lexer": "ipython3",
   "version": "3.8.2"
  }
 },
 "nbformat": 4,
 "nbformat_minor": 4
}
